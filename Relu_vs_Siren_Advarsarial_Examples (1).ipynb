{
  "nbformat": 4,
  "nbformat_minor": 0,
  "metadata": {
    "colab": {
      "provenance": [],
      "gpuType": "T4"
    },
    "kernelspec": {
      "name": "python3",
      "display_name": "Python 3"
    },
    "language_info": {
      "name": "python"
    },
    "accelerator": "GPU"
  },
  "cells": [
    {
      "cell_type": "code",
      "execution_count": 1,
      "metadata": {
        "id": "fSMtBcP2qxr8"
      },
      "outputs": [],
      "source": [
        "# Imports\n",
        "import torch\n",
        "import torch.nn.functional as F  # Parameterless functions, like (some) activation functions\n",
        "import torchvision.datasets as datasets  # Standard datasets\n",
        "import torchvision.transforms as transforms  # Transformations we can perform on our dataset for augmentation\n",
        "from torch import optim  # For optimizers like SGD, Adam, etc.\n",
        "from torch import nn  # All neural network modules\n",
        "from torch.utils.data import (\n",
        "    DataLoader,\n",
        ")  # Gives easier dataset managment by creating mini batches etc.\n",
        "from tqdm import tqdm  # For nice progress bar!\n",
        "import numpy as np"
      ]
    },
    {
      "cell_type": "code",
      "source": [
        "# Simple CNN\n",
        "class CNN(nn.Module):\n",
        "    def __init__(self, in_channels=1, num_classes=10):\n",
        "        super(CNN, self).__init__()\n",
        "        self.conv1 = nn.Conv2d(\n",
        "            in_channels=in_channels,\n",
        "            out_channels=8,\n",
        "            kernel_size=3,\n",
        "            stride=1,\n",
        "            padding=1,\n",
        "        )\n",
        "        self.pool = nn.MaxPool2d(kernel_size=2, stride=2)\n",
        "        self.conv2 = nn.Conv2d(\n",
        "            in_channels=8,\n",
        "            out_channels=16,\n",
        "            kernel_size=3,\n",
        "            stride=1,\n",
        "            padding=1,\n",
        "        )\n",
        "        self.fc1 = nn.Linear(16 * 7 * 7, 250) # replace this with siren.\n",
        "        self.fc2 = nn.Linear(250,250)\n",
        "        self.fc3 = nn.Linear(250, num_classes)\n",
        "\n",
        "    def forward(self, x):\n",
        "        x = F.relu(self.conv1(x))\n",
        "        x = self.pool(x)\n",
        "        x = F.relu(self.conv2(x))\n",
        "        x = self.pool(x)\n",
        "        x = x.reshape(x.shape[0], -1)\n",
        "        x = F.relu(self.fc1(x)) # replace this with siren.\n",
        "        x = F.relu(self.fc2(x))\n",
        "        x = self.fc2(x)\n",
        "        return x"
      ],
      "metadata": {
        "id": "f3HTI_QWti2L"
      },
      "execution_count": 2,
      "outputs": []
    },
    {
      "cell_type": "code",
      "source": [
        "device = torch.device('cuda')\n",
        "# Hyperparameters\n",
        "in_channels = 1\n",
        "num_classes = 10\n",
        "learning_rate = 3e-4 # karpathy's constant\n",
        "batch_size = 64\n",
        "num_epochs = 3"
      ],
      "metadata": {
        "id": "h92OeqaGtmtS"
      },
      "execution_count": 3,
      "outputs": []
    },
    {
      "cell_type": "code",
      "source": [
        "# Load Data\n",
        "train_dataset = datasets.MNIST(\n",
        "    root=\"dataset/\", train=True, transform=transforms.ToTensor(), download=True\n",
        ")\n",
        "test_dataset = datasets.MNIST(\n",
        "    root=\"dataset/\", train=False, transform=transforms.ToTensor(), download=True\n",
        ")\n",
        "train_loader = DataLoader(dataset=train_dataset, batch_size=batch_size, shuffle=True)\n",
        "test_loader = DataLoader(dataset=test_dataset, batch_size=batch_size, shuffle=True)"
      ],
      "metadata": {
        "colab": {
          "base_uri": "https://localhost:8080/"
        },
        "id": "X416nHtotp48",
        "outputId": "fe2ea4d7-ebec-4ecf-c5f8-742456d3e6b4"
      },
      "execution_count": 4,
      "outputs": [
        {
          "output_type": "stream",
          "name": "stdout",
          "text": [
            "Downloading http://yann.lecun.com/exdb/mnist/train-images-idx3-ubyte.gz\n",
            "Downloading http://yann.lecun.com/exdb/mnist/train-images-idx3-ubyte.gz to dataset/MNIST/raw/train-images-idx3-ubyte.gz\n"
          ]
        },
        {
          "output_type": "stream",
          "name": "stderr",
          "text": [
            "100%|██████████| 9912422/9912422 [00:00<00:00, 122718236.21it/s]\n"
          ]
        },
        {
          "output_type": "stream",
          "name": "stdout",
          "text": [
            "Extracting dataset/MNIST/raw/train-images-idx3-ubyte.gz to dataset/MNIST/raw\n",
            "\n",
            "Downloading http://yann.lecun.com/exdb/mnist/train-labels-idx1-ubyte.gz\n",
            "Downloading http://yann.lecun.com/exdb/mnist/train-labels-idx1-ubyte.gz to dataset/MNIST/raw/train-labels-idx1-ubyte.gz\n"
          ]
        },
        {
          "output_type": "stream",
          "name": "stderr",
          "text": [
            "100%|██████████| 28881/28881 [00:00<00:00, 39664601.78it/s]\n"
          ]
        },
        {
          "output_type": "stream",
          "name": "stdout",
          "text": [
            "Extracting dataset/MNIST/raw/train-labels-idx1-ubyte.gz to dataset/MNIST/raw\n",
            "\n",
            "Downloading http://yann.lecun.com/exdb/mnist/t10k-images-idx3-ubyte.gz\n",
            "Downloading http://yann.lecun.com/exdb/mnist/t10k-images-idx3-ubyte.gz to dataset/MNIST/raw/t10k-images-idx3-ubyte.gz\n"
          ]
        },
        {
          "output_type": "stream",
          "name": "stderr",
          "text": [
            "100%|██████████| 1648877/1648877 [00:00<00:00, 25626086.69it/s]\n"
          ]
        },
        {
          "output_type": "stream",
          "name": "stdout",
          "text": [
            "Extracting dataset/MNIST/raw/t10k-images-idx3-ubyte.gz to dataset/MNIST/raw\n",
            "\n",
            "Downloading http://yann.lecun.com/exdb/mnist/t10k-labels-idx1-ubyte.gz\n",
            "Downloading http://yann.lecun.com/exdb/mnist/t10k-labels-idx1-ubyte.gz to dataset/MNIST/raw/t10k-labels-idx1-ubyte.gz\n"
          ]
        },
        {
          "output_type": "stream",
          "name": "stderr",
          "text": [
            "100%|██████████| 4542/4542 [00:00<00:00, 19990061.67it/s]\n"
          ]
        },
        {
          "output_type": "stream",
          "name": "stdout",
          "text": [
            "Extracting dataset/MNIST/raw/t10k-labels-idx1-ubyte.gz to dataset/MNIST/raw\n",
            "\n"
          ]
        }
      ]
    },
    {
      "cell_type": "code",
      "source": [
        "# Initialize network\n",
        "model_relu = CNN(in_channels=in_channels, num_classes=num_classes).to(device)\n",
        "\n",
        "# Loss and optimizer\n",
        "criterion = nn.CrossEntropyLoss()\n",
        "optimizer = optim.Adam(model_relu.parameters(), lr=learning_rate)"
      ],
      "metadata": {
        "id": "JC-MTFrKtro6"
      },
      "execution_count": 5,
      "outputs": []
    },
    {
      "cell_type": "code",
      "source": [
        "# Train Network\n",
        "for epoch in range(num_epochs):\n",
        "    for batch_idx, (data, targets) in enumerate(tqdm(train_loader)):\n",
        "        # Get data to cuda if possible\n",
        "        data = data.to(device=device)\n",
        "        targets = targets.to(device=device)\n",
        "\n",
        "        # forward\n",
        "        scores = model_relu(data)\n",
        "        loss = criterion(scores, targets)\n",
        "\n",
        "        # backward\n",
        "        optimizer.zero_grad()\n",
        "        loss.backward()\n",
        "\n",
        "        # gradient descent or adam step\n",
        "        optimizer.step()"
      ],
      "metadata": {
        "colab": {
          "base_uri": "https://localhost:8080/"
        },
        "id": "Ck0Qxb2jtteo",
        "outputId": "0b1db280-a799-4153-f91d-161488247768"
      },
      "execution_count": 6,
      "outputs": [
        {
          "output_type": "stream",
          "name": "stderr",
          "text": [
            "100%|██████████| 938/938 [00:10<00:00, 89.70it/s] \n",
            "100%|██████████| 938/938 [00:09<00:00, 103.76it/s]\n",
            "100%|██████████| 938/938 [00:08<00:00, 105.45it/s]\n"
          ]
        }
      ]
    },
    {
      "cell_type": "code",
      "source": [
        "# Check accuracy on training & test to see how good our model\n",
        "def check_accuracy(loader, model):\n",
        "    num_correct = 0\n",
        "    num_samples = 0\n",
        "    model.eval()\n",
        "\n",
        "    with torch.no_grad():\n",
        "        for x, y in loader:\n",
        "            x = x.to(device=device)\n",
        "            y = y.to(device=device)\n",
        "\n",
        "            scores = model(x)\n",
        "            _, predictions = scores.max(1)\n",
        "            num_correct += (predictions == y).sum()\n",
        "            num_samples += predictions.size(0)\n",
        "\n",
        "    model.train()\n",
        "    return num_correct / num_samples\n",
        "\n",
        "\n",
        "print(f\"Accuracy on training set: {check_accuracy(train_loader, model_relu)*100:.2f}\")\n",
        "print(f\"Accuracy on test set: {check_accuracy(test_loader, model_relu)*100:.2f}\")"
      ],
      "metadata": {
        "colab": {
          "base_uri": "https://localhost:8080/"
        },
        "id": "hmH0m1A6tu7W",
        "outputId": "f80378c9-82b5-481f-95f9-8358b81d7010"
      },
      "execution_count": 7,
      "outputs": [
        {
          "output_type": "stream",
          "name": "stdout",
          "text": [
            "Accuracy on training set: 96.36\n",
            "Accuracy on test set: 96.54\n"
          ]
        }
      ]
    },
    {
      "cell_type": "code",
      "source": [
        "def compute_gradient (func,inp, **kwargs):\n",
        "    inp.requires_grad = True\n",
        "    loss = func(inp, **kwargs)\n",
        "    loss.backward()\n",
        "    inp.requires_grad = False\n",
        "    return inp.grad.data"
      ],
      "metadata": {
        "id": "9v72MFWhtwve"
      },
      "execution_count": 8,
      "outputs": []
    },
    {
      "cell_type": "code",
      "source": [
        "def func(inp, model = None, target = None):\n",
        "    out = model(inp)\n",
        "    loss = torch.nn.functional.nll_loss(out,torch.LongTensor([target]).to(device))\n",
        "    #print(f\"Loss:  {loss.item()}\")\n",
        "    return loss"
      ],
      "metadata": {
        "id": "c0EJdV3utyIC"
      },
      "execution_count": 9,
      "outputs": []
    },
    {
      "cell_type": "code",
      "source": [
        "def fgsm (tensor, model, eps = 1e-3):\n",
        "  new_tensor = tensor.unsqueeze(0).detach().clone()\n",
        "  new_tensor = new_tensor.to(device=device)\n",
        "  orig_prediction = model(new_tensor).argmax()\n",
        "\n",
        "  model.zero_grad()\n",
        "  grad = compute_gradient(func, new_tensor, model = model, target = orig_prediction.item())\n",
        "  new_tensor = new_tensor + eps*grad.sign()\n",
        "  new_prediction = model(new_tensor).argmax()\n",
        "\n",
        "  return new_tensor, new_prediction"
      ],
      "metadata": {
        "id": "m8An2oUWuez-"
      },
      "execution_count": 10,
      "outputs": []
    },
    {
      "cell_type": "code",
      "source": [
        "def pgd_linf (tensor, model, eps = 1e-3, step_size = 1e4, n_iter = 40):\n",
        "  new_tensor = tensor.unsqueeze(0).detach().clone()\n",
        "  new_tensor = new_tensor.to(device=device)\n",
        "  noise = torch.zeros_like(new_tensor)\n",
        "  orig_prediction = model(new_tensor).argmax()\n",
        "\n",
        "  for i in range(n_iter):\n",
        "    model.zero_grad()\n",
        "    grad = compute_gradient(func, new_tensor+noise, model = model, target = orig_prediction.item())\n",
        "    noise = torch.clamp(noise+step_size*grad.sign(), -1*eps,eps)\n",
        "\n",
        "\n",
        "  new_prediction = model(new_tensor+noise).argmax()\n",
        "\n",
        "  return new_tensor+noise, new_prediction"
      ],
      "metadata": {
        "id": "CIobSW04I3dJ"
      },
      "execution_count": 11,
      "outputs": []
    },
    {
      "cell_type": "code",
      "source": [
        "def norms(Z):\n",
        "  return Z.view(Z.shape[0], -1).norm(dim=1)[:,None,None,None]\n",
        "\n",
        "def pgd_l2 (tensor, model, eps = 1e-3, step_size = 1e4, n_iter = 40):\n",
        "  new_tensor = tensor.unsqueeze(0).detach().clone()\n",
        "  new_tensor = new_tensor.to(device=device)\n",
        "  noise = torch.zeros_like(new_tensor)\n",
        "  orig_prediction = model(new_tensor).argmax()\n",
        "\n",
        "  for i in range(n_iter):\n",
        "    model.zero_grad()\n",
        "    grad = compute_gradient(func, new_tensor+noise, model = model, target = orig_prediction.item())\n",
        "    noise += step_size*grad.detach()/norms(grad.detach())\n",
        "    noise = torch.min(torch.max(noise.detach(), -new_tensor), 1-new_tensor)\n",
        "    noise *= eps/norms(noise.detach()).clamp(min = eps)\n",
        "\n",
        "  new_prediction = model(new_tensor+noise).argmax()\n",
        "\n",
        "  return new_tensor+noise, new_prediction\n"
      ],
      "metadata": {
        "id": "YGzZH0Ccqfwx"
      },
      "execution_count": 27,
      "outputs": []
    },
    {
      "cell_type": "code",
      "source": [
        "def attack (tensor, model, eps = 1e-3, n_iter = 5000):\n",
        "    number = 5000\n",
        "    new_tensor = tensor.unsqueeze(0).detach().clone()\n",
        "    new_tensor = new_tensor.to(device = device)\n",
        "    orig_prediction = model(new_tensor).argmax()\n",
        "    #print(f\"Original Prediction: {orig_prediction.item()}\")\n",
        "\n",
        "    for i in tqdm(range(n_iter)):\n",
        "        model.zero_grad()\n",
        "\n",
        "        grad = compute_gradient(func, new_tensor, model = model, target = orig_prediction.item())\n",
        "        #new_tensor = torch.clamp(new_tensor + eps * grad.sign(), -2, 2)\n",
        "        new_tensor = new_tensor + eps * grad.sign()\n",
        "        new_prediction = model(new_tensor).argmax()\n",
        "\n",
        "        if new_prediction != orig_prediction:\n",
        "            #print(f\"New Prediction: {new_prediction.item()}\")\n",
        "            number = i\n",
        "            break\n",
        "    return number"
      ],
      "metadata": {
        "id": "4nNnkoyJtzfQ"
      },
      "execution_count": 13,
      "outputs": []
    },
    {
      "cell_type": "code",
      "source": [
        "num1 = attack(train_dataset[0][0], model_relu)\n",
        "num1"
      ],
      "metadata": {
        "colab": {
          "base_uri": "https://localhost:8080/"
        },
        "id": "GiqzeotMt0_G",
        "outputId": "d6a66098-a023-4d7b-f700-5fea69b8637a"
      },
      "execution_count": 12,
      "outputs": [
        {
          "output_type": "stream",
          "name": "stderr",
          "text": [
            "  1%|          | 42/5000 [00:00<00:21, 232.18it/s]\n"
          ]
        },
        {
          "output_type": "execute_result",
          "data": {
            "text/plain": [
              "42"
            ]
          },
          "metadata": {},
          "execution_count": 12
        }
      ]
    },
    {
      "cell_type": "code",
      "source": [
        "# now its time for siren.\n",
        "class SineLayer(nn.Module):\n",
        "    # See paper sec. 3.2, final paragraph, and supplement Sec. 1.5 for discussion of omega_0.\n",
        "\n",
        "    # If is_first=True, omega_0 is a frequency factor which simply multiplies the activations before the\n",
        "    # nonlinearity. Different signals may require different omega_0 in the first layer - this is a\n",
        "    # hyperparameter.\n",
        "\n",
        "    # If is_first=False, then the weights will be divided by omega_0 so as to keep the magnitude of\n",
        "    # activations constant, but boost gradients to the weight matrix (see supplement Sec. 1.5)\n",
        "\n",
        "    def __init__(self, in_features, out_features, bias=True,\n",
        "                 is_first=False, omega_0=30,is_linear = False):\n",
        "        super().__init__()\n",
        "        self.omega_0 = omega_0\n",
        "        self.is_first = is_first\n",
        "        self.is_linear = is_linear\n",
        "        self.in_features = in_features\n",
        "        self.linear = nn.Linear(in_features, out_features, bias=bias)\n",
        "\n",
        "        self.init_weights()\n",
        "\n",
        "    def init_weights(self):\n",
        "        with torch.no_grad():\n",
        "            if self.is_first:\n",
        "                self.linear.weight.uniform_(-1 / self.in_features,\n",
        "                                             1 / self.in_features)\n",
        "            else:\n",
        "                self.linear.weight.uniform_(-np.sqrt(6 / self.in_features) / self.omega_0,\n",
        "                                             np.sqrt(6 / self.in_features) / self.omega_0)\n",
        "\n",
        "    def forward(self, input):\n",
        "        if self.is_linear:\n",
        "          return (self.omega_0 * self.linear(input))\n",
        "        return torch.sin(self.omega_0 * self.linear(input))\n",
        "\n",
        "    def forward_with_intermediate(self, input):\n",
        "        # For visualization of activation distributions\n",
        "        intermediate = self.omega_0 * self.linear(input)\n",
        "        return torch.sin(intermediate), intermediate\n",
        "\n",
        "\n",
        "class Siren(nn.Module):\n",
        "    def __init__(self, in_features, hidden_features, hidden_layers, out_features, outermost_linear=False,\n",
        "                 first_omega_0=30, hidden_omega_0=30.):\n",
        "        super().__init__()\n",
        "\n",
        "        self.net = []\n",
        "        self.net.append(SineLayer(in_features, hidden_features,\n",
        "                                  is_first=True, omega_0=first_omega_0))\n",
        "\n",
        "        for i in range(hidden_layers):\n",
        "            self.net.append(SineLayer(hidden_features, hidden_features,\n",
        "                                      is_first=False, omega_0=hidden_omega_0))\n",
        "\n",
        "        if outermost_linear:\n",
        "            final_linear = nn.Linear(hidden_features, out_features)\n",
        "\n",
        "            with torch.no_grad():\n",
        "                final_linear.weight.uniform_(-np.sqrt(6 / hidden_features) / hidden_omega_0,\n",
        "                                              np.sqrt(6 / hidden_features) / hidden_omega_0)\n",
        "\n",
        "            self.net.append(final_linear)\n",
        "        else:\n",
        "            self.net.append(SineLayer(hidden_features, out_features,\n",
        "                                      is_first=False, omega_0=hidden_omega_0))\n",
        "\n",
        "        self.net = nn.Sequential(*self.net)\n",
        "\n",
        "    def forward(self, coords):\n",
        "        coords = coords.clone().detach().requires_grad_(True) # allows to take derivative w.r.t. input\n",
        "        output = self.net(coords)\n",
        "        return output, coords\n",
        "\n",
        "    def forward_with_activations(self, coords, retain_grad=False):\n",
        "        '''Returns not only model output, but also intermediate activations.\n",
        "        Only used for visualizing activations later!'''\n",
        "        activations = OrderedDict()\n",
        "\n",
        "        activation_count = 0\n",
        "        x = coords.clone().detach().requires_grad_(True)\n",
        "        activations['input'] = x\n",
        "        for i, layer in enumerate(self.net):\n",
        "            if isinstance(layer, SineLayer):\n",
        "                x, intermed = layer.forward_with_intermediate(x)\n",
        "\n",
        "                if retain_grad:\n",
        "                    x.retain_grad()\n",
        "                    intermed.retain_grad()\n",
        "\n",
        "                activations['_'.join((str(layer.__class__), \"%d\" % activation_count))] = intermed\n",
        "                activation_count += 1\n",
        "            else:\n",
        "                x = layer(x)\n",
        "\n",
        "                if retain_grad:\n",
        "                    x.retain_grad()\n",
        "\n",
        "            activations['_'.join((str(layer.__class__), \"%d\" % activation_count))] = x\n",
        "            activation_count += 1\n",
        "\n",
        "        return activations"
      ],
      "metadata": {
        "id": "GHymag1it2gP"
      },
      "execution_count": 14,
      "outputs": []
    },
    {
      "cell_type": "code",
      "source": [
        "# Simple CNN\n",
        "class siren_updated_CNN(nn.Module):\n",
        "    def __init__(self, in_channels=1, num_classes=10):\n",
        "        super(siren_updated_CNN, self).__init__()\n",
        "        self.conv1 = nn.Conv2d(\n",
        "            in_channels=in_channels,\n",
        "            out_channels=8,\n",
        "            kernel_size=3,\n",
        "            stride=1,\n",
        "            padding=1,\n",
        "        )\n",
        "        self.pool = nn.MaxPool2d(kernel_size=2, stride=2)\n",
        "        self.conv2 = nn.Conv2d(\n",
        "            in_channels=8,\n",
        "            out_channels=16,\n",
        "            kernel_size=3,\n",
        "            stride=1,\n",
        "            padding=1,\n",
        "        )\n",
        "        #self.fc1 = nn.Linear(16 * 7 * 7, 250) # replace this with siren.\n",
        "        self.fc1 = SineLayer(16 * 7 * 7, 250, is_first=True, omega_0=30)\n",
        "        self.fc2 = SineLayer(250, 250, is_first=False, omega_0=30)\n",
        "        self.fc3 = SineLayer(250,num_classes, is_first = False)\n",
        "\n",
        "    def forward(self, x):\n",
        "        x = F.relu(self.conv1(x))\n",
        "        x = self.pool(x)\n",
        "        x = F.relu(self.conv2(x))\n",
        "        x = self.pool(x)\n",
        "        x = x.reshape(x.shape[0], -1)\n",
        "        #x = F.relu(self.fc1(x)) # replace this with siren.\n",
        "        x = self.fc1(x)\n",
        "        x = self.fc2(x)\n",
        "        x = self.fc3(x)\n",
        "        return x"
      ],
      "metadata": {
        "id": "wVlSGGuMt77I"
      },
      "execution_count": 15,
      "outputs": []
    },
    {
      "cell_type": "code",
      "source": [
        "# Initialize network\n",
        "model_siren_updated = siren_updated_CNN(in_channels=in_channels, num_classes=num_classes).to(device)\n",
        "\n",
        "# Loss and optimizer\n",
        "criterion = nn.CrossEntropyLoss()\n",
        "optimizer = optim.Adam(model_siren_updated.parameters(), lr=learning_rate)"
      ],
      "metadata": {
        "id": "vpq5Yc7MuCG9"
      },
      "execution_count": 16,
      "outputs": []
    },
    {
      "cell_type": "code",
      "source": [
        "# Train Network\n",
        "for epoch in range(num_epochs):\n",
        "    for batch_idx, (data, targets) in enumerate(tqdm(train_loader)):\n",
        "        # Get data to cuda if possible\n",
        "        data = data.to(device=device)\n",
        "        targets = targets.to(device=device)\n",
        "\n",
        "        # forward\n",
        "        scores = model_siren_updated(data)\n",
        "        loss = criterion(scores, targets)\n",
        "\n",
        "        # backward\n",
        "        optimizer.zero_grad()\n",
        "        loss.backward()\n",
        "\n",
        "        # gradient descent or adam step\n",
        "        optimizer.step()"
      ],
      "metadata": {
        "colab": {
          "base_uri": "https://localhost:8080/"
        },
        "id": "R3DQD5-NuDtE",
        "outputId": "feb278d8-8f43-464e-a7c3-c492c18441d0"
      },
      "execution_count": 17,
      "outputs": [
        {
          "output_type": "stream",
          "name": "stderr",
          "text": [
            "100%|██████████| 938/938 [00:09<00:00, 100.88it/s]\n",
            "100%|██████████| 938/938 [00:09<00:00, 103.86it/s]\n",
            "100%|██████████| 938/938 [00:09<00:00, 101.15it/s]\n"
          ]
        }
      ]
    },
    {
      "cell_type": "code",
      "source": [
        "print(f\"Accuracy on training set: {check_accuracy(train_loader, model_siren_updated)*100:.2f}\")\n",
        "print(f\"Accuracy on test set: {check_accuracy(test_loader, model_siren_updated)*100:.2f}\")"
      ],
      "metadata": {
        "colab": {
          "base_uri": "https://localhost:8080/"
        },
        "id": "5XY2r0BIuF5b",
        "outputId": "49eb85a5-5a7f-4c68-d7e5-8ae627274fff"
      },
      "execution_count": 18,
      "outputs": [
        {
          "output_type": "stream",
          "name": "stdout",
          "text": [
            "Accuracy on training set: 98.06\n",
            "Accuracy on test set: 97.56\n"
          ]
        }
      ]
    },
    {
      "cell_type": "code",
      "source": [
        "num1 = attack(train_dataset[0][0], model_siren_updated)\n",
        "num1"
      ],
      "metadata": {
        "colab": {
          "base_uri": "https://localhost:8080/"
        },
        "id": "d5CAQPkkuHKY",
        "outputId": "ef1259a0-a218-42ea-cc13-3b4fc09ce0e5"
      },
      "execution_count": 18,
      "outputs": [
        {
          "output_type": "stream",
          "name": "stderr",
          "text": [
            "100%|██████████| 5000/5000 [00:11<00:00, 428.39it/s]\n"
          ]
        },
        {
          "output_type": "execute_result",
          "data": {
            "text/plain": [
              "5000"
            ]
          },
          "metadata": {},
          "execution_count": 18
        }
      ]
    },
    {
      "cell_type": "code",
      "source": [
        "def new_compute_avg_n_iter_test (model_1, model_2):\n",
        "    sum_1 = 0\n",
        "    sum_2 = 0\n",
        "    counter = 0\n",
        "    i = 0\n",
        "    while(counter<100):\n",
        "        model_1_prediction = model_1(test_dataset[i][0].unsqueeze(0).to(device)).argmax()\n",
        "        model_2_prediction = model_2(test_dataset[i][0].unsqueeze(0).to(device)).argmax()\n",
        "        actual = test_dataset[i][1]\n",
        "        print(counter)\n",
        "        if (model_1_prediction == actual and model_2_prediction == actual):\n",
        "            sum_1 += attack(test_dataset[i][0], model_1)\n",
        "            sum_2 += attack(test_dataset[i][0], model_2)\n",
        "            counter += 1\n",
        "        i += 1\n",
        "    return sum_1/100, sum_2/100"
      ],
      "metadata": {
        "id": "LEkN8lTRuJJP"
      },
      "execution_count": 19,
      "outputs": []
    },
    {
      "cell_type": "code",
      "source": [
        "def fgsm_accuracy (model_1, model_2):\n",
        "  sum_1 = 0\n",
        "  sum_2 = 0\n",
        "  counter = 0\n",
        "  i = 0\n",
        "  while(counter<100):\n",
        "    model_1_prediction = model_1(test_dataset[i][0].unsqueeze(0).to(device)).argmax()\n",
        "    model_2_prediction = model_2(test_dataset[i][0].unsqueeze(0).to(device)).argmax()\n",
        "    actual = test_dataset[i][1]\n",
        "    if (model_1_prediction == actual and model_2_prediction == actual):\n",
        "            counter += 1\n",
        "            model_1_fgsm, model_1_prediction_new = fgsm(test_dataset[i][0], model_1, eps = 0.15)\n",
        "            model_2_fgsm, model_2_prediction_new = fgsm(test_dataset[i][0], model_2, eps = 0.15)\n",
        "            if (model_1_prediction_new == actual):\n",
        "              sum_1 += 1\n",
        "            if (model_2_prediction_new == actual):\n",
        "              sum_2 += 1\n",
        "    i += 1\n",
        "  return sum_1, sum_2"
      ],
      "metadata": {
        "id": "g9SpMbcCwXAW"
      },
      "execution_count": 20,
      "outputs": []
    },
    {
      "cell_type": "code",
      "source": [
        "def pgd_linf_accuracy (model_1, model_2):\n",
        "  sum_1 = 0\n",
        "  sum_2 = 0\n",
        "  counter = 0\n",
        "  i = 0\n",
        "  while(counter<100):\n",
        "    model_1_prediction = model_1(test_dataset[i][0].unsqueeze(0).to(device)).argmax()\n",
        "    model_2_prediction = model_2(test_dataset[i][0].unsqueeze(0).to(device)).argmax()\n",
        "    actual = test_dataset[i][1]\n",
        "    if (model_1_prediction == actual and model_2_prediction == actual):\n",
        "            counter += 1\n",
        "            model_1_fgsm, model_1_prediction_new = pgd_linf(test_dataset[i][0], model_1, eps = 0.25, step_size = 1e-2)\n",
        "            model_2_fgsm, model_2_prediction_new = pgd_linf(test_dataset[i][0], model_2, eps = 0.25, step_size = 1e-2)\n",
        "            if (model_1_prediction_new == actual):\n",
        "              sum_1 += 1\n",
        "            if (model_2_prediction_new == actual):\n",
        "              sum_2 += 1\n",
        "    i += 1\n",
        "  return sum_1, sum_2"
      ],
      "metadata": {
        "id": "klVSg9fjTwhM"
      },
      "execution_count": 21,
      "outputs": []
    },
    {
      "cell_type": "code",
      "source": [
        "def pgd_l2_accuracy (model_1, model_2):\n",
        "  sum_1 = 0\n",
        "  sum_2 = 0\n",
        "  counter = 0\n",
        "  i = 0\n",
        "  while(counter<100):\n",
        "    model_1_prediction = model_1(test_dataset[i][0].unsqueeze(0).to(device)).argmax()\n",
        "    model_2_prediction = model_2(test_dataset[i][0].unsqueeze(0).to(device)).argmax()\n",
        "    actual = test_dataset[i][1]\n",
        "    if (model_1_prediction == actual and model_2_prediction == actual):\n",
        "            counter += 1\n",
        "            model_1_fgsm, model_1_prediction_new = pgd_l2(test_dataset[i][0], model_1, eps = 3, step_size = 0.1)\n",
        "            model_2_fgsm, model_2_prediction_new = pgd_l2(test_dataset[i][0], model_2, eps = 3, step_size = 0.1)\n",
        "            if (model_1_prediction_new == actual):\n",
        "              sum_1 += 1\n",
        "            if (model_2_prediction_new == actual):\n",
        "              sum_2 += 1\n",
        "    i += 1\n",
        "  return sum_1, sum_2"
      ],
      "metadata": {
        "id": "A3_4YQuAtD90"
      },
      "execution_count": 34,
      "outputs": []
    },
    {
      "cell_type": "code",
      "source": [
        "fgsm_accuracy(model_relu, model_siren_updated)"
      ],
      "metadata": {
        "colab": {
          "base_uri": "https://localhost:8080/"
        },
        "id": "dzTfy-nax1qT",
        "outputId": "f974f49a-b84c-49e3-b11f-fb1615786b86"
      },
      "execution_count": 53,
      "outputs": [
        {
          "output_type": "execute_result",
          "data": {
            "text/plain": [
              "(22, 64)"
            ]
          },
          "metadata": {},
          "execution_count": 53
        }
      ]
    },
    {
      "cell_type": "code",
      "source": [
        "pgd_linf_accuracy(model_relu, model_siren_updated)"
      ],
      "metadata": {
        "colab": {
          "base_uri": "https://localhost:8080/"
        },
        "id": "_xfjTF_K0vYA",
        "outputId": "9ebc8306-1fbc-4d05-ba11-e8e28b45c241"
      },
      "execution_count": 40,
      "outputs": [
        {
          "output_type": "execute_result",
          "data": {
            "text/plain": [
              "(1, 46)"
            ]
          },
          "metadata": {},
          "execution_count": 40
        }
      ]
    },
    {
      "cell_type": "code",
      "source": [
        "pgd_l2_accuracy(model_relu, model_siren_updated)"
      ],
      "metadata": {
        "colab": {
          "base_uri": "https://localhost:8080/"
        },
        "id": "0HRNjz_zuH5l",
        "outputId": "64ff1832-c1c7-40b4-d481-77506184db66"
      },
      "execution_count": 35,
      "outputs": [
        {
          "output_type": "execute_result",
          "data": {
            "text/plain": [
              "(8, 61)"
            ]
          },
          "metadata": {},
          "execution_count": 35
        }
      ]
    },
    {
      "cell_type": "code",
      "source": [
        "import matplotlib.pyplot as plt"
      ],
      "metadata": {
        "id": "O8L-WckQXCks"
      },
      "execution_count": 36,
      "outputs": []
    },
    {
      "cell_type": "code",
      "source": [
        "x = test_dataset[3][0]"
      ],
      "metadata": {
        "id": "0KzBPtFYXWre"
      },
      "execution_count": 37,
      "outputs": []
    },
    {
      "cell_type": "code",
      "source": [
        "y,pred = pgd_l2(x, model_siren_updated, eps=2, step_size = 1e-1)"
      ],
      "metadata": {
        "id": "4LPZaU4SXfaU"
      },
      "execution_count": 55,
      "outputs": []
    },
    {
      "cell_type": "code",
      "source": [
        "y.shape"
      ],
      "metadata": {
        "colab": {
          "base_uri": "https://localhost:8080/"
        },
        "id": "-E5kNJDuXx4u",
        "outputId": "d9b0490c-5968-4fbf-8ba6-5dbf98611feb"
      },
      "execution_count": 56,
      "outputs": [
        {
          "output_type": "execute_result",
          "data": {
            "text/plain": [
              "torch.Size([1, 1, 28, 28])"
            ]
          },
          "metadata": {},
          "execution_count": 56
        }
      ]
    },
    {
      "cell_type": "code",
      "source": [
        "y = y.squeeze(0)"
      ],
      "metadata": {
        "id": "xpVoFPWFXzZR"
      },
      "execution_count": 57,
      "outputs": []
    },
    {
      "cell_type": "code",
      "source": [
        "plt.imshow(np.transpose(x.cpu().numpy(), (1, 2, 0)))"
      ],
      "metadata": {
        "colab": {
          "base_uri": "https://localhost:8080/",
          "height": 448
        },
        "id": "6KEaBkUpYAUq",
        "outputId": "1614247c-c807-409e-bc7b-cb5311b47045"
      },
      "execution_count": 58,
      "outputs": [
        {
          "output_type": "execute_result",
          "data": {
            "text/plain": [
              "<matplotlib.image.AxesImage at 0x7d5cfc6e2ad0>"
            ]
          },
          "metadata": {},
          "execution_count": 58
        },
        {
          "output_type": "display_data",
          "data": {
            "text/plain": [
              "<Figure size 640x480 with 1 Axes>"
            ],
            "image/png": "[encoded data removed]"
          },
          "metadata": {}
        }
      ]
    },
    {
      "cell_type": "code",
      "source": [
        "plt.imshow(np.transpose(y.cpu().numpy(), (1, 2, 0)))\n"
      ],
      "metadata": {
        "colab": {
          "base_uri": "https://localhost:8080/",
          "height": 448
        },
        "id": "5oQ-SIFDV1IG",
        "outputId": "0f77ab73-86e2-482c-9a20-eb782a36b0ad"
      },
      "execution_count": 59,
      "outputs": [
        {
          "output_type": "execute_result",
          "data": {
            "text/plain": [
              "<matplotlib.image.AxesImage at 0x7d5cfc743d60>"
            ]
          },
          "metadata": {},
          "execution_count": 59
        },
        {
          "output_type": "display_data",
          "data": {
            "text/plain": [
              "<Figure size 640x480 with 1 Axes>"
            ],
            "image/png": "[encoded data removed]"
          },
          "metadata": {}
        }
      ]
    },
    {
      "cell_type": "code",
      "source": [
        "pred"
      ],
      "metadata": {
        "colab": {
          "base_uri": "https://localhost:8080/"
        },
        "id": "NohbLkPtX7Yf",
        "outputId": "fe7fdfba-1cd8-42fc-a521-08abf8c88cd8"
      },
      "execution_count": 60,
      "outputs": [
        {
          "output_type": "execute_result",
          "data": {
            "text/plain": [
              "tensor(9, device='cuda:0')"
            ]
          },
          "metadata": {},
          "execution_count": 60
        }
      ]
    }
  ]
}