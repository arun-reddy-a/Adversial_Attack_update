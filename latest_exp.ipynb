{
  "cells": [
    {
      "cell_type": "code",
      "execution_count": 1,
      "metadata": {
        "id": "RdXYJE4rCx-k"
      },
      "outputs": [],
      "source": [
        "# Imports\n",
        "import torch\n",
        "import torch.nn.functional as F  # Parameterless functions, like (some) activation functions\n",
        "import torchvision.datasets as datasets  # Standard datasets\n",
        "import torchvision.transforms as transforms  # Transformations we can perform on our dataset for augmentation\n",
        "from torch import optim  # For optimizers like SGD, Adam, etc.\n",
        "from torch import nn  # All neural network modules\n",
        "from torch.utils.data import (\n",
        "    DataLoader,\n",
        ")  # Gives easier dataset managment by creating mini batches etc.\n",
        "from tqdm import tqdm  # For nice progress bar!"
      ]
    },
    {
      "cell_type": "code",
      "execution_count": 2,
      "metadata": {
        "id": "Ji4c-w5GCx-m"
      },
      "outputs": [],
      "source": [
        "import numpy as np"
      ]
    },
    {
      "cell_type": "markdown",
      "source": [
        "**Standard Relu**"
      ],
      "metadata": {
        "id": "e70PT3SUE87f"
      }
    },
    {
      "cell_type": "code",
      "execution_count": 3,
      "metadata": {
        "id": "pBvE66DtCx-m"
      },
      "outputs": [],
      "source": [
        "# Simple CNN\n",
        "class CNN(nn.Module):\n",
        "    def __init__(self, in_channels=1, num_classes=10):\n",
        "        super(CNN, self).__init__()\n",
        "        self.conv1 = nn.Conv2d(\n",
        "            in_channels=in_channels,\n",
        "            out_channels=8,\n",
        "            kernel_size=3,\n",
        "            stride=1,\n",
        "            padding=1,\n",
        "        )\n",
        "        self.pool = nn.MaxPool2d(kernel_size=2, stride=2)\n",
        "        self.conv2 = nn.Conv2d(\n",
        "            in_channels=8,\n",
        "            out_channels=16,\n",
        "            kernel_size=3,\n",
        "            stride=1,\n",
        "            padding=1,\n",
        "        )\n",
        "        self.fc1 = nn.Linear(16 * 7 * 7, 250) # replace this with siren.\n",
        "        self.fc2 = nn.Linear(250,250)\n",
        "        self.fc3 = nn.Linear(250, num_classes)\n",
        "\n",
        "    def forward(self, x):\n",
        "        x = F.relu(self.conv1(x))\n",
        "        x = self.pool(x)\n",
        "        x = F.relu(self.conv2(x))\n",
        "        x = self.pool(x)\n",
        "        x = x.reshape(x.shape[0], -1)\n",
        "        x = F.relu(self.fc1(x)) # replace this with siren.\n",
        "        x = F.relu(self.fc2(x))\n",
        "        x = self.fc2(x)\n",
        "        return x\n"
      ]
    },
    {
      "cell_type": "code",
      "execution_count": 4,
      "metadata": {
        "id": "Ir-79ZscCx-n"
      },
      "outputs": [],
      "source": [
        "device = torch.device('cuda')"
      ]
    },
    {
      "cell_type": "code",
      "execution_count": 5,
      "metadata": {
        "id": "uRuoZYgxCx-n"
      },
      "outputs": [],
      "source": [
        "# Hyperparameters\n",
        "in_channels = 1\n",
        "num_classes = 10\n",
        "learning_rate = 3e-4 # karpathy's constant\n",
        "batch_size = 64\n",
        "num_epochs = 3"
      ]
    },
    {
      "cell_type": "code",
      "execution_count": 6,
      "metadata": {
        "id": "yoLTs4l7Cx-n",
        "outputId": "4b40db47-e2bc-463b-c75e-5663b1c36f9e",
        "colab": {
          "base_uri": "https://localhost:8080/"
        }
      },
      "outputs": [
        {
          "output_type": "stream",
          "name": "stdout",
          "text": [
            "Downloading http://yann.lecun.com/exdb/mnist/train-images-idx3-ubyte.gz\n",
            "Downloading http://yann.lecun.com/exdb/mnist/train-images-idx3-ubyte.gz to dataset/MNIST/raw/train-images-idx3-ubyte.gz\n"
          ]
        },
        {
          "output_type": "stream",
          "name": "stderr",
          "text": [
            "100%|██████████| 9912422/9912422 [00:00<00:00, 233515000.56it/s]"
          ]
        },
        {
          "output_type": "stream",
          "name": "stdout",
          "text": [
            "Extracting dataset/MNIST/raw/train-images-idx3-ubyte.gz to dataset/MNIST/raw\n"
          ]
        },
        {
          "output_type": "stream",
          "name": "stderr",
          "text": [
            "\n"
          ]
        },
        {
          "output_type": "stream",
          "name": "stdout",
          "text": [
            "\n",
            "Downloading http://yann.lecun.com/exdb/mnist/train-labels-idx1-ubyte.gz\n",
            "Downloading http://yann.lecun.com/exdb/mnist/train-labels-idx1-ubyte.gz to dataset/MNIST/raw/train-labels-idx1-ubyte.gz\n"
          ]
        },
        {
          "output_type": "stream",
          "name": "stderr",
          "text": [
            "100%|██████████| 28881/28881 [00:00<00:00, 101453679.92it/s]\n"
          ]
        },
        {
          "output_type": "stream",
          "name": "stdout",
          "text": [
            "Extracting dataset/MNIST/raw/train-labels-idx1-ubyte.gz to dataset/MNIST/raw\n",
            "\n",
            "Downloading http://yann.lecun.com/exdb/mnist/t10k-images-idx3-ubyte.gz\n",
            "Downloading http://yann.lecun.com/exdb/mnist/t10k-images-idx3-ubyte.gz to dataset/MNIST/raw/t10k-images-idx3-ubyte.gz\n"
          ]
        },
        {
          "output_type": "stream",
          "name": "stderr",
          "text": [
            "100%|██████████| 1648877/1648877 [00:00<00:00, 75361135.41it/s]"
          ]
        },
        {
          "output_type": "stream",
          "name": "stdout",
          "text": [
            "Extracting dataset/MNIST/raw/t10k-images-idx3-ubyte.gz to dataset/MNIST/raw\n",
            "\n",
            "Downloading http://yann.lecun.com/exdb/mnist/t10k-labels-idx1-ubyte.gz\n"
          ]
        },
        {
          "output_type": "stream",
          "name": "stderr",
          "text": [
            "\n"
          ]
        },
        {
          "output_type": "stream",
          "name": "stdout",
          "text": [
            "Downloading http://yann.lecun.com/exdb/mnist/t10k-labels-idx1-ubyte.gz to dataset/MNIST/raw/t10k-labels-idx1-ubyte.gz\n"
          ]
        },
        {
          "output_type": "stream",
          "name": "stderr",
          "text": [
            "100%|██████████| 4542/4542 [00:00<00:00, 16858875.02it/s]\n"
          ]
        },
        {
          "output_type": "stream",
          "name": "stdout",
          "text": [
            "Extracting dataset/MNIST/raw/t10k-labels-idx1-ubyte.gz to dataset/MNIST/raw\n",
            "\n"
          ]
        }
      ],
      "source": [
        "# Load Data\n",
        "train_dataset = datasets.MNIST(\n",
        "    root=\"dataset/\", train=True, transform=transforms.ToTensor(), download=True\n",
        ")\n",
        "test_dataset = datasets.MNIST(\n",
        "    root=\"dataset/\", train=False, transform=transforms.ToTensor(), download=True\n",
        ")\n",
        "train_loader = DataLoader(dataset=train_dataset, batch_size=batch_size, shuffle=True)\n",
        "test_loader = DataLoader(dataset=test_dataset, batch_size=batch_size, shuffle=True)"
      ]
    },
    {
      "cell_type": "code",
      "execution_count": 7,
      "metadata": {
        "id": "z1f0apIJCx-n"
      },
      "outputs": [],
      "source": [
        "# Initialize network\n",
        "model_relu = CNN(in_channels=in_channels, num_classes=num_classes).to(device)\n",
        "\n",
        "# Loss and optimizer\n",
        "criterion = nn.CrossEntropyLoss()\n",
        "optimizer = optim.Adam(model_relu.parameters(), lr=learning_rate)"
      ]
    },
    {
      "cell_type": "code",
      "execution_count": 8,
      "metadata": {
        "id": "PJ-eINc-Cx-o",
        "outputId": "d5e91185-90bc-4579-fb03-bc7ab6292873",
        "colab": {
          "base_uri": "https://localhost:8080/"
        }
      },
      "outputs": [
        {
          "output_type": "stream",
          "name": "stderr",
          "text": [
            "100%|██████████| 938/938 [00:14<00:00, 63.29it/s] \n",
            "100%|██████████| 938/938 [00:09<00:00, 98.19it/s] \n",
            "100%|██████████| 938/938 [00:10<00:00, 89.19it/s] \n"
          ]
        }
      ],
      "source": [
        "# Train Network\n",
        "for epoch in range(num_epochs):\n",
        "    for batch_idx, (data, targets) in enumerate(tqdm(train_loader)):\n",
        "        # Get data to cuda if possible\n",
        "        data = data.to(device=device)\n",
        "        targets = targets.to(device=device)\n",
        "\n",
        "        # forward\n",
        "        scores = model_relu(data)\n",
        "        loss = criterion(scores, targets)\n",
        "\n",
        "        # backward\n",
        "        optimizer.zero_grad()\n",
        "        loss.backward()\n",
        "\n",
        "        # gradient descent or adam step\n",
        "        optimizer.step()"
      ]
    },
    {
      "cell_type": "code",
      "execution_count": 9,
      "metadata": {
        "id": "e8cKsvgQCx-o",
        "outputId": "e3ea122c-2cb7-4035-d2be-0577f01c7f5d",
        "colab": {
          "base_uri": "https://localhost:8080/"
        }
      },
      "outputs": [
        {
          "output_type": "stream",
          "name": "stdout",
          "text": [
            "Accuracy on training set: 96.97\n",
            "Accuracy on test set: 96.89\n"
          ]
        }
      ],
      "source": [
        "# Check accuracy on training & test to see how good our model\n",
        "def check_accuracy(loader, model):\n",
        "    num_correct = 0\n",
        "    num_samples = 0\n",
        "    model.eval()\n",
        "\n",
        "    with torch.no_grad():\n",
        "        for x, y in loader:\n",
        "            x = x.to(device=device)\n",
        "            y = y.to(device=device)\n",
        "\n",
        "            scores = model(x)\n",
        "            _, predictions = scores.max(1)\n",
        "            num_correct += (predictions == y).sum()\n",
        "            num_samples += predictions.size(0)\n",
        "\n",
        "    model.train()\n",
        "    return num_correct / num_samples\n",
        "\n",
        "\n",
        "print(f\"Accuracy on training set: {check_accuracy(train_loader, model_relu)*100:.2f}\")\n",
        "print(f\"Accuracy on test set: {check_accuracy(test_loader, model_relu)*100:.2f}\")"
      ]
    },
    {
      "cell_type": "code",
      "execution_count": 10,
      "metadata": {
        "id": "Ae-V7kZ8Cx-p"
      },
      "outputs": [],
      "source": [
        "def compute_gradient (func,inp, **kwargs):\n",
        "    inp.requires_grad = True\n",
        "    loss = func(inp, **kwargs)\n",
        "    loss.backward()\n",
        "    inp.requires_grad = False\n",
        "    return inp.grad.data"
      ]
    },
    {
      "cell_type": "code",
      "execution_count": 11,
      "metadata": {
        "id": "eUqEcr5TCx-p"
      },
      "outputs": [],
      "source": [
        "def func(inp, model = None, target = None):\n",
        "    out = model(inp)\n",
        "    loss = torch.nn.functional.nll_loss(out,torch.LongTensor([target]).to(device))\n",
        "    #print(f\"Loss:  {loss.item()}\")\n",
        "    return loss"
      ]
    },
    {
      "cell_type": "code",
      "execution_count": 12,
      "metadata": {
        "id": "Yk_5ELcHCx-p"
      },
      "outputs": [],
      "source": [
        "def attack (tensor, model, eps = 1e-3, n_iter = 5000):\n",
        "    number = 5000\n",
        "    new_tensor = tensor.unsqueeze(0).detach().clone()\n",
        "    new_tensor = new_tensor.to(device = device)\n",
        "    orig_prediction = model(new_tensor).argmax()\n",
        "    #print(f\"Original Prediction: {orig_prediction.item()}\")\n",
        "\n",
        "    for i in tqdm(range(n_iter)):\n",
        "        model.zero_grad()\n",
        "\n",
        "        grad = compute_gradient(func, new_tensor, model = model, target = orig_prediction.item())\n",
        "        #new_tensor = torch.clamp(new_tensor + eps * grad.sign(), -2, 2)\n",
        "        new_tensor = new_tensor + eps * grad.sign()\n",
        "        new_prediction = model(new_tensor).argmax()\n",
        "\n",
        "        if new_prediction != orig_prediction:\n",
        "            #print(f\"New Prediction: {new_prediction.item()}\")\n",
        "            number = i\n",
        "            break\n",
        "    return number\n",
        ""
      ]
    },
    {
      "cell_type": "code",
      "execution_count": 13,
      "metadata": {
        "id": "PGfa70qJCx-p",
        "outputId": "bac792e0-7ccc-4594-e98a-f9d93f70e43e",
        "colab": {
          "base_uri": "https://localhost:8080/"
        }
      },
      "outputs": [
        {
          "output_type": "stream",
          "name": "stderr",
          "text": [
            "  1%|          | 48/5000 [00:00<00:27, 183.10it/s]\n"
          ]
        },
        {
          "output_type": "execute_result",
          "data": {
            "text/plain": [
              "48"
            ]
          },
          "metadata": {},
          "execution_count": 13
        }
      ],
      "source": [
        "num1 = attack(train_dataset[0][0], model_relu)\n",
        "num1"
      ]
    },
    {
      "cell_type": "code",
      "execution_count": 14,
      "metadata": {
        "id": "0wcJ_txbCx-p"
      },
      "outputs": [],
      "source": [
        "# now its time for siren.\n",
        "class SineLayer(nn.Module):\n",
        "    # See paper sec. 3.2, final paragraph, and supplement Sec. 1.5 for discussion of omega_0.\n",
        "\n",
        "    # If is_first=True, omega_0 is a frequency factor which simply multiplies the activations before the\n",
        "    # nonlinearity. Different signals may require different omega_0 in the first layer - this is a\n",
        "    # hyperparameter.\n",
        "\n",
        "    # If is_first=False, then the weights will be divided by omega_0 so as to keep the magnitude of\n",
        "    # activations constant, but boost gradients to the weight matrix (see supplement Sec. 1.5)\n",
        "\n",
        "    def __init__(self, in_features, out_features, bias=True,\n",
        "                 is_first=False, omega_0=30,is_linear = False):\n",
        "        super().__init__()\n",
        "        self.omega_0 = omega_0\n",
        "        self.is_first = is_first\n",
        "        self.is_linear = is_linear\n",
        "        self.in_features = in_features\n",
        "        self.linear = nn.Linear(in_features, out_features, bias=bias)\n",
        "\n",
        "        self.init_weights()\n",
        "\n",
        "    def init_weights(self):\n",
        "        with torch.no_grad():\n",
        "            if self.is_first:\n",
        "                self.linear.weight.uniform_(-1 / self.in_features,\n",
        "                                             1 / self.in_features)\n",
        "            else:\n",
        "                self.linear.weight.uniform_(-np.sqrt(6 / self.in_features) / self.omega_0,\n",
        "                                             np.sqrt(6 / self.in_features) / self.omega_0)\n",
        "\n",
        "    def forward(self, input):\n",
        "        if self.is_linear:\n",
        "          return (self.omega_0 * self.linear(input))\n",
        "        return torch.sin(self.omega_0 * self.linear(input))\n",
        "\n",
        "    def forward_with_intermediate(self, input):\n",
        "        # For visualization of activation distributions\n",
        "        intermediate = self.omega_0 * self.linear(input)\n",
        "        return torch.sin(intermediate), intermediate\n",
        "\n",
        "\n",
        "class Siren(nn.Module):\n",
        "    def __init__(self, in_features, hidden_features, hidden_layers, out_features, outermost_linear=False,\n",
        "                 first_omega_0=30, hidden_omega_0=30.):\n",
        "        super().__init__()\n",
        "\n",
        "        self.net = []\n",
        "        self.net.append(SineLayer(in_features, hidden_features,\n",
        "                                  is_first=True, omega_0=first_omega_0))\n",
        "\n",
        "        for i in range(hidden_layers):\n",
        "            self.net.append(SineLayer(hidden_features, hidden_features,\n",
        "                                      is_first=False, omega_0=hidden_omega_0))\n",
        "\n",
        "        if outermost_linear:\n",
        "            final_linear = nn.Linear(hidden_features, out_features)\n",
        "\n",
        "            with torch.no_grad():\n",
        "                final_linear.weight.uniform_(-np.sqrt(6 / hidden_features) / hidden_omega_0,\n",
        "                                              np.sqrt(6 / hidden_features) / hidden_omega_0)\n",
        "\n",
        "            self.net.append(final_linear)\n",
        "        else:\n",
        "            self.net.append(SineLayer(hidden_features, out_features,\n",
        "                                      is_first=False, omega_0=hidden_omega_0))\n",
        "\n",
        "        self.net = nn.Sequential(*self.net)\n",
        "\n",
        "    def forward(self, coords):\n",
        "        coords = coords.clone().detach().requires_grad_(True) # allows to take derivative w.r.t. input\n",
        "        output = self.net(coords)\n",
        "        return output, coords\n",
        "\n",
        "    def forward_with_activations(self, coords, retain_grad=False):\n",
        "        '''Returns not only model output, but also intermediate activations.\n",
        "        Only used for visualizing activations later!'''\n",
        "        activations = OrderedDict()\n",
        "\n",
        "        activation_count = 0\n",
        "        x = coords.clone().detach().requires_grad_(True)\n",
        "        activations['input'] = x\n",
        "        for i, layer in enumerate(self.net):\n",
        "            if isinstance(layer, SineLayer):\n",
        "                x, intermed = layer.forward_with_intermediate(x)\n",
        "\n",
        "                if retain_grad:\n",
        "                    x.retain_grad()\n",
        "                    intermed.retain_grad()\n",
        "\n",
        "                activations['_'.join((str(layer.__class__), \"%d\" % activation_count))] = intermed\n",
        "                activation_count += 1\n",
        "            else:\n",
        "                x = layer(x)\n",
        "\n",
        "                if retain_grad:\n",
        "                    x.retain_grad()\n",
        "\n",
        "            activations['_'.join((str(layer.__class__), \"%d\" % activation_count))] = x\n",
        "            activation_count += 1\n",
        "\n",
        "        return activations"
      ]
    },
    {
      "cell_type": "code",
      "execution_count": 15,
      "metadata": {
        "id": "i1inglnTCx-q"
      },
      "outputs": [],
      "source": [
        "# Simple CNN\n",
        "class siren_CNN(nn.Module):\n",
        "    def __init__(self, in_channels=1, num_classes=10):\n",
        "        super(siren_CNN, self).__init__()\n",
        "        self.conv1 = nn.Conv2d(\n",
        "            in_channels=in_channels,\n",
        "            out_channels=8,\n",
        "            kernel_size=3,\n",
        "            stride=1,\n",
        "            padding=1,\n",
        "        )\n",
        "        self.pool = nn.MaxPool2d(kernel_size=2, stride=2)\n",
        "        self.conv2 = nn.Conv2d(\n",
        "            in_channels=8,\n",
        "            out_channels=16,\n",
        "            kernel_size=3,\n",
        "            stride=1,\n",
        "            padding=1,\n",
        "        )\n",
        "        #self.fc1 = nn.Linear(16 * 7 * 7, 250) # replace this with siren.\n",
        "        self.fc1 = SineLayer(16 * 7 * 7, 250, is_first=True, omega_0=30)\n",
        "        self.fc2 = SineLayer(250, 250, is_first=False, omega_0=30)\n",
        "        self.fc3 = nn.Linear(250,num_classes)\n",
        "\n",
        "    def forward(self, x):\n",
        "        x = F.relu(self.conv1(x))\n",
        "        x = self.pool(x)\n",
        "        x = F.relu(self.conv2(x))\n",
        "        x = self.pool(x)\n",
        "        x = x.reshape(x.shape[0], -1)\n",
        "        #x = F.relu(self.fc1(x)) # replace this with siren.\n",
        "        x = self.fc1(x)\n",
        "        x = self.fc2(x)\n",
        "        x = self.fc3(x)\n",
        "        return x\n"
      ]
    },
    {
      "cell_type": "code",
      "execution_count": 16,
      "metadata": {
        "id": "i3L_FjVRCx-q"
      },
      "outputs": [],
      "source": [
        "# Initialize network\n",
        "model_siren = siren_CNN(in_channels=in_channels, num_classes=num_classes).to(device)\n",
        "\n",
        "# Loss and optimizer\n",
        "criterion = nn.CrossEntropyLoss()\n",
        "optimizer = optim.Adam(model_siren.parameters(), lr=learning_rate)"
      ]
    },
    {
      "cell_type": "code",
      "execution_count": 17,
      "metadata": {
        "id": "XVFRkkvzCx-q",
        "outputId": "be759625-b3f0-421a-b827-1e9b9771f087",
        "colab": {
          "base_uri": "https://localhost:8080/"
        }
      },
      "outputs": [
        {
          "output_type": "stream",
          "name": "stderr",
          "text": [
            "100%|██████████| 938/938 [00:09<00:00, 95.43it/s] \n",
            "100%|██████████| 938/938 [00:09<00:00, 94.88it/s] \n",
            "100%|██████████| 938/938 [00:09<00:00, 96.21it/s] \n"
          ]
        }
      ],
      "source": [
        "# Train Network\n",
        "for epoch in range(num_epochs):\n",
        "    for batch_idx, (data, targets) in enumerate(tqdm(train_loader)):\n",
        "        # Get data to cuda if possible\n",
        "        data = data.to(device=device)\n",
        "        targets = targets.to(device=device)\n",
        "\n",
        "        # forward\n",
        "        scores = model_siren(data)\n",
        "        loss = criterion(scores, targets)\n",
        "\n",
        "        # backward\n",
        "        optimizer.zero_grad()\n",
        "        loss.backward()\n",
        "\n",
        "        # gradient descent or adam step\n",
        "        optimizer.step()"
      ]
    },
    {
      "cell_type": "code",
      "execution_count": 18,
      "metadata": {
        "id": "_JQ8XrhiCx-q",
        "outputId": "43526301-7bff-49bc-e75e-5499e8ff9db7",
        "colab": {
          "base_uri": "https://localhost:8080/"
        }
      },
      "outputs": [
        {
          "output_type": "stream",
          "name": "stdout",
          "text": [
            "Accuracy on training set: 98.55\n",
            "Accuracy on test set: 97.85\n"
          ]
        }
      ],
      "source": [
        "print(f\"Accuracy on training set: {check_accuracy(train_loader, model_siren)*100:.2f}\")\n",
        "print(f\"Accuracy on test set: {check_accuracy(test_loader, model_siren)*100:.2f}\")"
      ]
    },
    {
      "cell_type": "code",
      "execution_count": 19,
      "metadata": {
        "id": "Jz-QR8OlCx-r",
        "outputId": "f63c4476-eded-4d85-e08e-1c6ec438bafa",
        "colab": {
          "base_uri": "https://localhost:8080/"
        }
      },
      "outputs": [
        {
          "output_type": "stream",
          "name": "stderr",
          "text": [
            "  1%|          | 45/5000 [00:00<00:11, 446.84it/s]\n"
          ]
        },
        {
          "output_type": "execute_result",
          "data": {
            "text/plain": [
              "45"
            ]
          },
          "metadata": {},
          "execution_count": 19
        }
      ],
      "source": [
        "num1 = attack(train_dataset[0][0], model_siren)\n",
        "num1"
      ]
    },
    {
      "cell_type": "code",
      "source": [
        "# Simple CNN\n",
        "class siren_updated_CNN(nn.Module):\n",
        "    def __init__(self, in_channels=1, num_classes=10):\n",
        "        super(siren_updated_CNN, self).__init__()\n",
        "        self.conv1 = nn.Conv2d(\n",
        "            in_channels=in_channels,\n",
        "            out_channels=8,\n",
        "            kernel_size=3,\n",
        "            stride=1,\n",
        "            padding=1,\n",
        "        )\n",
        "        self.pool = nn.MaxPool2d(kernel_size=2, stride=2)\n",
        "        self.conv2 = nn.Conv2d(\n",
        "            in_channels=8,\n",
        "            out_channels=16,\n",
        "            kernel_size=3,\n",
        "            stride=1,\n",
        "            padding=1,\n",
        "        )\n",
        "        #self.fc1 = nn.Linear(16 * 7 * 7, 250) # replace this with siren.\n",
        "        self.fc1 = SineLayer(16 * 7 * 7, 250, is_first=True, omega_0=30)\n",
        "        self.fc2 = SineLayer(250, 250, is_first=False, omega_0=30)\n",
        "        self.fc3 = SineLayer(250,num_classes, is_first = False)\n",
        "\n",
        "    def forward(self, x):\n",
        "        x = F.relu(self.conv1(x))\n",
        "        x = self.pool(x)\n",
        "        x = F.relu(self.conv2(x))\n",
        "        x = self.pool(x)\n",
        "        x = x.reshape(x.shape[0], -1)\n",
        "        #x = F.relu(self.fc1(x)) # replace this with siren.\n",
        "        x = self.fc1(x)\n",
        "        x = self.fc2(x)\n",
        "        x = self.fc3(x)\n",
        "        return x"
      ],
      "metadata": {
        "id": "zk5lHkN6F_nb"
      },
      "execution_count": 22,
      "outputs": []
    },
    {
      "cell_type": "code",
      "source": [
        "# Initialize network\n",
        "model_siren_updated = siren_updated_CNN(in_channels=in_channels, num_classes=num_classes).to(device)\n",
        "\n",
        "# Loss and optimizer\n",
        "criterion = nn.CrossEntropyLoss()\n",
        "optimizer = optim.Adam(model_siren_updated.parameters(), lr=learning_rate)"
      ],
      "metadata": {
        "id": "nXGG8DyzGXln"
      },
      "execution_count": 23,
      "outputs": []
    },
    {
      "cell_type": "code",
      "source": [
        "# Train Network\n",
        "for epoch in range(num_epochs):\n",
        "    for batch_idx, (data, targets) in enumerate(tqdm(train_loader)):\n",
        "        # Get data to cuda if possible\n",
        "        data = data.to(device=device)\n",
        "        targets = targets.to(device=device)\n",
        "\n",
        "        # forward\n",
        "        scores = model_siren_updated(data)\n",
        "        loss = criterion(scores, targets)\n",
        "\n",
        "        # backward\n",
        "        optimizer.zero_grad()\n",
        "        loss.backward()\n",
        "\n",
        "        # gradient descent or adam step\n",
        "        optimizer.step()"
      ],
      "metadata": {
        "id": "mS2WbfZcG2La",
        "outputId": "0ae57f09-73ca-4533-fb70-97be681c1259",
        "colab": {
          "base_uri": "https://localhost:8080/"
        }
      },
      "execution_count": 24,
      "outputs": [
        {
          "output_type": "stream",
          "name": "stderr",
          "text": [
            "100%|██████████| 938/938 [00:08<00:00, 108.39it/s]\n",
            "100%|██████████| 938/938 [00:09<00:00, 101.65it/s]\n",
            "100%|██████████| 938/938 [00:09<00:00, 100.65it/s]\n"
          ]
        }
      ]
    },
    {
      "cell_type": "code",
      "source": [
        "print(f\"Accuracy on training set: {check_accuracy(train_loader, model_siren_updated)*100:.2f}\")\n",
        "print(f\"Accuracy on test set: {check_accuracy(test_loader, model_siren_updated)*100:.2f}\")"
      ],
      "metadata": {
        "id": "781rbunjHY6p",
        "outputId": "ddc36180-a65d-4bfd-9175-e3250bd9a57b",
        "colab": {
          "base_uri": "https://localhost:8080/"
        }
      },
      "execution_count": 25,
      "outputs": [
        {
          "output_type": "stream",
          "name": "stdout",
          "text": [
            "Accuracy on training set: 98.61\n",
            "Accuracy on test set: 98.09\n"
          ]
        }
      ]
    },
    {
      "cell_type": "code",
      "source": [
        "num1 = attack(train_dataset[0][0], model_siren_updated)\n",
        "num1"
      ],
      "metadata": {
        "id": "CuBzf1WuHbxb",
        "outputId": "752819bf-5f24-4567-8ea5-6cc4df2728bd",
        "colab": {
          "base_uri": "https://localhost:8080/"
        }
      },
      "execution_count": 26,
      "outputs": [
        {
          "output_type": "stream",
          "name": "stderr",
          "text": [
            "  0%|          | 14/5000 [00:00<00:14, 335.78it/s]\n"
          ]
        },
        {
          "output_type": "execute_result",
          "data": {
            "text/plain": [
              "14"
            ]
          },
          "metadata": {},
          "execution_count": 26
        }
      ]
    },
    {
      "cell_type": "code",
      "source": [
        "# Simple CNN\n",
        "class relu_updated_CNN(nn.Module):\n",
        "    def __init__(self, in_channels=1, num_classes=10):\n",
        "        super(relu_updated_CNN, self).__init__()\n",
        "        self.conv1 = nn.Conv2d(\n",
        "            in_channels=in_channels,\n",
        "            out_channels=8,\n",
        "            kernel_size=3,\n",
        "            stride=1,\n",
        "            padding=1,\n",
        "        )\n",
        "        self.pool = nn.MaxPool2d(kernel_size=2, stride=2)\n",
        "        self.conv2 = nn.Conv2d(\n",
        "            in_channels=8,\n",
        "            out_channels=16,\n",
        "            kernel_size=3,\n",
        "            stride=1,\n",
        "            padding=1,\n",
        "        )\n",
        "        self.fc1 = nn.Linear(16 * 7 * 7, 250) # replace this with siren.\n",
        "        self.fc2 = nn.Linear(250,250)\n",
        "        self.fc3 = nn.Linear(250, num_classes)\n",
        "\n",
        "    def forward(self, x):\n",
        "        x = F.relu(self.conv1(x))\n",
        "        x = self.pool(x)\n",
        "        x = F.relu(self.conv2(x))\n",
        "        x = self.pool(x)\n",
        "        x = x.reshape(x.shape[0], -1)\n",
        "        x = F.relu(self.fc1(x)) # replace this with siren.\n",
        "        x = F.relu(self.fc2(x))\n",
        "        x = self.fc2(x)\n",
        "        x = torch.sin(x)\n",
        "        return x\n"
      ],
      "metadata": {
        "id": "mhLjcFWuIBMx"
      },
      "execution_count": 27,
      "outputs": []
    },
    {
      "cell_type": "code",
      "source": [
        "# Initialize network\n",
        "model_relu_updated = relu_updated_CNN(in_channels=in_channels, num_classes=num_classes).to(device)\n",
        "\n",
        "# Loss and optimizer\n",
        "criterion = nn.CrossEntropyLoss()\n",
        "optimizer = optim.Adam(model_relu_updated.parameters(), lr=learning_rate)"
      ],
      "metadata": {
        "id": "3aVWW4QsIkQg"
      },
      "execution_count": 28,
      "outputs": []
    },
    {
      "cell_type": "code",
      "source": [
        "# Train Network\n",
        "for epoch in range(num_epochs):\n",
        "    for batch_idx, (data, targets) in enumerate(tqdm(train_loader)):\n",
        "        # Get data to cuda if possible\n",
        "        data = data.to(device=device)\n",
        "        targets = targets.to(device=device)\n",
        "\n",
        "        # forward\n",
        "        scores = model_relu_updated(data)\n",
        "        loss = criterion(scores, targets)\n",
        "\n",
        "        # backward\n",
        "        optimizer.zero_grad()\n",
        "        loss.backward()\n",
        "\n",
        "        # gradient descent or adam step\n",
        "        optimizer.step()"
      ],
      "metadata": {
        "id": "EuwRjqr5I5f3",
        "outputId": "f045183c-7138-45b2-9cd4-644f4361d297",
        "colab": {
          "base_uri": "https://localhost:8080/"
        }
      },
      "execution_count": 29,
      "outputs": [
        {
          "output_type": "stream",
          "name": "stderr",
          "text": [
            "100%|██████████| 938/938 [00:10<00:00, 93.76it/s]\n",
            "100%|██████████| 938/938 [00:09<00:00, 94.32it/s]\n",
            "100%|██████████| 938/938 [00:09<00:00, 101.46it/s]\n"
          ]
        }
      ]
    },
    {
      "cell_type": "code",
      "source": [
        "print(f\"Accuracy on training set: {check_accuracy(train_loader, model_relu_updated)*100:.2f}\")\n",
        "print(f\"Accuracy on test set: {check_accuracy(test_loader, model_relu_updated)*100:.2f}\")"
      ],
      "metadata": {
        "id": "-QCj8SoFI-Ue",
        "outputId": "d3ec567e-012f-4a58-ffc4-2aa33a130605",
        "colab": {
          "base_uri": "https://localhost:8080/"
        }
      },
      "execution_count": 30,
      "outputs": [
        {
          "output_type": "stream",
          "name": "stdout",
          "text": [
            "Accuracy on training set: 91.81\n",
            "Accuracy on test set: 91.75\n"
          ]
        }
      ]
    },
    {
      "cell_type": "code",
      "source": [
        "num1 = attack(train_dataset[0][0], model_relu_updated)\n",
        "num1"
      ],
      "metadata": {
        "id": "MdXMWhluJG0u",
        "outputId": "44188b2d-f3d3-4309-fe9b-cf22acf3b262",
        "colab": {
          "base_uri": "https://localhost:8080/"
        }
      },
      "execution_count": 31,
      "outputs": [
        {
          "output_type": "stream",
          "name": "stderr",
          "text": [
            "  0%|          | 25/5000 [00:00<00:12, 399.38it/s]\n"
          ]
        },
        {
          "output_type": "execute_result",
          "data": {
            "text/plain": [
              "25"
            ]
          },
          "metadata": {},
          "execution_count": 31
        }
      ]
    },
    {
      "cell_type": "code",
      "execution_count": 32,
      "metadata": {
        "id": "yhlnWPAOCx-r"
      },
      "outputs": [],
      "source": [
        "def compute_avg_n_iter (model):\n",
        "    sum = 0\n",
        "    for i in tqdm(range(1000)):\n",
        "        sum += attack(train_dataset[i][0], model)\n",
        "    return sum/1000"
      ]
    },
    {
      "cell_type": "code",
      "execution_count": 33,
      "metadata": {
        "id": "7EgXh7lACx-r"
      },
      "outputs": [],
      "source": [
        "def new_compute_avg_n_iter (model):\n",
        "    sum = 0\n",
        "    counter = 0\n",
        "    i = 0\n",
        "    while(counter<1000):\n",
        "        siren_prediction = model_siren(train_dataset[i][0].unsqueeze(0).to(device)).argmax()\n",
        "        relu_prediction = model_relu(train_dataset[i][0].unsqueeze(0).to(device)).argmax()\n",
        "        actual = train_dataset[i][1]\n",
        "        if (siren_prediction == actual and relu_prediction == actual):\n",
        "            sum += attack(train_dataset[i][0], model)\n",
        "            counter += 1\n",
        "        i += 1\n",
        "    return sum/1000"
      ]
    },
    {
      "cell_type": "code",
      "execution_count": 34,
      "metadata": {
        "id": "j95pR-BPCx-r"
      },
      "outputs": [],
      "source": [
        "def new_compute_avg_n_iter_test (model_1, model_2):\n",
        "    sum_1 = 0\n",
        "    sum_2 = 0\n",
        "    counter = 0\n",
        "    i = 0\n",
        "    while(counter<100):\n",
        "        model_1_prediction = model_1(test_dataset[i][0].unsqueeze(0).to(device)).argmax()\n",
        "        model_2_prediction = model_2(test_dataset[i][0].unsqueeze(0).to(device)).argmax()\n",
        "        actual = test_dataset[i][1]\n",
        "        print(counter)\n",
        "        if (model_1_prediction == actual and model_2_prediction == actual):\n",
        "            sum_1 += attack(test_dataset[i][0], model_1)\n",
        "            sum_2 += attack(test_dataset[i][0], model_2)\n",
        "            counter += 1\n",
        "        i += 1\n",
        "    return sum_1/100, sum_2/100"
      ]
    },
    {
      "cell_type": "code",
      "execution_count": 35,
      "metadata": {
        "id": "Funbe-whCx-r",
        "outputId": "9be8335c-2e98-4057-9052-be96cdf765d8",
        "colab": {
          "base_uri": "https://localhost:8080/"
        }
      },
      "outputs": [
        {
          "output_type": "stream",
          "name": "stdout",
          "text": [
            "0\n"
          ]
        },
        {
          "output_type": "stream",
          "name": "stderr",
          "text": [
            "  2%|▏         | 123/5000 [00:00<00:10, 454.53it/s]\n",
            "  2%|▏         | 85/5000 [00:00<00:11, 445.56it/s]\n"
          ]
        },
        {
          "output_type": "stream",
          "name": "stdout",
          "text": [
            "1\n"
          ]
        },
        {
          "output_type": "stream",
          "name": "stderr",
          "text": [
            "  3%|▎         | 162/5000 [00:00<00:10, 444.80it/s]\n",
            "  1%|▏         | 71/5000 [00:00<00:11, 429.48it/s]\n"
          ]
        },
        {
          "output_type": "stream",
          "name": "stdout",
          "text": [
            "2\n"
          ]
        },
        {
          "output_type": "stream",
          "name": "stderr",
          "text": [
            "  1%|▏         | 72/5000 [00:00<00:10, 478.34it/s]\n",
            "  1%|▏         | 64/5000 [00:00<00:12, 384.21it/s]\n"
          ]
        },
        {
          "output_type": "stream",
          "name": "stdout",
          "text": [
            "3\n"
          ]
        },
        {
          "output_type": "stream",
          "name": "stderr",
          "text": [
            "  3%|▎         | 160/5000 [00:00<00:10, 454.89it/s]\n",
            "  2%|▏         | 106/5000 [00:00<00:11, 417.70it/s]\n"
          ]
        },
        {
          "output_type": "stream",
          "name": "stdout",
          "text": [
            "4\n"
          ]
        },
        {
          "output_type": "stream",
          "name": "stderr",
          "text": [
            "  2%|▏         | 87/5000 [00:00<00:11, 442.17it/s]\n",
            "  2%|▏         | 97/5000 [00:00<00:12, 403.94it/s]\n"
          ]
        },
        {
          "output_type": "stream",
          "name": "stdout",
          "text": [
            "5\n"
          ]
        },
        {
          "output_type": "stream",
          "name": "stderr",
          "text": [
            "  2%|▏         | 108/5000 [00:00<00:11, 442.16it/s]\n",
            "  2%|▏         | 99/5000 [00:00<00:11, 428.40it/s]\n"
          ]
        },
        {
          "output_type": "stream",
          "name": "stdout",
          "text": [
            "6\n"
          ]
        },
        {
          "output_type": "stream",
          "name": "stderr",
          "text": [
            "  1%|          | 56/5000 [00:00<00:11, 421.77it/s]\n",
            "  1%|          | 53/5000 [00:00<00:11, 438.32it/s]\n"
          ]
        },
        {
          "output_type": "stream",
          "name": "stdout",
          "text": [
            "7\n"
          ]
        },
        {
          "output_type": "stream",
          "name": "stderr",
          "text": [
            "  1%|          | 33/5000 [00:00<00:10, 469.61it/s]\n",
            "  1%|          | 28/5000 [00:00<00:11, 421.23it/s]\n"
          ]
        },
        {
          "output_type": "stream",
          "name": "stdout",
          "text": [
            "8\n"
          ]
        },
        {
          "output_type": "stream",
          "name": "stderr",
          "text": [
            "  1%|          | 54/5000 [00:00<00:10, 491.25it/s]\n",
            "  0%|          | 3/5000 [00:00<00:16, 300.68it/s]\n"
          ]
        },
        {
          "output_type": "stream",
          "name": "stdout",
          "text": [
            "9\n"
          ]
        },
        {
          "output_type": "stream",
          "name": "stderr",
          "text": [
            "  1%|          | 51/5000 [00:00<00:10, 458.08it/s]\n",
            "  0%|          | 22/5000 [00:00<00:17, 284.07it/s]\n"
          ]
        },
        {
          "output_type": "stream",
          "name": "stdout",
          "text": [
            "10\n"
          ]
        },
        {
          "output_type": "stream",
          "name": "stderr",
          "text": [
            "  4%|▎         | 184/5000 [00:00<00:12, 378.82it/s]\n",
            "  2%|▏         | 124/5000 [00:00<00:13, 359.05it/s]\n"
          ]
        },
        {
          "output_type": "stream",
          "name": "stdout",
          "text": [
            "11\n"
          ]
        },
        {
          "output_type": "stream",
          "name": "stderr",
          "text": [
            "  2%|▏         | 102/5000 [00:00<00:13, 362.96it/s]\n",
            "  2%|▏         | 80/5000 [00:00<00:14, 347.52it/s]\n"
          ]
        },
        {
          "output_type": "stream",
          "name": "stdout",
          "text": [
            "12\n"
          ]
        },
        {
          "output_type": "stream",
          "name": "stderr",
          "text": [
            "  2%|▏         | 76/5000 [00:00<00:13, 371.55it/s]\n",
            "  1%|          | 32/5000 [00:00<00:14, 348.99it/s]\n"
          ]
        },
        {
          "output_type": "stream",
          "name": "stdout",
          "text": [
            "13\n"
          ]
        },
        {
          "output_type": "stream",
          "name": "stderr",
          "text": [
            "  3%|▎         | 165/5000 [00:00<00:14, 341.52it/s]\n",
            "  2%|▏         | 86/5000 [00:00<00:12, 391.05it/s]\n"
          ]
        },
        {
          "output_type": "stream",
          "name": "stdout",
          "text": [
            "14\n"
          ]
        },
        {
          "output_type": "stream",
          "name": "stderr",
          "text": [
            "  2%|▏         | 107/5000 [00:00<00:15, 306.71it/s]\n",
            "  2%|▏         | 111/5000 [00:00<00:13, 364.09it/s]\n"
          ]
        },
        {
          "output_type": "stream",
          "name": "stdout",
          "text": [
            "15\n"
          ]
        },
        {
          "output_type": "stream",
          "name": "stderr",
          "text": [
            "  2%|▏         | 80/5000 [00:00<00:10, 470.68it/s]\n",
            "  1%|▏         | 71/5000 [00:00<00:11, 435.38it/s]\n"
          ]
        },
        {
          "output_type": "stream",
          "name": "stdout",
          "text": [
            "16\n"
          ]
        },
        {
          "output_type": "stream",
          "name": "stderr",
          "text": [
            "  2%|▏         | 77/5000 [00:00<00:17, 283.70it/s]\n",
            "  1%|          | 59/5000 [00:00<00:10, 454.41it/s]\n"
          ]
        },
        {
          "output_type": "stream",
          "name": "stdout",
          "text": [
            "17\n"
          ]
        },
        {
          "output_type": "stream",
          "name": "stderr",
          "text": [
            "  2%|▏         | 110/5000 [00:00<00:10, 450.12it/s]\n",
            "  2%|▏         | 95/5000 [00:00<00:17, 272.82it/s]\n"
          ]
        },
        {
          "output_type": "stream",
          "name": "stdout",
          "text": [
            "18\n"
          ]
        },
        {
          "output_type": "stream",
          "name": "stderr",
          "text": [
            "  0%|          | 5/5000 [00:00<00:13, 370.70it/s]\n",
            "  0%|          | 2/5000 [00:00<00:18, 263.31it/s]\n"
          ]
        },
        {
          "output_type": "stream",
          "name": "stdout",
          "text": [
            "19\n"
          ]
        },
        {
          "output_type": "stream",
          "name": "stderr",
          "text": [
            "  3%|▎         | 161/5000 [00:00<00:09, 496.15it/s]\n",
            "  2%|▏         | 91/5000 [00:00<00:11, 423.59it/s]\n"
          ]
        },
        {
          "output_type": "stream",
          "name": "stdout",
          "text": [
            "20\n",
            "20\n"
          ]
        },
        {
          "output_type": "stream",
          "name": "stderr",
          "text": [
            "  1%|          | 58/5000 [00:00<00:10, 458.68it/s]\n",
            "  2%|▏         | 96/5000 [00:00<00:13, 353.30it/s]\n"
          ]
        },
        {
          "output_type": "stream",
          "name": "stdout",
          "text": [
            "21\n"
          ]
        },
        {
          "output_type": "stream",
          "name": "stderr",
          "text": [
            "  2%|▏         | 87/5000 [00:00<00:13, 360.56it/s]\n",
            "  1%|          | 40/5000 [00:00<00:15, 328.61it/s]\n"
          ]
        },
        {
          "output_type": "stream",
          "name": "stdout",
          "text": [
            "22\n"
          ]
        },
        {
          "output_type": "stream",
          "name": "stderr",
          "text": [
            "  3%|▎         | 172/5000 [00:00<00:12, 372.48it/s]\n",
            "  1%|          | 54/5000 [00:00<00:14, 351.33it/s]\n"
          ]
        },
        {
          "output_type": "stream",
          "name": "stdout",
          "text": [
            "23\n"
          ]
        },
        {
          "output_type": "stream",
          "name": "stderr",
          "text": [
            "  1%|▏         | 73/5000 [00:00<00:12, 398.61it/s]\n",
            "  3%|▎         | 126/5000 [00:00<00:14, 346.51it/s]\n"
          ]
        },
        {
          "output_type": "stream",
          "name": "stdout",
          "text": [
            "24\n"
          ]
        },
        {
          "output_type": "stream",
          "name": "stderr",
          "text": [
            "  4%|▍         | 212/5000 [00:00<00:12, 391.52it/s]\n",
            "  2%|▏         | 81/5000 [00:00<00:11, 439.49it/s]\n"
          ]
        },
        {
          "output_type": "stream",
          "name": "stdout",
          "text": [
            "25\n"
          ]
        },
        {
          "output_type": "stream",
          "name": "stderr",
          "text": [
            "  2%|▏         | 120/5000 [00:00<00:10, 467.54it/s]\n",
            "  3%|▎         | 144/5000 [00:00<00:11, 435.46it/s]\n"
          ]
        },
        {
          "output_type": "stream",
          "name": "stdout",
          "text": [
            "26\n"
          ]
        },
        {
          "output_type": "stream",
          "name": "stderr",
          "text": [
            "  2%|▏         | 119/5000 [00:00<00:10, 480.96it/s]\n",
            "  3%|▎         | 128/5000 [00:00<00:10, 452.43it/s]\n"
          ]
        },
        {
          "output_type": "stream",
          "name": "stdout",
          "text": [
            "27\n"
          ]
        },
        {
          "output_type": "stream",
          "name": "stderr",
          "text": [
            "  4%|▍         | 204/5000 [00:00<00:10, 468.81it/s]\n",
            "  2%|▏         | 117/5000 [00:00<00:10, 453.69it/s]\n"
          ]
        },
        {
          "output_type": "stream",
          "name": "stdout",
          "text": [
            "28\n"
          ]
        },
        {
          "output_type": "stream",
          "name": "stderr",
          "text": [
            "  1%|▏         | 71/5000 [00:00<00:10, 476.77it/s]\n",
            "  2%|▏         | 95/5000 [00:00<00:10, 456.82it/s]\n"
          ]
        },
        {
          "output_type": "stream",
          "name": "stdout",
          "text": [
            "29\n"
          ]
        },
        {
          "output_type": "stream",
          "name": "stderr",
          "text": [
            "  3%|▎         | 151/5000 [00:00<00:10, 477.95it/s]\n",
            "  1%|          | 57/5000 [00:00<00:11, 415.08it/s]\n"
          ]
        },
        {
          "output_type": "stream",
          "name": "stdout",
          "text": [
            "30\n"
          ]
        },
        {
          "output_type": "stream",
          "name": "stderr",
          "text": [
            "  2%|▏         | 90/5000 [00:00<00:10, 462.66it/s]\n",
            "  2%|▏         | 106/5000 [00:00<00:11, 417.73it/s]\n"
          ]
        },
        {
          "output_type": "stream",
          "name": "stdout",
          "text": [
            "31\n"
          ]
        },
        {
          "output_type": "stream",
          "name": "stderr",
          "text": [
            "  2%|▏         | 123/5000 [00:00<00:10, 468.12it/s]\n",
            "  2%|▏         | 99/5000 [00:00<00:11, 442.48it/s]\n"
          ]
        },
        {
          "output_type": "stream",
          "name": "stdout",
          "text": [
            "32\n",
            "32\n"
          ]
        },
        {
          "output_type": "stream",
          "name": "stderr",
          "text": [
            "  3%|▎         | 129/5000 [00:00<00:09, 491.45it/s]\n",
            "  2%|▏         | 92/5000 [00:00<00:10, 456.30it/s]\n"
          ]
        },
        {
          "output_type": "stream",
          "name": "stdout",
          "text": [
            "33\n"
          ]
        },
        {
          "output_type": "stream",
          "name": "stderr",
          "text": [
            "  3%|▎         | 142/5000 [00:00<00:12, 388.69it/s]\n",
            "  1%|          | 57/5000 [00:00<00:15, 323.49it/s]\n"
          ]
        },
        {
          "output_type": "stream",
          "name": "stdout",
          "text": [
            "34\n"
          ]
        },
        {
          "output_type": "stream",
          "name": "stderr",
          "text": [
            "  3%|▎         | 128/5000 [00:00<00:12, 387.47it/s]\n",
            "  1%|          | 48/5000 [00:00<00:13, 355.85it/s]\n"
          ]
        },
        {
          "output_type": "stream",
          "name": "stdout",
          "text": [
            "35\n"
          ]
        },
        {
          "output_type": "stream",
          "name": "stderr",
          "text": [
            "  2%|▏         | 116/5000 [00:00<00:13, 355.10it/s]\n",
            "  2%|▏         | 122/5000 [00:00<00:13, 362.74it/s]\n"
          ]
        },
        {
          "output_type": "stream",
          "name": "stdout",
          "text": [
            "36\n"
          ]
        },
        {
          "output_type": "stream",
          "name": "stderr",
          "text": [
            "  2%|▏         | 103/5000 [00:00<00:12, 379.62it/s]\n",
            "  1%|▏         | 68/5000 [00:00<00:14, 345.79it/s]\n"
          ]
        },
        {
          "output_type": "stream",
          "name": "stdout",
          "text": [
            "37\n"
          ]
        },
        {
          "output_type": "stream",
          "name": "stderr",
          "text": [
            "  2%|▏         | 80/5000 [00:00<00:14, 351.03it/s]\n",
            "  3%|▎         | 133/5000 [00:00<00:10, 451.78it/s]\n"
          ]
        },
        {
          "output_type": "stream",
          "name": "stdout",
          "text": [
            "38\n"
          ]
        },
        {
          "output_type": "stream",
          "name": "stderr",
          "text": [
            "  1%|▏         | 71/5000 [00:00<00:10, 486.21it/s]\n",
            "  2%|▏         | 113/5000 [00:00<00:11, 439.68it/s]\n"
          ]
        },
        {
          "output_type": "stream",
          "name": "stdout",
          "text": [
            "39\n"
          ]
        },
        {
          "output_type": "stream",
          "name": "stderr",
          "text": [
            "  2%|▏         | 98/5000 [00:00<00:10, 489.91it/s]\n",
            "  2%|▏         | 79/5000 [00:00<00:11, 429.37it/s]\n"
          ]
        },
        {
          "output_type": "stream",
          "name": "stdout",
          "text": [
            "40\n"
          ]
        },
        {
          "output_type": "stream",
          "name": "stderr",
          "text": [
            "  2%|▏         | 114/5000 [00:00<00:09, 489.27it/s]\n",
            "  2%|▏         | 120/5000 [00:00<00:10, 455.38it/s]\n"
          ]
        },
        {
          "output_type": "stream",
          "name": "stdout",
          "text": [
            "41\n"
          ]
        },
        {
          "output_type": "stream",
          "name": "stderr",
          "text": [
            "  2%|▏         | 111/5000 [00:00<00:10, 472.38it/s]\n",
            "  0%|          | 1/5000 [00:00<00:29, 166.85it/s]\n"
          ]
        },
        {
          "output_type": "stream",
          "name": "stdout",
          "text": [
            "42\n"
          ]
        },
        {
          "output_type": "stream",
          "name": "stderr",
          "text": [
            "  2%|▏         | 97/5000 [00:00<00:11, 443.25it/s]\n",
            "  0%|          | 25/5000 [00:00<00:11, 437.62it/s]\n"
          ]
        },
        {
          "output_type": "stream",
          "name": "stdout",
          "text": [
            "43\n"
          ]
        },
        {
          "output_type": "stream",
          "name": "stderr",
          "text": [
            "  2%|▏         | 113/5000 [00:00<00:10, 462.15it/s]\n",
            "  1%|          | 34/5000 [00:00<00:11, 443.06it/s]\n"
          ]
        },
        {
          "output_type": "stream",
          "name": "stdout",
          "text": [
            "44\n"
          ]
        },
        {
          "output_type": "stream",
          "name": "stderr",
          "text": [
            "  2%|▏         | 85/5000 [00:00<00:11, 443.11it/s]\n",
            "  2%|▏         | 100/5000 [00:00<00:11, 413.68it/s]\n"
          ]
        },
        {
          "output_type": "stream",
          "name": "stdout",
          "text": [
            "45\n"
          ]
        },
        {
          "output_type": "stream",
          "name": "stderr",
          "text": [
            "  3%|▎         | 139/5000 [00:00<00:11, 415.20it/s]\n",
            "  1%|          | 52/5000 [00:00<00:12, 411.85it/s]\n"
          ]
        },
        {
          "output_type": "stream",
          "name": "stdout",
          "text": [
            "46\n"
          ]
        },
        {
          "output_type": "stream",
          "name": "stderr",
          "text": [
            "  2%|▏         | 75/5000 [00:00<00:11, 410.83it/s]\n",
            "  2%|▏         | 118/5000 [00:00<00:11, 415.05it/s]\n"
          ]
        },
        {
          "output_type": "stream",
          "name": "stdout",
          "text": [
            "47\n"
          ]
        },
        {
          "output_type": "stream",
          "name": "stderr",
          "text": [
            "  3%|▎         | 153/5000 [00:00<00:10, 464.61it/s]\n",
            "  3%|▎         | 131/5000 [00:00<00:11, 434.46it/s]\n"
          ]
        },
        {
          "output_type": "stream",
          "name": "stdout",
          "text": [
            "48\n"
          ]
        },
        {
          "output_type": "stream",
          "name": "stderr",
          "text": [
            "  2%|▏         | 95/5000 [00:00<00:10, 475.24it/s]\n",
            "  2%|▏         | 76/5000 [00:00<00:11, 427.40it/s]\n"
          ]
        },
        {
          "output_type": "stream",
          "name": "stdout",
          "text": [
            "49\n"
          ]
        },
        {
          "output_type": "stream",
          "name": "stderr",
          "text": [
            "  3%|▎         | 126/5000 [00:00<00:10, 484.25it/s]\n",
            "  2%|▏         | 119/5000 [00:00<00:10, 465.03it/s]\n"
          ]
        },
        {
          "output_type": "stream",
          "name": "stdout",
          "text": [
            "50\n"
          ]
        },
        {
          "output_type": "stream",
          "name": "stderr",
          "text": [
            "  3%|▎         | 134/5000 [00:00<00:09, 497.68it/s]\n",
            "  2%|▏         | 76/5000 [00:00<00:11, 438.29it/s]\n"
          ]
        },
        {
          "output_type": "stream",
          "name": "stdout",
          "text": [
            "51\n"
          ]
        },
        {
          "output_type": "stream",
          "name": "stderr",
          "text": [
            "  2%|▏         | 110/5000 [00:00<00:09, 491.10it/s]\n",
            "  2%|▏         | 78/5000 [00:00<00:10, 465.32it/s]\n"
          ]
        },
        {
          "output_type": "stream",
          "name": "stdout",
          "text": [
            "52\n"
          ]
        },
        {
          "output_type": "stream",
          "name": "stderr",
          "text": [
            "  3%|▎         | 146/5000 [00:00<00:10, 475.40it/s]\n",
            "  1%|          | 56/5000 [00:00<00:12, 395.59it/s]\n"
          ]
        },
        {
          "output_type": "stream",
          "name": "stdout",
          "text": [
            "53\n"
          ]
        },
        {
          "output_type": "stream",
          "name": "stderr",
          "text": [
            "  3%|▎         | 145/5000 [00:00<00:11, 437.38it/s]\n",
            "  3%|▎         | 126/5000 [00:00<00:11, 426.22it/s]\n"
          ]
        },
        {
          "output_type": "stream",
          "name": "stdout",
          "text": [
            "54\n"
          ]
        },
        {
          "output_type": "stream",
          "name": "stderr",
          "text": [
            "  3%|▎         | 155/5000 [00:00<00:10, 465.83it/s]\n",
            "  3%|▎         | 143/5000 [00:00<00:11, 440.87it/s]\n"
          ]
        },
        {
          "output_type": "stream",
          "name": "stdout",
          "text": [
            "55\n"
          ]
        },
        {
          "output_type": "stream",
          "name": "stderr",
          "text": [
            "  2%|▏         | 102/5000 [00:00<00:10, 480.17it/s]\n",
            "  2%|▏         | 99/5000 [00:00<00:11, 430.05it/s]\n"
          ]
        },
        {
          "output_type": "stream",
          "name": "stdout",
          "text": [
            "56\n"
          ]
        },
        {
          "output_type": "stream",
          "name": "stderr",
          "text": [
            "  2%|▏         | 98/5000 [00:00<00:11, 432.14it/s]\n",
            "  2%|▏         | 81/5000 [00:00<00:11, 415.41it/s]\n"
          ]
        },
        {
          "output_type": "stream",
          "name": "stdout",
          "text": [
            "57\n"
          ]
        },
        {
          "output_type": "stream",
          "name": "stderr",
          "text": [
            "  2%|▏         | 86/5000 [00:00<00:10, 450.97it/s]\n",
            "  0%|          | 21/5000 [00:00<00:13, 372.79it/s]\n"
          ]
        },
        {
          "output_type": "stream",
          "name": "stdout",
          "text": [
            "58\n"
          ]
        },
        {
          "output_type": "stream",
          "name": "stderr",
          "text": [
            "  2%|▏         | 124/5000 [00:00<00:11, 421.30it/s]\n",
            "  1%|▏         | 71/5000 [00:00<00:11, 427.01it/s]\n"
          ]
        },
        {
          "output_type": "stream",
          "name": "stdout",
          "text": [
            "59\n"
          ]
        },
        {
          "output_type": "stream",
          "name": "stderr",
          "text": [
            "  2%|▏         | 98/5000 [00:00<00:15, 309.83it/s]\n",
            "  0%|          | 3/5000 [00:00<00:24, 203.06it/s]\n"
          ]
        },
        {
          "output_type": "stream",
          "name": "stdout",
          "text": [
            "60\n"
          ]
        },
        {
          "output_type": "stream",
          "name": "stderr",
          "text": [
            "  0%|          | 20/5000 [00:00<00:17, 280.16it/s]\n",
            "  1%|          | 41/5000 [00:00<00:16, 305.37it/s]\n"
          ]
        },
        {
          "output_type": "stream",
          "name": "stdout",
          "text": [
            "61\n"
          ]
        },
        {
          "output_type": "stream",
          "name": "stderr",
          "text": [
            "  1%|          | 61/5000 [00:00<00:13, 363.37it/s]\n",
            "  1%|          | 42/5000 [00:00<00:14, 330.74it/s]\n"
          ]
        },
        {
          "output_type": "stream",
          "name": "stdout",
          "text": [
            "62\n"
          ]
        },
        {
          "output_type": "stream",
          "name": "stderr",
          "text": [
            "  3%|▎         | 129/5000 [00:00<00:13, 370.03it/s]\n",
            "  2%|▏         | 92/5000 [00:00<00:13, 353.12it/s]\n"
          ]
        },
        {
          "output_type": "stream",
          "name": "stdout",
          "text": [
            "63\n"
          ]
        },
        {
          "output_type": "stream",
          "name": "stderr",
          "text": [
            "  1%|          | 43/5000 [00:00<00:13, 378.67it/s]\n",
            "  1%|          | 39/5000 [00:00<00:14, 337.01it/s]\n"
          ]
        },
        {
          "output_type": "stream",
          "name": "stdout",
          "text": [
            "64\n"
          ]
        },
        {
          "output_type": "stream",
          "name": "stderr",
          "text": [
            "  1%|          | 36/5000 [00:00<00:13, 379.64it/s]\n",
            "  1%|          | 26/5000 [00:00<00:14, 348.50it/s]\n"
          ]
        },
        {
          "output_type": "stream",
          "name": "stdout",
          "text": [
            "65\n"
          ]
        },
        {
          "output_type": "stream",
          "name": "stderr",
          "text": [
            "  2%|▏         | 121/5000 [00:00<00:13, 349.96it/s]\n",
            "  2%|▏         | 112/5000 [00:00<00:14, 337.67it/s]\n"
          ]
        },
        {
          "output_type": "stream",
          "name": "stdout",
          "text": [
            "66\n"
          ]
        },
        {
          "output_type": "stream",
          "name": "stderr",
          "text": [
            "  3%|▎         | 130/5000 [00:00<00:10, 478.92it/s]\n",
            "  1%|          | 50/5000 [00:00<00:11, 432.06it/s]\n"
          ]
        },
        {
          "output_type": "stream",
          "name": "stdout",
          "text": [
            "67\n"
          ]
        },
        {
          "output_type": "stream",
          "name": "stderr",
          "text": [
            "  3%|▎         | 169/5000 [00:00<00:09, 485.52it/s]\n",
            "  2%|▏         | 88/5000 [00:00<00:10, 452.39it/s]\n"
          ]
        },
        {
          "output_type": "stream",
          "name": "stdout",
          "text": [
            "68\n"
          ]
        },
        {
          "output_type": "stream",
          "name": "stderr",
          "text": [
            "  2%|▏         | 114/5000 [00:00<00:10, 475.83it/s]\n",
            "  2%|▏         | 119/5000 [00:00<00:11, 435.77it/s]\n"
          ]
        },
        {
          "output_type": "stream",
          "name": "stdout",
          "text": [
            "69\n"
          ]
        },
        {
          "output_type": "stream",
          "name": "stderr",
          "text": [
            "  5%|▌         | 265/5000 [00:00<00:09, 478.03it/s]\n",
            "  2%|▏         | 94/5000 [00:00<00:11, 424.45it/s]\n"
          ]
        },
        {
          "output_type": "stream",
          "name": "stdout",
          "text": [
            "70\n"
          ]
        },
        {
          "output_type": "stream",
          "name": "stderr",
          "text": [
            "  3%|▎         | 145/5000 [00:00<00:10, 443.98it/s]\n",
            "  1%|          | 56/5000 [00:00<00:11, 446.60it/s]\n"
          ]
        },
        {
          "output_type": "stream",
          "name": "stdout",
          "text": [
            "71\n",
            "71\n"
          ]
        },
        {
          "output_type": "stream",
          "name": "stderr",
          "text": [
            "  2%|▏         | 111/5000 [00:00<00:10, 470.99it/s]\n",
            "  2%|▏         | 86/5000 [00:00<00:10, 473.76it/s]\n"
          ]
        },
        {
          "output_type": "stream",
          "name": "stdout",
          "text": [
            "72\n"
          ]
        },
        {
          "output_type": "stream",
          "name": "stderr",
          "text": [
            "  2%|▏         | 118/5000 [00:00<00:10, 488.16it/s]\n",
            "  1%|▏         | 64/5000 [00:00<00:11, 429.26it/s]\n"
          ]
        },
        {
          "output_type": "stream",
          "name": "stdout",
          "text": [
            "73\n"
          ]
        },
        {
          "output_type": "stream",
          "name": "stderr",
          "text": [
            "  2%|▏         | 117/5000 [00:00<00:09, 499.32it/s]\n",
            "  2%|▏         | 84/5000 [00:00<00:11, 445.12it/s]\n"
          ]
        },
        {
          "output_type": "stream",
          "name": "stdout",
          "text": [
            "74\n"
          ]
        },
        {
          "output_type": "stream",
          "name": "stderr",
          "text": [
            "  2%|▏         | 120/5000 [00:00<00:09, 489.27it/s]\n",
            "  2%|▏         | 83/5000 [00:00<00:10, 448.17it/s]\n"
          ]
        },
        {
          "output_type": "stream",
          "name": "stdout",
          "text": [
            "75\n"
          ]
        },
        {
          "output_type": "stream",
          "name": "stderr",
          "text": [
            "  1%|          | 30/5000 [00:00<00:11, 424.41it/s]\n",
            "  0%|          | 19/5000 [00:00<00:11, 417.03it/s]\n"
          ]
        },
        {
          "output_type": "stream",
          "name": "stdout",
          "text": [
            "76\n"
          ]
        },
        {
          "output_type": "stream",
          "name": "stderr",
          "text": [
            "  3%|▎         | 142/5000 [00:00<00:10, 479.16it/s]\n",
            "  1%|          | 44/5000 [00:00<00:10, 454.55it/s]\n"
          ]
        },
        {
          "output_type": "stream",
          "name": "stdout",
          "text": [
            "77\n"
          ]
        },
        {
          "output_type": "stream",
          "name": "stderr",
          "text": [
            "  1%|          | 54/5000 [00:00<00:10, 474.66it/s]\n",
            "  1%|▏         | 63/5000 [00:00<00:12, 402.03it/s]\n"
          ]
        },
        {
          "output_type": "stream",
          "name": "stdout",
          "text": [
            "78\n"
          ]
        },
        {
          "output_type": "stream",
          "name": "stderr",
          "text": [
            "  1%|          | 57/5000 [00:00<00:11, 417.37it/s]\n",
            "  2%|▏         | 81/5000 [00:00<00:13, 373.35it/s]\n"
          ]
        },
        {
          "output_type": "stream",
          "name": "stdout",
          "text": [
            "79\n"
          ]
        },
        {
          "output_type": "stream",
          "name": "stderr",
          "text": [
            "  5%|▍         | 234/5000 [00:00<00:09, 483.94it/s]\n",
            "  1%|▏         | 65/5000 [00:00<00:11, 423.98it/s]\n"
          ]
        },
        {
          "output_type": "stream",
          "name": "stdout",
          "text": [
            "80\n"
          ]
        },
        {
          "output_type": "stream",
          "name": "stderr",
          "text": [
            "  2%|▏         | 114/5000 [00:00<00:10, 457.21it/s]\n",
            "  2%|▏         | 92/5000 [00:00<00:10, 464.97it/s]\n"
          ]
        },
        {
          "output_type": "stream",
          "name": "stdout",
          "text": [
            "81\n"
          ]
        },
        {
          "output_type": "stream",
          "name": "stderr",
          "text": [
            "  3%|▎         | 128/5000 [00:00<00:09, 495.75it/s]\n",
            "  1%|          | 38/5000 [00:00<00:11, 442.33it/s]\n"
          ]
        },
        {
          "output_type": "stream",
          "name": "stdout",
          "text": [
            "82\n"
          ]
        },
        {
          "output_type": "stream",
          "name": "stderr",
          "text": [
            "  3%|▎         | 136/5000 [00:00<00:10, 474.57it/s]\n",
            "  2%|▏         | 109/5000 [00:00<00:11, 441.26it/s]\n"
          ]
        },
        {
          "output_type": "stream",
          "name": "stdout",
          "text": [
            "83\n"
          ]
        },
        {
          "output_type": "stream",
          "name": "stderr",
          "text": [
            "  3%|▎         | 138/5000 [00:00<00:09, 491.60it/s]\n",
            "  2%|▏         | 80/5000 [00:00<00:10, 456.09it/s]\n"
          ]
        },
        {
          "output_type": "stream",
          "name": "stdout",
          "text": [
            "84\n"
          ]
        },
        {
          "output_type": "stream",
          "name": "stderr",
          "text": [
            "  1%|▏         | 73/5000 [00:00<00:10, 468.26it/s]\n",
            "  0%|          | 10/5000 [00:00<00:13, 381.47it/s]\n"
          ]
        },
        {
          "output_type": "stream",
          "name": "stdout",
          "text": [
            "85\n"
          ]
        },
        {
          "output_type": "stream",
          "name": "stderr",
          "text": [
            "  3%|▎         | 153/5000 [00:00<00:10, 478.16it/s]\n",
            "  2%|▏         | 84/5000 [00:00<00:11, 429.90it/s]\n"
          ]
        },
        {
          "output_type": "stream",
          "name": "stdout",
          "text": [
            "86\n"
          ]
        },
        {
          "output_type": "stream",
          "name": "stderr",
          "text": [
            "  2%|▏         | 79/5000 [00:00<00:10, 477.27it/s]\n",
            "  2%|▏         | 107/5000 [00:00<00:10, 453.37it/s]\n"
          ]
        },
        {
          "output_type": "stream",
          "name": "stdout",
          "text": [
            "87\n"
          ]
        },
        {
          "output_type": "stream",
          "name": "stderr",
          "text": [
            "  3%|▎         | 126/5000 [00:00<00:10, 464.58it/s]\n",
            "  2%|▏         | 75/5000 [00:00<00:11, 425.55it/s]\n"
          ]
        },
        {
          "output_type": "stream",
          "name": "stdout",
          "text": [
            "88\n"
          ]
        },
        {
          "output_type": "stream",
          "name": "stderr",
          "text": [
            "  2%|▏         | 115/5000 [00:00<00:13, 371.52it/s]\n",
            "  2%|▏         | 91/5000 [00:00<00:13, 361.72it/s]\n"
          ]
        },
        {
          "output_type": "stream",
          "name": "stdout",
          "text": [
            "89\n"
          ]
        },
        {
          "output_type": "stream",
          "name": "stderr",
          "text": [
            "  0%|          | 21/5000 [00:00<00:13, 369.76it/s]\n",
            "  0%|          | 2/5000 [00:00<00:22, 218.98it/s]\n"
          ]
        },
        {
          "output_type": "stream",
          "name": "stdout",
          "text": [
            "90\n"
          ]
        },
        {
          "output_type": "stream",
          "name": "stderr",
          "text": [
            "  2%|▎         | 125/5000 [00:00<00:13, 373.70it/s]\n",
            "  1%|▏         | 66/5000 [00:00<00:14, 345.64it/s]\n"
          ]
        },
        {
          "output_type": "stream",
          "name": "stdout",
          "text": [
            "91\n"
          ]
        },
        {
          "output_type": "stream",
          "name": "stderr",
          "text": [
            "  1%|          | 49/5000 [00:00<00:12, 392.99it/s]\n",
            "  1%|▏         | 68/5000 [00:00<00:13, 366.45it/s]\n"
          ]
        },
        {
          "output_type": "stream",
          "name": "stdout",
          "text": [
            "92\n"
          ]
        },
        {
          "output_type": "stream",
          "name": "stderr",
          "text": [
            "  1%|          | 52/5000 [00:00<00:12, 389.99it/s]\n",
            "  1%|          | 59/5000 [00:00<00:14, 335.57it/s]\n"
          ]
        },
        {
          "output_type": "stream",
          "name": "stdout",
          "text": [
            "93\n"
          ]
        },
        {
          "output_type": "stream",
          "name": "stderr",
          "text": [
            "  1%|          | 26/5000 [00:00<00:15, 328.43it/s]\n",
            "  1%|          | 32/5000 [00:00<00:17, 279.43it/s]\n"
          ]
        },
        {
          "output_type": "stream",
          "name": "stdout",
          "text": [
            "94\n"
          ]
        },
        {
          "output_type": "stream",
          "name": "stderr",
          "text": [
            "  2%|▏         | 97/5000 [00:00<00:13, 351.49it/s]\n",
            "  2%|▏         | 80/5000 [00:00<00:10, 450.84it/s]\n"
          ]
        },
        {
          "output_type": "stream",
          "name": "stdout",
          "text": [
            "95\n"
          ]
        },
        {
          "output_type": "stream",
          "name": "stderr",
          "text": [
            "  2%|▏         | 89/5000 [00:00<00:10, 479.82it/s]\n",
            "  2%|▏         | 84/5000 [00:00<00:11, 439.44it/s]\n"
          ]
        },
        {
          "output_type": "stream",
          "name": "stdout",
          "text": [
            "96\n"
          ]
        },
        {
          "output_type": "stream",
          "name": "stderr",
          "text": [
            "  2%|▏         | 105/5000 [00:00<00:10, 475.61it/s]\n",
            "  2%|▏         | 76/5000 [00:00<00:10, 459.12it/s]\n"
          ]
        },
        {
          "output_type": "stream",
          "name": "stdout",
          "text": [
            "97\n"
          ]
        },
        {
          "output_type": "stream",
          "name": "stderr",
          "text": [
            "  2%|▏         | 96/5000 [00:00<00:10, 490.00it/s]\n",
            "  1%|          | 53/5000 [00:00<00:11, 447.61it/s]\n"
          ]
        },
        {
          "output_type": "stream",
          "name": "stdout",
          "text": [
            "98\n"
          ]
        },
        {
          "output_type": "stream",
          "name": "stderr",
          "text": [
            "  3%|▎         | 172/5000 [00:00<00:09, 486.35it/s]\n",
            "  2%|▏         | 79/5000 [00:00<00:11, 443.63it/s]\n"
          ]
        },
        {
          "output_type": "stream",
          "name": "stdout",
          "text": [
            "99\n"
          ]
        },
        {
          "output_type": "stream",
          "name": "stderr",
          "text": [
            "  3%|▎         | 144/5000 [00:00<00:09, 502.12it/s]\n",
            "  1%|          | 39/5000 [00:00<00:11, 449.42it/s]"
          ]
        },
        {
          "output_type": "stream",
          "name": "stdout",
          "text": [
            "avg n_iter for model_relu and model_siren = (108.8, 74.36)\n"
          ]
        },
        {
          "output_type": "stream",
          "name": "stderr",
          "text": [
            "\n"
          ]
        }
      ],
      "source": [
        "print(f\"avg n_iter for model_relu and model_siren = {new_compute_avg_n_iter_test(model_relu, model_siren)}\")"
      ]
    },
    {
      "cell_type": "code",
      "source": [
        "print(f\"avg n_iter for model_relu and model_siren_updated = {new_compute_avg_n_iter_test(model_relu, model_siren_updated)}\")"
      ],
      "metadata": {
        "id": "gmEA44hMOAcT",
        "outputId": "a25eaf2d-7078-4617-c3c2-aa4a6bf52e4b",
        "colab": {
          "base_uri": "https://localhost:8080/"
        }
      },
      "execution_count": 36,
      "outputs": [
        {
          "output_type": "stream",
          "name": "stdout",
          "text": [
            "0\n"
          ]
        },
        {
          "output_type": "stream",
          "name": "stderr",
          "text": [
            "  2%|▏         | 123/5000 [00:00<00:10, 469.53it/s]\n",
            "  5%|▌         | 266/5000 [00:00<00:11, 426.73it/s]\n"
          ]
        },
        {
          "output_type": "stream",
          "name": "stdout",
          "text": [
            "1\n"
          ]
        },
        {
          "output_type": "stream",
          "name": "stderr",
          "text": [
            "  3%|▎         | 162/5000 [00:00<00:10, 476.05it/s]\n",
            "  3%|▎         | 131/5000 [00:00<00:11, 430.89it/s]\n"
          ]
        },
        {
          "output_type": "stream",
          "name": "stdout",
          "text": [
            "2\n"
          ]
        },
        {
          "output_type": "stream",
          "name": "stderr",
          "text": [
            "  1%|▏         | 72/5000 [00:00<00:10, 485.76it/s]\n",
            "  3%|▎         | 152/5000 [00:00<00:11, 433.14it/s]\n"
          ]
        },
        {
          "output_type": "stream",
          "name": "stdout",
          "text": [
            "3\n"
          ]
        },
        {
          "output_type": "stream",
          "name": "stderr",
          "text": [
            "  3%|▎         | 160/5000 [00:00<00:10, 466.94it/s]\n",
            "  3%|▎         | 137/5000 [00:00<00:11, 434.76it/s]\n"
          ]
        },
        {
          "output_type": "stream",
          "name": "stdout",
          "text": [
            "4\n"
          ]
        },
        {
          "output_type": "stream",
          "name": "stderr",
          "text": [
            "  2%|▏         | 87/5000 [00:00<00:10, 470.42it/s]\n",
            "100%|██████████| 5000/5000 [00:12<00:00, 404.48it/s]\n"
          ]
        },
        {
          "output_type": "stream",
          "name": "stdout",
          "text": [
            "5\n"
          ]
        },
        {
          "output_type": "stream",
          "name": "stderr",
          "text": [
            "  2%|▏         | 108/5000 [00:00<00:10, 476.83it/s]\n",
            " 13%|█▎        | 673/5000 [00:01<00:11, 389.70it/s]\n"
          ]
        },
        {
          "output_type": "stream",
          "name": "stdout",
          "text": [
            "6\n"
          ]
        },
        {
          "output_type": "stream",
          "name": "stderr",
          "text": [
            "  1%|          | 56/5000 [00:00<00:11, 447.06it/s]\n",
            "  0%|          | 20/5000 [00:00<00:12, 396.54it/s]\n"
          ]
        },
        {
          "output_type": "stream",
          "name": "stdout",
          "text": [
            "7\n"
          ]
        },
        {
          "output_type": "stream",
          "name": "stderr",
          "text": [
            "  1%|          | 33/5000 [00:00<00:10, 467.25it/s]\n",
            "  0%|          | 22/5000 [00:00<00:12, 395.62it/s]\n"
          ]
        },
        {
          "output_type": "stream",
          "name": "stdout",
          "text": [
            "8\n"
          ]
        },
        {
          "output_type": "stream",
          "name": "stderr",
          "text": [
            "  1%|          | 54/5000 [00:00<00:10, 452.47it/s]\n",
            "  1%|          | 31/5000 [00:00<00:12, 411.93it/s]\n"
          ]
        },
        {
          "output_type": "stream",
          "name": "stdout",
          "text": [
            "9\n"
          ]
        },
        {
          "output_type": "stream",
          "name": "stderr",
          "text": [
            "  1%|          | 51/5000 [00:00<00:10, 474.34it/s]\n",
            "  1%|          | 36/5000 [00:00<00:12, 411.20it/s]\n"
          ]
        },
        {
          "output_type": "stream",
          "name": "stdout",
          "text": [
            "10\n"
          ]
        },
        {
          "output_type": "stream",
          "name": "stderr",
          "text": [
            "  4%|▎         | 184/5000 [00:00<00:10, 474.61it/s]\n",
            "100%|██████████| 5000/5000 [00:12<00:00, 410.30it/s]\n"
          ]
        },
        {
          "output_type": "stream",
          "name": "stdout",
          "text": [
            "11\n"
          ]
        },
        {
          "output_type": "stream",
          "name": "stderr",
          "text": [
            "  2%|▏         | 102/5000 [00:00<00:10, 460.02it/s]\n",
            " 74%|███████▎  | 3681/5000 [00:09<00:03, 406.60it/s]\n"
          ]
        },
        {
          "output_type": "stream",
          "name": "stdout",
          "text": [
            "12\n"
          ]
        },
        {
          "output_type": "stream",
          "name": "stderr",
          "text": [
            "  2%|▏         | 76/5000 [00:00<00:10, 450.72it/s]\n",
            "  1%|          | 43/5000 [00:00<00:11, 440.64it/s]\n"
          ]
        },
        {
          "output_type": "stream",
          "name": "stdout",
          "text": [
            "13\n"
          ]
        },
        {
          "output_type": "stream",
          "name": "stderr",
          "text": [
            "  3%|▎         | 165/5000 [00:00<00:09, 492.90it/s]\n",
            "100%|██████████| 5000/5000 [00:12<00:00, 411.15it/s]\n"
          ]
        },
        {
          "output_type": "stream",
          "name": "stdout",
          "text": [
            "14\n"
          ]
        },
        {
          "output_type": "stream",
          "name": "stderr",
          "text": [
            "  2%|▏         | 107/5000 [00:00<00:10, 476.06it/s]\n",
            "  1%|▏         | 66/5000 [00:00<00:11, 436.72it/s]\n"
          ]
        },
        {
          "output_type": "stream",
          "name": "stdout",
          "text": [
            "15\n"
          ]
        },
        {
          "output_type": "stream",
          "name": "stderr",
          "text": [
            "  2%|▏         | 80/5000 [00:00<00:10, 483.01it/s]\n",
            "  5%|▍         | 230/5000 [00:00<00:10, 436.33it/s]\n"
          ]
        },
        {
          "output_type": "stream",
          "name": "stdout",
          "text": [
            "16\n"
          ]
        },
        {
          "output_type": "stream",
          "name": "stderr",
          "text": [
            "  2%|▏         | 77/5000 [00:00<00:09, 494.90it/s]\n",
            "  1%|          | 37/5000 [00:00<00:11, 443.33it/s]\n"
          ]
        },
        {
          "output_type": "stream",
          "name": "stdout",
          "text": [
            "17\n"
          ]
        },
        {
          "output_type": "stream",
          "name": "stderr",
          "text": [
            "  2%|▏         | 110/5000 [00:00<00:09, 489.69it/s]\n",
            "  4%|▍         | 218/5000 [00:00<00:10, 436.83it/s]\n"
          ]
        },
        {
          "output_type": "stream",
          "name": "stdout",
          "text": [
            "18\n",
            "18\n"
          ]
        },
        {
          "output_type": "stream",
          "name": "stderr",
          "text": [
            "  3%|▎         | 161/5000 [00:00<00:10, 479.99it/s]\n",
            "100%|██████████| 5000/5000 [00:12<00:00, 415.28it/s]\n"
          ]
        },
        {
          "output_type": "stream",
          "name": "stdout",
          "text": [
            "19\n"
          ]
        },
        {
          "output_type": "stream",
          "name": "stderr",
          "text": [
            "  1%|          | 33/5000 [00:00<00:10, 479.76it/s]\n",
            "  1%|          | 27/5000 [00:00<00:11, 449.03it/s]\n"
          ]
        },
        {
          "output_type": "stream",
          "name": "stdout",
          "text": [
            "20\n"
          ]
        },
        {
          "output_type": "stream",
          "name": "stderr",
          "text": [
            "  1%|          | 58/5000 [00:00<00:09, 496.60it/s]\n",
            "  1%|▏         | 66/5000 [00:00<00:11, 423.90it/s]\n"
          ]
        },
        {
          "output_type": "stream",
          "name": "stdout",
          "text": [
            "21\n"
          ]
        },
        {
          "output_type": "stream",
          "name": "stderr",
          "text": [
            "  2%|▏         | 87/5000 [00:00<00:11, 432.60it/s]\n",
            "100%|██████████| 5000/5000 [00:12<00:00, 409.47it/s]\n"
          ]
        },
        {
          "output_type": "stream",
          "name": "stdout",
          "text": [
            "22\n"
          ]
        },
        {
          "output_type": "stream",
          "name": "stderr",
          "text": [
            "  3%|▎         | 172/5000 [00:00<00:09, 503.43it/s]\n",
            "  7%|▋         | 361/5000 [00:00<00:12, 366.79it/s]\n"
          ]
        },
        {
          "output_type": "stream",
          "name": "stdout",
          "text": [
            "23\n"
          ]
        },
        {
          "output_type": "stream",
          "name": "stderr",
          "text": [
            "  1%|▏         | 73/5000 [00:00<00:12, 383.29it/s]\n",
            "  2%|▏         | 84/5000 [00:00<00:16, 295.35it/s]\n"
          ]
        },
        {
          "output_type": "stream",
          "name": "stdout",
          "text": [
            "24\n"
          ]
        },
        {
          "output_type": "stream",
          "name": "stderr",
          "text": [
            "  4%|▍         | 212/5000 [00:00<00:12, 368.60it/s]\n",
            "  5%|▍         | 240/5000 [00:00<00:13, 343.53it/s]\n"
          ]
        },
        {
          "output_type": "stream",
          "name": "stdout",
          "text": [
            "25\n"
          ]
        },
        {
          "output_type": "stream",
          "name": "stderr",
          "text": [
            "  2%|▏         | 120/5000 [00:00<00:09, 502.87it/s]\n",
            " 94%|█████████▍| 4701/5000 [00:11<00:00, 426.25it/s]\n"
          ]
        },
        {
          "output_type": "stream",
          "name": "stdout",
          "text": [
            "26\n"
          ]
        },
        {
          "output_type": "stream",
          "name": "stderr",
          "text": [
            "  2%|▏         | 119/5000 [00:00<00:12, 382.23it/s]\n",
            "100%|██████████| 5000/5000 [00:11<00:00, 418.51it/s]\n"
          ]
        },
        {
          "output_type": "stream",
          "name": "stdout",
          "text": [
            "27\n"
          ]
        },
        {
          "output_type": "stream",
          "name": "stderr",
          "text": [
            "  4%|▍         | 204/5000 [00:00<00:12, 369.12it/s]\n",
            "100%|██████████| 5000/5000 [00:11<00:00, 420.99it/s]\n"
          ]
        },
        {
          "output_type": "stream",
          "name": "stdout",
          "text": [
            "28\n"
          ]
        },
        {
          "output_type": "stream",
          "name": "stderr",
          "text": [
            "  1%|▏         | 71/5000 [00:00<00:13, 365.08it/s]\n",
            "  2%|▏         | 94/5000 [00:00<00:14, 334.25it/s]\n"
          ]
        },
        {
          "output_type": "stream",
          "name": "stdout",
          "text": [
            "29\n"
          ]
        },
        {
          "output_type": "stream",
          "name": "stderr",
          "text": [
            "  3%|▎         | 151/5000 [00:00<00:10, 444.89it/s]\n",
            "  3%|▎         | 161/5000 [00:00<00:11, 428.33it/s]\n"
          ]
        },
        {
          "output_type": "stream",
          "name": "stdout",
          "text": [
            "30\n"
          ]
        },
        {
          "output_type": "stream",
          "name": "stderr",
          "text": [
            "  2%|▏         | 90/5000 [00:00<00:09, 513.32it/s]\n",
            "  1%|          | 54/5000 [00:00<00:11, 444.89it/s]\n"
          ]
        },
        {
          "output_type": "stream",
          "name": "stdout",
          "text": [
            "31\n"
          ]
        },
        {
          "output_type": "stream",
          "name": "stderr",
          "text": [
            "  2%|▏         | 123/5000 [00:00<00:10, 481.64it/s]\n",
            "100%|██████████| 5000/5000 [00:12<00:00, 415.27it/s]\n"
          ]
        },
        {
          "output_type": "stream",
          "name": "stdout",
          "text": [
            "32\n",
            "32\n"
          ]
        },
        {
          "output_type": "stream",
          "name": "stderr",
          "text": [
            "  3%|▎         | 129/5000 [00:00<00:10, 480.89it/s]\n",
            "  5%|▍         | 244/5000 [00:00<00:10, 435.80it/s]\n"
          ]
        },
        {
          "output_type": "stream",
          "name": "stdout",
          "text": [
            "33\n"
          ]
        },
        {
          "output_type": "stream",
          "name": "stderr",
          "text": [
            "  3%|▎         | 142/5000 [00:00<00:09, 502.46it/s]\n",
            "  2%|▏         | 107/5000 [00:00<00:11, 429.11it/s]\n"
          ]
        },
        {
          "output_type": "stream",
          "name": "stdout",
          "text": [
            "34\n"
          ]
        },
        {
          "output_type": "stream",
          "name": "stderr",
          "text": [
            "  3%|▎         | 128/5000 [00:00<00:10, 468.04it/s]\n",
            " 14%|█▍        | 705/5000 [00:01<00:10, 410.02it/s]\n"
          ]
        },
        {
          "output_type": "stream",
          "name": "stdout",
          "text": [
            "35\n"
          ]
        },
        {
          "output_type": "stream",
          "name": "stderr",
          "text": [
            "  2%|▏         | 116/5000 [00:00<00:09, 488.64it/s]\n",
            "  1%|          | 55/5000 [00:00<00:11, 422.19it/s]\n"
          ]
        },
        {
          "output_type": "stream",
          "name": "stdout",
          "text": [
            "36\n"
          ]
        },
        {
          "output_type": "stream",
          "name": "stderr",
          "text": [
            "  2%|▏         | 103/5000 [00:00<00:10, 480.16it/s]\n",
            "  3%|▎         | 136/5000 [00:00<00:11, 427.08it/s]\n"
          ]
        },
        {
          "output_type": "stream",
          "name": "stdout",
          "text": [
            "37\n"
          ]
        },
        {
          "output_type": "stream",
          "name": "stderr",
          "text": [
            "  2%|▏         | 80/5000 [00:00<00:10, 486.12it/s]\n",
            " 15%|█▍        | 737/5000 [00:01<00:09, 427.42it/s]\n"
          ]
        },
        {
          "output_type": "stream",
          "name": "stdout",
          "text": [
            "38\n"
          ]
        },
        {
          "output_type": "stream",
          "name": "stderr",
          "text": [
            "  1%|▏         | 71/5000 [00:00<00:10, 471.23it/s]\n",
            "  1%|          | 46/5000 [00:00<00:12, 395.51it/s]\n"
          ]
        },
        {
          "output_type": "stream",
          "name": "stdout",
          "text": [
            "39\n"
          ]
        },
        {
          "output_type": "stream",
          "name": "stderr",
          "text": [
            "  2%|▏         | 98/5000 [00:00<00:10, 486.47it/s]\n",
            "  3%|▎         | 142/5000 [00:00<00:11, 429.54it/s]\n"
          ]
        },
        {
          "output_type": "stream",
          "name": "stdout",
          "text": [
            "40\n"
          ]
        },
        {
          "output_type": "stream",
          "name": "stderr",
          "text": [
            "  2%|▏         | 114/5000 [00:00<00:09, 491.22it/s]\n",
            "100%|██████████| 5000/5000 [00:11<00:00, 417.89it/s]\n"
          ]
        },
        {
          "output_type": "stream",
          "name": "stdout",
          "text": [
            "41\n"
          ]
        },
        {
          "output_type": "stream",
          "name": "stderr",
          "text": [
            "  2%|▏         | 111/5000 [00:00<00:09, 508.86it/s]\n",
            "100%|██████████| 5000/5000 [00:11<00:00, 417.44it/s]\n"
          ]
        },
        {
          "output_type": "stream",
          "name": "stdout",
          "text": [
            "42\n"
          ]
        },
        {
          "output_type": "stream",
          "name": "stderr",
          "text": [
            "  2%|▏         | 97/5000 [00:00<00:10, 467.78it/s]\n",
            "100%|██████████| 5000/5000 [00:12<00:00, 392.76it/s]\n"
          ]
        },
        {
          "output_type": "stream",
          "name": "stdout",
          "text": [
            "43\n"
          ]
        },
        {
          "output_type": "stream",
          "name": "stderr",
          "text": [
            "  2%|▏         | 113/5000 [00:00<00:09, 493.57it/s]\n",
            "100%|██████████| 5000/5000 [00:12<00:00, 416.49it/s]\n"
          ]
        },
        {
          "output_type": "stream",
          "name": "stdout",
          "text": [
            "44\n"
          ]
        },
        {
          "output_type": "stream",
          "name": "stderr",
          "text": [
            "  2%|▏         | 85/5000 [00:00<00:10, 489.91it/s]\n",
            "  1%|          | 51/5000 [00:00<00:12, 410.02it/s]\n"
          ]
        },
        {
          "output_type": "stream",
          "name": "stdout",
          "text": [
            "45\n"
          ]
        },
        {
          "output_type": "stream",
          "name": "stderr",
          "text": [
            "  3%|▎         | 139/5000 [00:00<00:09, 496.41it/s]\n",
            "100%|██████████| 5000/5000 [00:11<00:00, 418.29it/s]\n"
          ]
        },
        {
          "output_type": "stream",
          "name": "stdout",
          "text": [
            "46\n"
          ]
        },
        {
          "output_type": "stream",
          "name": "stderr",
          "text": [
            "  2%|▏         | 75/5000 [00:00<00:09, 501.10it/s]\n",
            "100%|██████████| 5000/5000 [00:11<00:00, 420.31it/s]\n"
          ]
        },
        {
          "output_type": "stream",
          "name": "stdout",
          "text": [
            "47\n"
          ]
        },
        {
          "output_type": "stream",
          "name": "stderr",
          "text": [
            "  3%|▎         | 153/5000 [00:00<00:09, 517.50it/s]\n",
            "100%|██████████| 5000/5000 [00:11<00:00, 421.87it/s]\n"
          ]
        },
        {
          "output_type": "stream",
          "name": "stdout",
          "text": [
            "48\n"
          ]
        },
        {
          "output_type": "stream",
          "name": "stderr",
          "text": [
            "  2%|▏         | 95/5000 [00:00<00:10, 465.63it/s]\n",
            "  2%|▏         | 109/5000 [00:00<00:10, 448.46it/s]\n"
          ]
        },
        {
          "output_type": "stream",
          "name": "stdout",
          "text": [
            "49\n"
          ]
        },
        {
          "output_type": "stream",
          "name": "stderr",
          "text": [
            "  3%|▎         | 126/5000 [00:00<00:10, 484.06it/s]\n",
            "100%|██████████| 5000/5000 [00:11<00:00, 422.22it/s]\n"
          ]
        },
        {
          "output_type": "stream",
          "name": "stdout",
          "text": [
            "50\n"
          ]
        },
        {
          "output_type": "stream",
          "name": "stderr",
          "text": [
            "  3%|▎         | 134/5000 [00:00<00:09, 505.85it/s]\n",
            "  2%|▏         | 100/5000 [00:00<00:11, 433.93it/s]\n"
          ]
        },
        {
          "output_type": "stream",
          "name": "stdout",
          "text": [
            "51\n"
          ]
        },
        {
          "output_type": "stream",
          "name": "stderr",
          "text": [
            "  2%|▏         | 110/5000 [00:00<00:10, 486.34it/s]\n",
            "100%|██████████| 5000/5000 [00:11<00:00, 421.69it/s]\n"
          ]
        },
        {
          "output_type": "stream",
          "name": "stdout",
          "text": [
            "52\n"
          ]
        },
        {
          "output_type": "stream",
          "name": "stderr",
          "text": [
            "  3%|▎         | 146/5000 [00:00<00:09, 487.18it/s]\n",
            "  2%|▏         | 78/5000 [00:00<00:11, 432.73it/s]\n"
          ]
        },
        {
          "output_type": "stream",
          "name": "stdout",
          "text": [
            "53\n"
          ]
        },
        {
          "output_type": "stream",
          "name": "stderr",
          "text": [
            "  3%|▎         | 145/5000 [00:00<00:09, 497.46it/s]\n",
            "  1%|▏         | 66/5000 [00:00<00:11, 436.36it/s]\n"
          ]
        },
        {
          "output_type": "stream",
          "name": "stdout",
          "text": [
            "54\n"
          ]
        },
        {
          "output_type": "stream",
          "name": "stderr",
          "text": [
            "  3%|▎         | 155/5000 [00:00<00:10, 484.22it/s]\n",
            "100%|██████████| 5000/5000 [00:11<00:00, 421.18it/s]\n"
          ]
        },
        {
          "output_type": "stream",
          "name": "stdout",
          "text": [
            "55\n"
          ]
        },
        {
          "output_type": "stream",
          "name": "stderr",
          "text": [
            "  2%|▏         | 102/5000 [00:00<00:09, 511.88it/s]\n",
            " 18%|█▊        | 924/5000 [00:02<00:11, 354.83it/s]\n"
          ]
        },
        {
          "output_type": "stream",
          "name": "stdout",
          "text": [
            "56\n"
          ]
        },
        {
          "output_type": "stream",
          "name": "stderr",
          "text": [
            "  2%|▏         | 98/5000 [00:00<00:10, 486.85it/s]\n",
            "  1%|          | 61/5000 [00:00<00:11, 437.65it/s]\n"
          ]
        },
        {
          "output_type": "stream",
          "name": "stdout",
          "text": [
            "57\n"
          ]
        },
        {
          "output_type": "stream",
          "name": "stderr",
          "text": [
            "  2%|▏         | 86/5000 [00:00<00:10, 490.64it/s]\n",
            "  1%|          | 42/5000 [00:00<00:12, 412.89it/s]\n"
          ]
        },
        {
          "output_type": "stream",
          "name": "stdout",
          "text": [
            "58\n"
          ]
        },
        {
          "output_type": "stream",
          "name": "stderr",
          "text": [
            "  2%|▏         | 124/5000 [00:00<00:10, 467.67it/s]\n",
            "  2%|▏         | 95/5000 [00:00<00:11, 435.29it/s]\n"
          ]
        },
        {
          "output_type": "stream",
          "name": "stdout",
          "text": [
            "59\n"
          ]
        },
        {
          "output_type": "stream",
          "name": "stderr",
          "text": [
            "  2%|▏         | 98/5000 [00:00<00:10, 489.22it/s]\n",
            "  5%|▍         | 242/5000 [00:00<00:10, 437.15it/s]\n"
          ]
        },
        {
          "output_type": "stream",
          "name": "stdout",
          "text": [
            "60\n",
            "60\n"
          ]
        },
        {
          "output_type": "stream",
          "name": "stderr",
          "text": [
            "  1%|          | 61/5000 [00:00<00:09, 494.34it/s]\n",
            "100%|██████████| 5000/5000 [00:12<00:00, 413.63it/s]\n"
          ]
        },
        {
          "output_type": "stream",
          "name": "stdout",
          "text": [
            "61\n"
          ]
        },
        {
          "output_type": "stream",
          "name": "stderr",
          "text": [
            "  3%|▎         | 129/5000 [00:00<00:10, 449.74it/s]\n",
            "  4%|▍         | 213/5000 [00:00<00:11, 432.20it/s]\n"
          ]
        },
        {
          "output_type": "stream",
          "name": "stdout",
          "text": [
            "62\n"
          ]
        },
        {
          "output_type": "stream",
          "name": "stderr",
          "text": [
            "  1%|          | 43/5000 [00:00<00:10, 491.78it/s]\n",
            "  1%|          | 35/5000 [00:00<00:12, 400.95it/s]\n"
          ]
        },
        {
          "output_type": "stream",
          "name": "stdout",
          "text": [
            "63\n"
          ]
        },
        {
          "output_type": "stream",
          "name": "stderr",
          "text": [
            "  1%|          | 36/5000 [00:00<00:10, 456.87it/s]\n",
            "  2%|▏         | 115/5000 [00:00<00:11, 424.10it/s]\n"
          ]
        },
        {
          "output_type": "stream",
          "name": "stdout",
          "text": [
            "64\n"
          ]
        },
        {
          "output_type": "stream",
          "name": "stderr",
          "text": [
            "  2%|▏         | 121/5000 [00:00<00:09, 498.03it/s]\n",
            "100%|██████████| 5000/5000 [00:13<00:00, 375.22it/s]\n"
          ]
        },
        {
          "output_type": "stream",
          "name": "stdout",
          "text": [
            "65\n"
          ]
        },
        {
          "output_type": "stream",
          "name": "stderr",
          "text": [
            "  3%|▎         | 130/5000 [00:00<00:16, 303.06it/s]\n",
            "100%|██████████| 5000/5000 [00:12<00:00, 396.49it/s]\n"
          ]
        },
        {
          "output_type": "stream",
          "name": "stdout",
          "text": [
            "66\n"
          ]
        },
        {
          "output_type": "stream",
          "name": "stderr",
          "text": [
            "  3%|▎         | 169/5000 [00:00<00:09, 489.42it/s]\n",
            "100%|██████████| 5000/5000 [00:12<00:00, 413.92it/s]\n"
          ]
        },
        {
          "output_type": "stream",
          "name": "stdout",
          "text": [
            "67\n"
          ]
        },
        {
          "output_type": "stream",
          "name": "stderr",
          "text": [
            "  2%|▏         | 114/5000 [00:00<00:10, 475.36it/s]\n",
            "  4%|▍         | 221/5000 [00:00<00:11, 432.55it/s]\n"
          ]
        },
        {
          "output_type": "stream",
          "name": "stdout",
          "text": [
            "68\n"
          ]
        },
        {
          "output_type": "stream",
          "name": "stderr",
          "text": [
            "  5%|▌         | 265/5000 [00:00<00:09, 492.41it/s]\n",
            "100%|██████████| 5000/5000 [00:12<00:00, 405.65it/s]\n"
          ]
        },
        {
          "output_type": "stream",
          "name": "stdout",
          "text": [
            "69\n"
          ]
        },
        {
          "output_type": "stream",
          "name": "stderr",
          "text": [
            "  3%|▎         | 145/5000 [00:00<00:09, 507.37it/s]\n",
            "100%|██████████| 5000/5000 [00:13<00:00, 367.70it/s]\n"
          ]
        },
        {
          "output_type": "stream",
          "name": "stdout",
          "text": [
            "70\n",
            "70\n"
          ]
        },
        {
          "output_type": "stream",
          "name": "stderr",
          "text": [
            "  2%|▏         | 111/5000 [00:00<00:10, 488.02it/s]\n",
            "  1%|          | 41/5000 [00:00<00:11, 437.11it/s]\n"
          ]
        },
        {
          "output_type": "stream",
          "name": "stdout",
          "text": [
            "71\n"
          ]
        },
        {
          "output_type": "stream",
          "name": "stderr",
          "text": [
            "  2%|▏         | 118/5000 [00:00<00:10, 476.28it/s]\n",
            " 49%|████▊     | 2435/5000 [00:06<00:06, 400.15it/s]\n"
          ]
        },
        {
          "output_type": "stream",
          "name": "stdout",
          "text": [
            "72\n"
          ]
        },
        {
          "output_type": "stream",
          "name": "stderr",
          "text": [
            "  2%|▏         | 117/5000 [00:00<00:10, 462.07it/s]\n",
            "100%|██████████| 5000/5000 [00:12<00:00, 399.72it/s]\n"
          ]
        },
        {
          "output_type": "stream",
          "name": "stdout",
          "text": [
            "73\n"
          ]
        },
        {
          "output_type": "stream",
          "name": "stderr",
          "text": [
            "  2%|▏         | 120/5000 [00:00<00:09, 502.68it/s]\n",
            "100%|██████████| 5000/5000 [00:12<00:00, 386.28it/s]\n"
          ]
        },
        {
          "output_type": "stream",
          "name": "stdout",
          "text": [
            "74\n"
          ]
        },
        {
          "output_type": "stream",
          "name": "stderr",
          "text": [
            "  1%|          | 30/5000 [00:00<00:10, 460.66it/s]\n",
            "  1%|          | 29/5000 [00:00<00:11, 416.23it/s]\n"
          ]
        },
        {
          "output_type": "stream",
          "name": "stdout",
          "text": [
            "75\n"
          ]
        },
        {
          "output_type": "stream",
          "name": "stderr",
          "text": [
            "  3%|▎         | 142/5000 [00:00<00:09, 488.08it/s]\n",
            "100%|██████████| 5000/5000 [00:12<00:00, 412.40it/s]\n"
          ]
        },
        {
          "output_type": "stream",
          "name": "stdout",
          "text": [
            "76\n"
          ]
        },
        {
          "output_type": "stream",
          "name": "stderr",
          "text": [
            "  1%|          | 54/5000 [00:00<00:10, 473.93it/s]\n",
            " 59%|█████▊    | 2935/5000 [00:07<00:05, 401.63it/s]\n"
          ]
        },
        {
          "output_type": "stream",
          "name": "stdout",
          "text": [
            "77\n"
          ]
        },
        {
          "output_type": "stream",
          "name": "stderr",
          "text": [
            "  1%|          | 57/5000 [00:00<00:10, 469.92it/s]\n",
            "100%|██████████| 5000/5000 [00:12<00:00, 412.01it/s]\n"
          ]
        },
        {
          "output_type": "stream",
          "name": "stdout",
          "text": [
            "78\n"
          ]
        },
        {
          "output_type": "stream",
          "name": "stderr",
          "text": [
            "  5%|▍         | 234/5000 [00:00<00:10, 469.36it/s]\n",
            "100%|██████████| 5000/5000 [00:11<00:00, 420.51it/s]\n"
          ]
        },
        {
          "output_type": "stream",
          "name": "stdout",
          "text": [
            "79\n"
          ]
        },
        {
          "output_type": "stream",
          "name": "stderr",
          "text": [
            "  2%|▏         | 114/5000 [00:00<00:10, 482.30it/s]\n",
            "  5%|▌         | 268/5000 [00:00<00:13, 357.94it/s]\n"
          ]
        },
        {
          "output_type": "stream",
          "name": "stdout",
          "text": [
            "80\n"
          ]
        },
        {
          "output_type": "stream",
          "name": "stderr",
          "text": [
            "  3%|▎         | 128/5000 [00:00<00:23, 208.11it/s]\n",
            "  2%|▎         | 125/5000 [00:00<00:14, 332.90it/s]\n"
          ]
        },
        {
          "output_type": "stream",
          "name": "stdout",
          "text": [
            "81\n"
          ]
        },
        {
          "output_type": "stream",
          "name": "stderr",
          "text": [
            "  3%|▎         | 136/5000 [00:00<00:13, 352.85it/s]\n",
            "  2%|▏         | 80/5000 [00:00<00:14, 339.13it/s]\n"
          ]
        },
        {
          "output_type": "stream",
          "name": "stdout",
          "text": [
            "82\n"
          ]
        },
        {
          "output_type": "stream",
          "name": "stderr",
          "text": [
            "  3%|▎         | 138/5000 [00:00<00:09, 504.44it/s]\n",
            " 39%|███▉      | 1970/5000 [00:05<00:09, 332.43it/s]\n"
          ]
        },
        {
          "output_type": "stream",
          "name": "stdout",
          "text": [
            "83\n"
          ]
        },
        {
          "output_type": "stream",
          "name": "stderr",
          "text": [
            "  1%|▏         | 73/5000 [00:00<00:10, 465.64it/s]\n",
            "100%|██████████| 5000/5000 [00:13<00:00, 362.04it/s]\n"
          ]
        },
        {
          "output_type": "stream",
          "name": "stdout",
          "text": [
            "84\n"
          ]
        },
        {
          "output_type": "stream",
          "name": "stderr",
          "text": [
            "  3%|▎         | 153/5000 [00:00<00:13, 350.33it/s]\n",
            "  3%|▎         | 158/5000 [00:00<00:21, 222.25it/s]\n"
          ]
        },
        {
          "output_type": "stream",
          "name": "stdout",
          "text": [
            "85\n"
          ]
        },
        {
          "output_type": "stream",
          "name": "stderr",
          "text": [
            "  2%|▏         | 79/5000 [00:00<00:18, 262.54it/s]\n",
            " 19%|█▊        | 932/5000 [00:02<00:10, 389.17it/s]\n"
          ]
        },
        {
          "output_type": "stream",
          "name": "stdout",
          "text": [
            "86\n"
          ]
        },
        {
          "output_type": "stream",
          "name": "stderr",
          "text": [
            "  3%|▎         | 126/5000 [00:00<00:12, 383.21it/s]\n",
            "100%|██████████| 5000/5000 [00:12<00:00, 396.80it/s]\n"
          ]
        },
        {
          "output_type": "stream",
          "name": "stdout",
          "text": [
            "87\n"
          ]
        },
        {
          "output_type": "stream",
          "name": "stderr",
          "text": [
            "  2%|▏         | 115/5000 [00:00<00:10, 476.46it/s]\n",
            " 52%|█████▏    | 2607/5000 [00:06<00:05, 430.25it/s]\n"
          ]
        },
        {
          "output_type": "stream",
          "name": "stdout",
          "text": [
            "88\n"
          ]
        },
        {
          "output_type": "stream",
          "name": "stderr",
          "text": [
            "  0%|          | 21/5000 [00:00<00:12, 395.63it/s]\n",
            "  0%|          | 3/5000 [00:00<00:18, 265.40it/s]\n"
          ]
        },
        {
          "output_type": "stream",
          "name": "stdout",
          "text": [
            "89\n"
          ]
        },
        {
          "output_type": "stream",
          "name": "stderr",
          "text": [
            "  2%|▎         | 125/5000 [00:00<00:11, 430.93it/s]\n",
            "100%|██████████| 5000/5000 [00:12<00:00, 395.66it/s]\n"
          ]
        },
        {
          "output_type": "stream",
          "name": "stdout",
          "text": [
            "90\n"
          ]
        },
        {
          "output_type": "stream",
          "name": "stderr",
          "text": [
            "  1%|          | 49/5000 [00:00<00:13, 367.95it/s]\n",
            "  1%|          | 29/5000 [00:00<00:14, 334.09it/s]\n"
          ]
        },
        {
          "output_type": "stream",
          "name": "stdout",
          "text": [
            "91\n"
          ]
        },
        {
          "output_type": "stream",
          "name": "stderr",
          "text": [
            "  1%|          | 52/5000 [00:00<00:12, 382.85it/s]\n",
            "100%|██████████| 5000/5000 [00:17<00:00, 287.44it/s]\n"
          ]
        },
        {
          "output_type": "stream",
          "name": "stdout",
          "text": [
            "92\n"
          ]
        },
        {
          "output_type": "stream",
          "name": "stderr",
          "text": [
            "  1%|          | 26/5000 [00:00<00:11, 451.49it/s]\n",
            "  1%|          | 40/5000 [00:00<00:11, 415.09it/s]\n"
          ]
        },
        {
          "output_type": "stream",
          "name": "stdout",
          "text": [
            "93\n"
          ]
        },
        {
          "output_type": "stream",
          "name": "stderr",
          "text": [
            "  2%|▏         | 97/5000 [00:00<00:13, 353.44it/s]\n",
            "  1%|          | 47/5000 [00:00<00:11, 431.51it/s]\n"
          ]
        },
        {
          "output_type": "stream",
          "name": "stdout",
          "text": [
            "94\n"
          ]
        },
        {
          "output_type": "stream",
          "name": "stderr",
          "text": [
            "  2%|▏         | 89/5000 [00:00<00:12, 379.30it/s]\n",
            "100%|██████████| 5000/5000 [00:14<00:00, 344.19it/s]\n"
          ]
        },
        {
          "output_type": "stream",
          "name": "stdout",
          "text": [
            "95\n"
          ]
        },
        {
          "output_type": "stream",
          "name": "stderr",
          "text": [
            "  2%|▏         | 105/5000 [00:00<00:16, 294.09it/s]\n",
            "  1%|          | 56/5000 [00:00<00:12, 399.38it/s]\n"
          ]
        },
        {
          "output_type": "stream",
          "name": "stdout",
          "text": [
            "96\n"
          ]
        },
        {
          "output_type": "stream",
          "name": "stderr",
          "text": [
            "  2%|▏         | 96/5000 [00:00<00:12, 389.59it/s]\n",
            "  3%|▎         | 157/5000 [00:00<00:13, 365.66it/s]\n"
          ]
        },
        {
          "output_type": "stream",
          "name": "stdout",
          "text": [
            "97\n"
          ]
        },
        {
          "output_type": "stream",
          "name": "stderr",
          "text": [
            "  3%|▎         | 172/5000 [00:00<00:10, 468.75it/s]\n",
            "100%|██████████| 5000/5000 [00:14<00:00, 351.46it/s]\n"
          ]
        },
        {
          "output_type": "stream",
          "name": "stdout",
          "text": [
            "98\n"
          ]
        },
        {
          "output_type": "stream",
          "name": "stderr",
          "text": [
            "  3%|▎         | 144/5000 [00:00<00:15, 303.92it/s]\n",
            "  5%|▌         | 273/5000 [00:01<00:19, 244.74it/s]\n"
          ]
        },
        {
          "output_type": "stream",
          "name": "stdout",
          "text": [
            "99\n"
          ]
        },
        {
          "output_type": "stream",
          "name": "stderr",
          "text": [
            "  4%|▍         | 225/5000 [00:00<00:15, 299.93it/s]\n",
            "100%|██████████| 5000/5000 [00:12<00:00, 385.38it/s]"
          ]
        },
        {
          "output_type": "stream",
          "name": "stdout",
          "text": [
            "avg n_iter for model_relu and model_siren_updated = (111.13, 2082.4)\n"
          ]
        },
        {
          "output_type": "stream",
          "name": "stderr",
          "text": [
            "\n"
          ]
        }
      ]
    },
    {
      "cell_type": "code",
      "source": [
        "print(f\"avg n_iter for model_relu and model_relu_updated = {new_compute_avg_n_iter_test(model_relu, model_relu_updated)}\")"
      ],
      "metadata": {
        "id": "_zOSytE4OIJO",
        "outputId": "53b338e5-e0d6-4280-b012-8a427e03dbea",
        "colab": {
          "base_uri": "https://localhost:8080/"
        }
      },
      "execution_count": 37,
      "outputs": [
        {
          "output_type": "stream",
          "name": "stdout",
          "text": [
            "0\n"
          ]
        },
        {
          "output_type": "stream",
          "name": "stderr",
          "text": [
            "  2%|▏         | 123/5000 [00:00<00:10, 478.19it/s]\n",
            "  3%|▎         | 155/5000 [00:00<00:09, 493.62it/s]\n"
          ]
        },
        {
          "output_type": "stream",
          "name": "stdout",
          "text": [
            "1\n"
          ]
        },
        {
          "output_type": "stream",
          "name": "stderr",
          "text": [
            "  3%|▎         | 162/5000 [00:00<00:09, 489.59it/s]\n",
            "  3%|▎         | 159/5000 [00:00<00:10, 477.75it/s]\n"
          ]
        },
        {
          "output_type": "stream",
          "name": "stdout",
          "text": [
            "2\n"
          ]
        },
        {
          "output_type": "stream",
          "name": "stderr",
          "text": [
            "  1%|▏         | 72/5000 [00:00<00:10, 481.20it/s]\n",
            "  3%|▎         | 147/5000 [00:00<00:10, 484.74it/s]\n"
          ]
        },
        {
          "output_type": "stream",
          "name": "stdout",
          "text": [
            "3\n"
          ]
        },
        {
          "output_type": "stream",
          "name": "stderr",
          "text": [
            "  3%|▎         | 160/5000 [00:00<00:10, 476.99it/s]\n",
            "  5%|▍         | 244/5000 [00:00<00:10, 452.16it/s]\n"
          ]
        },
        {
          "output_type": "stream",
          "name": "stdout",
          "text": [
            "4\n"
          ]
        },
        {
          "output_type": "stream",
          "name": "stderr",
          "text": [
            "  2%|▏         | 87/5000 [00:00<00:10, 451.13it/s]\n",
            "  2%|▏         | 78/5000 [00:00<00:11, 429.89it/s]\n"
          ]
        },
        {
          "output_type": "stream",
          "name": "stdout",
          "text": [
            "5\n"
          ]
        },
        {
          "output_type": "stream",
          "name": "stderr",
          "text": [
            "  2%|▏         | 108/5000 [00:00<00:11, 439.87it/s]\n",
            "  6%|▌         | 290/5000 [00:00<00:10, 457.07it/s]\n"
          ]
        },
        {
          "output_type": "stream",
          "name": "stdout",
          "text": [
            "6\n"
          ]
        },
        {
          "output_type": "stream",
          "name": "stderr",
          "text": [
            "  1%|          | 56/5000 [00:00<00:10, 479.02it/s]\n",
            "  2%|▏         | 83/5000 [00:00<00:10, 464.38it/s]\n"
          ]
        },
        {
          "output_type": "stream",
          "name": "stdout",
          "text": [
            "7\n",
            "7\n"
          ]
        },
        {
          "output_type": "stream",
          "name": "stderr",
          "text": [
            "  1%|          | 54/5000 [00:00<00:10, 469.29it/s]\n",
            "  0%|          | 14/5000 [00:00<00:11, 441.67it/s]\n"
          ]
        },
        {
          "output_type": "stream",
          "name": "stdout",
          "text": [
            "8\n"
          ]
        },
        {
          "output_type": "stream",
          "name": "stderr",
          "text": [
            "  1%|          | 51/5000 [00:00<00:09, 504.47it/s]\n",
            "  0%|          | 0/5000 [00:00<?, ?it/s]\n"
          ]
        },
        {
          "output_type": "stream",
          "name": "stdout",
          "text": [
            "9\n"
          ]
        },
        {
          "output_type": "stream",
          "name": "stderr",
          "text": [
            "  4%|▎         | 184/5000 [00:00<00:09, 498.08it/s]\n",
            "  2%|▏         | 101/5000 [00:00<00:10, 472.15it/s]\n"
          ]
        },
        {
          "output_type": "stream",
          "name": "stdout",
          "text": [
            "10\n"
          ]
        },
        {
          "output_type": "stream",
          "name": "stderr",
          "text": [
            "  2%|▏         | 102/5000 [00:00<00:10, 472.23it/s]\n",
            "  1%|▏         | 71/5000 [00:00<00:10, 470.51it/s]\n"
          ]
        },
        {
          "output_type": "stream",
          "name": "stdout",
          "text": [
            "11\n"
          ]
        },
        {
          "output_type": "stream",
          "name": "stderr",
          "text": [
            "  2%|▏         | 76/5000 [00:00<00:10, 458.56it/s]\n",
            "  1%|          | 37/5000 [00:00<00:10, 472.68it/s]\n"
          ]
        },
        {
          "output_type": "stream",
          "name": "stdout",
          "text": [
            "12\n"
          ]
        },
        {
          "output_type": "stream",
          "name": "stderr",
          "text": [
            "  3%|▎         | 165/5000 [00:00<00:09, 484.17it/s]\n",
            "  4%|▍         | 211/5000 [00:00<00:10, 437.87it/s]\n"
          ]
        },
        {
          "output_type": "stream",
          "name": "stdout",
          "text": [
            "13\n"
          ]
        },
        {
          "output_type": "stream",
          "name": "stderr",
          "text": [
            "  2%|▏         | 107/5000 [00:00<00:12, 397.44it/s]\n",
            "  3%|▎         | 128/5000 [00:00<00:10, 451.89it/s]\n"
          ]
        },
        {
          "output_type": "stream",
          "name": "stdout",
          "text": [
            "14\n"
          ]
        },
        {
          "output_type": "stream",
          "name": "stderr",
          "text": [
            "  2%|▏         | 80/5000 [00:00<00:10, 463.72it/s]\n",
            "  4%|▎         | 176/5000 [00:00<00:09, 489.46it/s]\n"
          ]
        },
        {
          "output_type": "stream",
          "name": "stdout",
          "text": [
            "15\n"
          ]
        },
        {
          "output_type": "stream",
          "name": "stderr",
          "text": [
            "  2%|▏         | 77/5000 [00:00<00:10, 472.16it/s]\n",
            "  1%|          | 43/5000 [00:00<00:10, 493.71it/s]\n"
          ]
        },
        {
          "output_type": "stream",
          "name": "stdout",
          "text": [
            "16\n"
          ]
        },
        {
          "output_type": "stream",
          "name": "stderr",
          "text": [
            "  2%|▏         | 110/5000 [00:00<00:10, 487.55it/s]\n",
            "  6%|▌         | 286/5000 [00:00<00:09, 495.82it/s]\n"
          ]
        },
        {
          "output_type": "stream",
          "name": "stdout",
          "text": [
            "17\n",
            "17\n"
          ]
        },
        {
          "output_type": "stream",
          "name": "stderr",
          "text": [
            "  3%|▎         | 161/5000 [00:00<00:10, 480.64it/s]\n",
            "  2%|▏         | 100/5000 [00:00<00:11, 413.35it/s]\n"
          ]
        },
        {
          "output_type": "stream",
          "name": "stdout",
          "text": [
            "18\n"
          ]
        },
        {
          "output_type": "stream",
          "name": "stderr",
          "text": [
            "  1%|          | 33/5000 [00:00<00:13, 365.77it/s]\n",
            "  0%|          | 15/5000 [00:00<00:14, 340.26it/s]\n"
          ]
        },
        {
          "output_type": "stream",
          "name": "stdout",
          "text": [
            "19\n"
          ]
        },
        {
          "output_type": "stream",
          "name": "stderr",
          "text": [
            "  1%|          | 58/5000 [00:00<00:12, 385.27it/s]\n",
            "  2%|▏         | 85/5000 [00:00<00:12, 393.19it/s]\n"
          ]
        },
        {
          "output_type": "stream",
          "name": "stdout",
          "text": [
            "20\n"
          ]
        },
        {
          "output_type": "stream",
          "name": "stderr",
          "text": [
            "  2%|▏         | 87/5000 [00:00<00:12, 389.87it/s]\n",
            "  1%|          | 62/5000 [00:00<00:12, 390.08it/s]\n"
          ]
        },
        {
          "output_type": "stream",
          "name": "stdout",
          "text": [
            "21\n"
          ]
        },
        {
          "output_type": "stream",
          "name": "stderr",
          "text": [
            "  3%|▎         | 172/5000 [00:00<00:12, 401.92it/s]\n",
            "  2%|▏         | 99/5000 [00:00<00:12, 384.36it/s]\n"
          ]
        },
        {
          "output_type": "stream",
          "name": "stdout",
          "text": [
            "22\n"
          ]
        },
        {
          "output_type": "stream",
          "name": "stderr",
          "text": [
            "  1%|▏         | 73/5000 [00:00<00:14, 350.26it/s]\n",
            "  1%|▏         | 66/5000 [00:00<00:13, 370.40it/s]\n"
          ]
        },
        {
          "output_type": "stream",
          "name": "stdout",
          "text": [
            "23\n"
          ]
        },
        {
          "output_type": "stream",
          "name": "stderr",
          "text": [
            "  4%|▍         | 212/5000 [00:00<00:10, 469.82it/s]\n",
            "  3%|▎         | 168/5000 [00:00<00:09, 487.28it/s]\n"
          ]
        },
        {
          "output_type": "stream",
          "name": "stdout",
          "text": [
            "24\n"
          ]
        },
        {
          "output_type": "stream",
          "name": "stderr",
          "text": [
            "  2%|▏         | 120/5000 [00:00<00:09, 492.77it/s]\n",
            "  3%|▎         | 131/5000 [00:00<00:10, 473.58it/s]\n"
          ]
        },
        {
          "output_type": "stream",
          "name": "stdout",
          "text": [
            "25\n"
          ]
        },
        {
          "output_type": "stream",
          "name": "stderr",
          "text": [
            "  2%|▏         | 119/5000 [00:00<00:10, 486.11it/s]\n",
            "  2%|▏         | 91/5000 [00:00<00:10, 468.53it/s]\n"
          ]
        },
        {
          "output_type": "stream",
          "name": "stdout",
          "text": [
            "26\n"
          ]
        },
        {
          "output_type": "stream",
          "name": "stderr",
          "text": [
            "  4%|▍         | 204/5000 [00:00<00:09, 492.80it/s]\n",
            "  6%|▌         | 294/5000 [00:00<00:10, 469.89it/s]\n"
          ]
        },
        {
          "output_type": "stream",
          "name": "stdout",
          "text": [
            "27\n"
          ]
        },
        {
          "output_type": "stream",
          "name": "stderr",
          "text": [
            "  1%|▏         | 71/5000 [00:00<00:10, 481.26it/s]\n",
            "  5%|▍         | 245/5000 [00:00<00:09, 481.80it/s]\n"
          ]
        },
        {
          "output_type": "stream",
          "name": "stdout",
          "text": [
            "28\n"
          ]
        },
        {
          "output_type": "stream",
          "name": "stderr",
          "text": [
            "  3%|▎         | 151/5000 [00:00<00:10, 472.88it/s]\n",
            "  1%|          | 31/5000 [00:00<00:10, 472.84it/s]\n"
          ]
        },
        {
          "output_type": "stream",
          "name": "stdout",
          "text": [
            "29\n"
          ]
        },
        {
          "output_type": "stream",
          "name": "stderr",
          "text": [
            "  2%|▏         | 90/5000 [00:00<00:10, 488.36it/s]\n",
            "  1%|          | 53/5000 [00:00<00:10, 474.18it/s]\n"
          ]
        },
        {
          "output_type": "stream",
          "name": "stdout",
          "text": [
            "30\n",
            "30\n",
            "30\n"
          ]
        },
        {
          "output_type": "stream",
          "name": "stderr",
          "text": [
            "  3%|▎         | 129/5000 [00:00<00:10, 474.06it/s]\n",
            "  2%|▏         | 88/5000 [00:00<00:09, 508.57it/s]\n"
          ]
        },
        {
          "output_type": "stream",
          "name": "stdout",
          "text": [
            "31\n"
          ]
        },
        {
          "output_type": "stream",
          "name": "stderr",
          "text": [
            "  3%|▎         | 142/5000 [00:00<00:09, 489.68it/s]\n",
            "  4%|▍         | 194/5000 [00:00<00:09, 490.53it/s]\n"
          ]
        },
        {
          "output_type": "stream",
          "name": "stdout",
          "text": [
            "32\n"
          ]
        },
        {
          "output_type": "stream",
          "name": "stderr",
          "text": [
            "  3%|▎         | 128/5000 [00:00<00:10, 478.55it/s]\n",
            "  2%|▏         | 113/5000 [00:00<00:10, 479.05it/s]\n"
          ]
        },
        {
          "output_type": "stream",
          "name": "stdout",
          "text": [
            "33\n"
          ]
        },
        {
          "output_type": "stream",
          "name": "stderr",
          "text": [
            "  2%|▏         | 116/5000 [00:00<00:10, 482.48it/s]\n",
            "  5%|▌         | 252/5000 [00:00<00:10, 468.80it/s]\n"
          ]
        },
        {
          "output_type": "stream",
          "name": "stdout",
          "text": [
            "34\n"
          ]
        },
        {
          "output_type": "stream",
          "name": "stderr",
          "text": [
            "  2%|▏         | 103/5000 [00:00<00:13, 353.54it/s]\n",
            "  3%|▎         | 142/5000 [00:00<00:13, 365.58it/s]\n"
          ]
        },
        {
          "output_type": "stream",
          "name": "stdout",
          "text": [
            "35\n"
          ]
        },
        {
          "output_type": "stream",
          "name": "stderr",
          "text": [
            "  2%|▏         | 80/5000 [00:00<00:13, 352.04it/s]\n",
            "  5%|▌         | 250/5000 [00:00<00:12, 378.52it/s]\n"
          ]
        },
        {
          "output_type": "stream",
          "name": "stdout",
          "text": [
            "36\n"
          ]
        },
        {
          "output_type": "stream",
          "name": "stderr",
          "text": [
            "  1%|▏         | 71/5000 [00:00<00:13, 374.11it/s]\n",
            "  3%|▎         | 131/5000 [00:00<00:12, 378.28it/s]\n"
          ]
        },
        {
          "output_type": "stream",
          "name": "stdout",
          "text": [
            "37\n"
          ]
        },
        {
          "output_type": "stream",
          "name": "stderr",
          "text": [
            "  2%|▏         | 98/5000 [00:00<00:10, 469.35it/s]\n",
            "  3%|▎         | 128/5000 [00:00<00:10, 467.30it/s]\n"
          ]
        },
        {
          "output_type": "stream",
          "name": "stdout",
          "text": [
            "38\n"
          ]
        },
        {
          "output_type": "stream",
          "name": "stderr",
          "text": [
            "  2%|▏         | 114/5000 [00:00<00:10, 487.10it/s]\n",
            "  2%|▏         | 104/5000 [00:00<00:10, 477.77it/s]\n"
          ]
        },
        {
          "output_type": "stream",
          "name": "stdout",
          "text": [
            "39\n"
          ]
        },
        {
          "output_type": "stream",
          "name": "stderr",
          "text": [
            "  2%|▏         | 111/5000 [00:00<00:12, 392.45it/s]\n",
            "  0%|          | 5/5000 [00:00<00:16, 306.29it/s]\n"
          ]
        },
        {
          "output_type": "stream",
          "name": "stdout",
          "text": [
            "40\n",
            "40\n"
          ]
        },
        {
          "output_type": "stream",
          "name": "stderr",
          "text": [
            "  2%|▏         | 113/5000 [00:00<00:13, 372.83it/s]\n",
            "  3%|▎         | 126/5000 [00:00<00:13, 362.41it/s]\n"
          ]
        },
        {
          "output_type": "stream",
          "name": "stdout",
          "text": [
            "41\n"
          ]
        },
        {
          "output_type": "stream",
          "name": "stderr",
          "text": [
            "  2%|▏         | 85/5000 [00:00<00:13, 366.47it/s]\n",
            "  1%|          | 47/5000 [00:00<00:12, 389.11it/s]\n"
          ]
        },
        {
          "output_type": "stream",
          "name": "stdout",
          "text": [
            "42\n"
          ]
        },
        {
          "output_type": "stream",
          "name": "stderr",
          "text": [
            "  3%|▎         | 139/5000 [00:00<00:12, 380.35it/s]\n",
            "  3%|▎         | 144/5000 [00:00<00:14, 339.44it/s]\n"
          ]
        },
        {
          "output_type": "stream",
          "name": "stdout",
          "text": [
            "43\n"
          ]
        },
        {
          "output_type": "stream",
          "name": "stderr",
          "text": [
            "  2%|▏         | 75/5000 [00:00<00:15, 327.82it/s]\n",
            "  0%|          | 11/5000 [00:00<00:12, 408.75it/s]\n"
          ]
        },
        {
          "output_type": "stream",
          "name": "stdout",
          "text": [
            "44\n"
          ]
        },
        {
          "output_type": "stream",
          "name": "stderr",
          "text": [
            "  3%|▎         | 153/5000 [00:00<00:10, 476.90it/s]\n",
            "  2%|▏         | 112/5000 [00:00<00:10, 463.88it/s]\n"
          ]
        },
        {
          "output_type": "stream",
          "name": "stdout",
          "text": [
            "45\n"
          ]
        },
        {
          "output_type": "stream",
          "name": "stderr",
          "text": [
            "  2%|▏         | 95/5000 [00:00<00:09, 490.82it/s]\n",
            "  2%|▏         | 107/5000 [00:00<00:10, 469.12it/s]\n"
          ]
        },
        {
          "output_type": "stream",
          "name": "stdout",
          "text": [
            "46\n"
          ]
        },
        {
          "output_type": "stream",
          "name": "stderr",
          "text": [
            "  3%|▎         | 126/5000 [00:00<00:10, 480.76it/s]\n",
            "  1%|          | 32/5000 [00:00<00:10, 484.27it/s]\n"
          ]
        },
        {
          "output_type": "stream",
          "name": "stdout",
          "text": [
            "47\n"
          ]
        },
        {
          "output_type": "stream",
          "name": "stderr",
          "text": [
            "  3%|▎         | 134/5000 [00:00<00:09, 505.32it/s]\n",
            "  6%|▋         | 323/5000 [00:00<00:09, 475.96it/s]\n"
          ]
        },
        {
          "output_type": "stream",
          "name": "stdout",
          "text": [
            "48\n"
          ]
        },
        {
          "output_type": "stream",
          "name": "stderr",
          "text": [
            "  2%|▏         | 110/5000 [00:00<00:09, 490.70it/s]\n",
            "  5%|▌         | 263/5000 [00:00<00:09, 485.73it/s]\n"
          ]
        },
        {
          "output_type": "stream",
          "name": "stdout",
          "text": [
            "49\n"
          ]
        },
        {
          "output_type": "stream",
          "name": "stderr",
          "text": [
            "  3%|▎         | 146/5000 [00:00<00:09, 502.65it/s]\n",
            "  1%|          | 61/5000 [00:00<00:10, 478.77it/s]\n"
          ]
        },
        {
          "output_type": "stream",
          "name": "stdout",
          "text": [
            "50\n"
          ]
        },
        {
          "output_type": "stream",
          "name": "stderr",
          "text": [
            "  3%|▎         | 145/5000 [00:00<00:10, 474.75it/s]\n",
            "  6%|▌         | 311/5000 [00:00<00:09, 488.00it/s]\n"
          ]
        },
        {
          "output_type": "stream",
          "name": "stdout",
          "text": [
            "51\n"
          ]
        },
        {
          "output_type": "stream",
          "name": "stderr",
          "text": [
            "  3%|▎         | 155/5000 [00:00<00:10, 457.09it/s]\n",
            "  2%|▏         | 99/5000 [00:00<00:10, 489.82it/s]\n"
          ]
        },
        {
          "output_type": "stream",
          "name": "stdout",
          "text": [
            "52\n"
          ]
        },
        {
          "output_type": "stream",
          "name": "stderr",
          "text": [
            "  2%|▏         | 102/5000 [00:00<00:09, 490.87it/s]\n",
            "  3%|▎         | 144/5000 [00:00<00:09, 489.58it/s]\n"
          ]
        },
        {
          "output_type": "stream",
          "name": "stdout",
          "text": [
            "53\n"
          ]
        },
        {
          "output_type": "stream",
          "name": "stderr",
          "text": [
            "  2%|▏         | 98/5000 [00:00<00:09, 495.97it/s]\n",
            "  0%|          | 24/5000 [00:00<00:23, 214.97it/s]\n"
          ]
        },
        {
          "output_type": "stream",
          "name": "stdout",
          "text": [
            "54\n"
          ]
        },
        {
          "output_type": "stream",
          "name": "stderr",
          "text": [
            "  2%|▏         | 86/5000 [00:00<00:15, 322.66it/s]\n",
            "  2%|▏         | 122/5000 [00:00<00:10, 486.89it/s]\n"
          ]
        },
        {
          "output_type": "stream",
          "name": "stdout",
          "text": [
            "55\n"
          ]
        },
        {
          "output_type": "stream",
          "name": "stderr",
          "text": [
            "  2%|▏         | 124/5000 [00:00<00:12, 390.60it/s]\n",
            "  2%|▏         | 104/5000 [00:00<00:15, 309.44it/s]\n"
          ]
        },
        {
          "output_type": "stream",
          "name": "stdout",
          "text": [
            "56\n"
          ]
        },
        {
          "output_type": "stream",
          "name": "stderr",
          "text": [
            "  2%|▏         | 98/5000 [00:00<00:09, 495.97it/s]\n",
            "  1%|▏         | 70/5000 [00:00<00:10, 471.75it/s]\n"
          ]
        },
        {
          "output_type": "stream",
          "name": "stdout",
          "text": [
            "57\n"
          ]
        },
        {
          "output_type": "stream",
          "name": "stderr",
          "text": [
            "  0%|          | 20/5000 [00:00<00:22, 224.94it/s]\n",
            "  0%|          | 20/5000 [00:00<00:32, 154.39it/s]\n"
          ]
        },
        {
          "output_type": "stream",
          "name": "stdout",
          "text": [
            "58\n",
            "58\n"
          ]
        },
        {
          "output_type": "stream",
          "name": "stderr",
          "text": [
            "  3%|▎         | 129/5000 [00:00<00:10, 468.02it/s]\n",
            "  3%|▎         | 149/5000 [00:00<00:10, 473.54it/s]\n"
          ]
        },
        {
          "output_type": "stream",
          "name": "stdout",
          "text": [
            "59\n"
          ]
        },
        {
          "output_type": "stream",
          "name": "stderr",
          "text": [
            "  1%|          | 43/5000 [00:00<00:10, 481.19it/s]\n",
            "  0%|          | 3/5000 [00:00<00:17, 279.88it/s]\n"
          ]
        },
        {
          "output_type": "stream",
          "name": "stdout",
          "text": [
            "60\n"
          ]
        },
        {
          "output_type": "stream",
          "name": "stderr",
          "text": [
            "  1%|          | 36/5000 [00:00<00:10, 469.37it/s]\n",
            "  1%|          | 56/5000 [00:00<00:10, 452.37it/s]\n"
          ]
        },
        {
          "output_type": "stream",
          "name": "stdout",
          "text": [
            "61\n"
          ]
        },
        {
          "output_type": "stream",
          "name": "stderr",
          "text": [
            "  2%|▏         | 121/5000 [00:00<00:10, 472.21it/s]\n",
            "  2%|▏         | 92/5000 [00:00<00:10, 469.03it/s]\n"
          ]
        },
        {
          "output_type": "stream",
          "name": "stdout",
          "text": [
            "62\n"
          ]
        },
        {
          "output_type": "stream",
          "name": "stderr",
          "text": [
            "  3%|▎         | 130/5000 [00:00<00:09, 504.13it/s]\n",
            "  1%|          | 33/5000 [00:00<00:10, 452.27it/s]\n"
          ]
        },
        {
          "output_type": "stream",
          "name": "stdout",
          "text": [
            "63\n"
          ]
        },
        {
          "output_type": "stream",
          "name": "stderr",
          "text": [
            "  3%|▎         | 169/5000 [00:00<00:10, 481.82it/s]\n",
            "  2%|▏         | 114/5000 [00:00<00:13, 363.78it/s]\n"
          ]
        },
        {
          "output_type": "stream",
          "name": "stdout",
          "text": [
            "64\n"
          ]
        },
        {
          "output_type": "stream",
          "name": "stderr",
          "text": [
            "  2%|▏         | 114/5000 [00:00<00:12, 395.99it/s]\n",
            "  6%|▌         | 300/5000 [00:00<00:12, 375.72it/s]\n"
          ]
        },
        {
          "output_type": "stream",
          "name": "stdout",
          "text": [
            "65\n"
          ]
        },
        {
          "output_type": "stream",
          "name": "stderr",
          "text": [
            "  5%|▌         | 265/5000 [00:00<00:16, 285.81it/s]\n",
            "  3%|▎         | 128/5000 [00:00<00:09, 487.48it/s]\n"
          ]
        },
        {
          "output_type": "stream",
          "name": "stdout",
          "text": [
            "66\n"
          ]
        },
        {
          "output_type": "stream",
          "name": "stderr",
          "text": [
            "  3%|▎         | 145/5000 [00:00<00:09, 490.28it/s]\n",
            "  6%|▌         | 287/5000 [00:00<00:10, 444.13it/s]\n"
          ]
        },
        {
          "output_type": "stream",
          "name": "stdout",
          "text": [
            "67\n",
            "67\n"
          ]
        },
        {
          "output_type": "stream",
          "name": "stderr",
          "text": [
            "  2%|▏         | 111/5000 [00:00<00:12, 399.84it/s]\n",
            "  3%|▎         | 134/5000 [00:00<00:12, 402.03it/s]\n"
          ]
        },
        {
          "output_type": "stream",
          "name": "stdout",
          "text": [
            "68\n"
          ]
        },
        {
          "output_type": "stream",
          "name": "stderr",
          "text": [
            "  2%|▏         | 118/5000 [00:00<00:10, 460.03it/s]\n",
            "  2%|▏         | 98/5000 [00:00<00:10, 459.04it/s]\n"
          ]
        },
        {
          "output_type": "stream",
          "name": "stdout",
          "text": [
            "69\n",
            "69\n"
          ]
        },
        {
          "output_type": "stream",
          "name": "stderr",
          "text": [
            "  2%|▏         | 120/5000 [00:00<00:10, 473.00it/s]\n",
            "  0%|          | 5/5000 [00:00<00:13, 372.15it/s]\n"
          ]
        },
        {
          "output_type": "stream",
          "name": "stdout",
          "text": [
            "70\n"
          ]
        },
        {
          "output_type": "stream",
          "name": "stderr",
          "text": [
            "  1%|          | 30/5000 [00:00<00:10, 482.86it/s]\n",
            "  1%|          | 47/5000 [00:00<00:12, 412.63it/s]\n"
          ]
        },
        {
          "output_type": "stream",
          "name": "stdout",
          "text": [
            "71\n"
          ]
        },
        {
          "output_type": "stream",
          "name": "stderr",
          "text": [
            "  3%|▎         | 142/5000 [00:00<00:10, 473.68it/s]\n",
            "  2%|▏         | 110/5000 [00:00<00:10, 464.29it/s]\n"
          ]
        },
        {
          "output_type": "stream",
          "name": "stdout",
          "text": [
            "72\n",
            "72\n"
          ]
        },
        {
          "output_type": "stream",
          "name": "stderr",
          "text": [
            "  1%|          | 57/5000 [00:00<00:10, 453.98it/s]\n",
            "  2%|▏         | 87/5000 [00:00<00:10, 484.77it/s]\n"
          ]
        },
        {
          "output_type": "stream",
          "name": "stdout",
          "text": [
            "73\n"
          ]
        },
        {
          "output_type": "stream",
          "name": "stderr",
          "text": [
            "  5%|▍         | 234/5000 [00:00<00:10, 472.70it/s]\n",
            "  3%|▎         | 130/5000 [00:00<00:10, 476.60it/s]\n"
          ]
        },
        {
          "output_type": "stream",
          "name": "stdout",
          "text": [
            "74\n"
          ]
        },
        {
          "output_type": "stream",
          "name": "stderr",
          "text": [
            "  2%|▏         | 114/5000 [00:00<00:10, 478.41it/s]\n",
            "  2%|▏         | 80/5000 [00:00<00:11, 442.45it/s]\n"
          ]
        },
        {
          "output_type": "stream",
          "name": "stdout",
          "text": [
            "75\n"
          ]
        },
        {
          "output_type": "stream",
          "name": "stderr",
          "text": [
            "  3%|▎         | 128/5000 [00:00<00:10, 452.58it/s]\n",
            "  1%|          | 33/5000 [00:00<00:11, 441.02it/s]\n"
          ]
        },
        {
          "output_type": "stream",
          "name": "stdout",
          "text": [
            "76\n"
          ]
        },
        {
          "output_type": "stream",
          "name": "stderr",
          "text": [
            "  3%|▎         | 136/5000 [00:00<00:10, 449.45it/s]\n",
            "  2%|▏         | 98/5000 [00:00<00:10, 474.37it/s]\n"
          ]
        },
        {
          "output_type": "stream",
          "name": "stdout",
          "text": [
            "77\n"
          ]
        },
        {
          "output_type": "stream",
          "name": "stderr",
          "text": [
            "  3%|▎         | 138/5000 [00:00<00:09, 499.49it/s]\n",
            "  4%|▍         | 215/5000 [00:00<00:09, 492.66it/s]\n"
          ]
        },
        {
          "output_type": "stream",
          "name": "stdout",
          "text": [
            "78\n",
            "78\n"
          ]
        },
        {
          "output_type": "stream",
          "name": "stderr",
          "text": [
            "  3%|▎         | 153/5000 [00:00<00:11, 412.76it/s]\n",
            "  2%|▏         | 115/5000 [00:00<00:10, 474.41it/s]\n"
          ]
        },
        {
          "output_type": "stream",
          "name": "stdout",
          "text": [
            "79\n"
          ]
        },
        {
          "output_type": "stream",
          "name": "stderr",
          "text": [
            "  2%|▏         | 79/5000 [00:00<00:10, 481.91it/s]\n",
            "  3%|▎         | 153/5000 [00:00<00:10, 483.45it/s]\n"
          ]
        },
        {
          "output_type": "stream",
          "name": "stdout",
          "text": [
            "80\n"
          ]
        },
        {
          "output_type": "stream",
          "name": "stderr",
          "text": [
            "  3%|▎         | 126/5000 [00:00<00:16, 289.35it/s]\n",
            "  1%|          | 55/5000 [00:00<00:10, 462.25it/s]\n"
          ]
        },
        {
          "output_type": "stream",
          "name": "stdout",
          "text": [
            "81\n"
          ]
        },
        {
          "output_type": "stream",
          "name": "stderr",
          "text": [
            "  2%|▏         | 115/5000 [00:00<00:09, 488.64it/s]\n",
            "  2%|▏         | 105/5000 [00:00<00:10, 470.17it/s]\n"
          ]
        },
        {
          "output_type": "stream",
          "name": "stdout",
          "text": [
            "82\n",
            "82\n"
          ]
        },
        {
          "output_type": "stream",
          "name": "stderr",
          "text": [
            "  2%|▎         | 125/5000 [00:00<00:10, 479.10it/s]\n",
            "  1%|          | 53/5000 [00:00<00:10, 449.87it/s]\n"
          ]
        },
        {
          "output_type": "stream",
          "name": "stdout",
          "text": [
            "83\n"
          ]
        },
        {
          "output_type": "stream",
          "name": "stderr",
          "text": [
            "  1%|          | 49/5000 [00:00<00:10, 484.43it/s]\n",
            "  5%|▌         | 262/5000 [00:00<00:09, 478.70it/s]\n"
          ]
        },
        {
          "output_type": "stream",
          "name": "stdout",
          "text": [
            "84\n"
          ]
        },
        {
          "output_type": "stream",
          "name": "stderr",
          "text": [
            "  1%|          | 52/5000 [00:00<00:15, 326.60it/s]\n",
            "  1%|▏         | 72/5000 [00:00<00:13, 354.33it/s]\n"
          ]
        },
        {
          "output_type": "stream",
          "name": "stdout",
          "text": [
            "85\n"
          ]
        },
        {
          "output_type": "stream",
          "name": "stderr",
          "text": [
            "  1%|          | 26/5000 [00:00<00:12, 384.57it/s]\n",
            "  0%|          | 8/5000 [00:00<00:19, 255.75it/s]\n"
          ]
        },
        {
          "output_type": "stream",
          "name": "stdout",
          "text": [
            "86\n"
          ]
        },
        {
          "output_type": "stream",
          "name": "stderr",
          "text": [
            "  2%|▏         | 97/5000 [00:00<00:12, 401.84it/s]\n",
            "  2%|▏         | 85/5000 [00:00<00:12, 381.57it/s]\n"
          ]
        },
        {
          "output_type": "stream",
          "name": "stdout",
          "text": [
            "87\n"
          ]
        },
        {
          "output_type": "stream",
          "name": "stderr",
          "text": [
            "  2%|▏         | 89/5000 [00:00<00:13, 357.67it/s]\n",
            "  2%|▏         | 95/5000 [00:00<00:12, 391.85it/s]\n"
          ]
        },
        {
          "output_type": "stream",
          "name": "stdout",
          "text": [
            "88\n"
          ]
        },
        {
          "output_type": "stream",
          "name": "stderr",
          "text": [
            "  2%|▏         | 105/5000 [00:00<00:12, 394.08it/s]\n",
            "  1%|          | 59/5000 [00:00<00:13, 360.46it/s]\n"
          ]
        },
        {
          "output_type": "stream",
          "name": "stdout",
          "text": [
            "89\n"
          ]
        },
        {
          "output_type": "stream",
          "name": "stderr",
          "text": [
            "  2%|▏         | 96/5000 [00:00<00:13, 375.38it/s]\n",
            "  2%|▏         | 112/5000 [00:00<00:11, 420.57it/s]\n"
          ]
        },
        {
          "output_type": "stream",
          "name": "stdout",
          "text": [
            "90\n"
          ]
        },
        {
          "output_type": "stream",
          "name": "stderr",
          "text": [
            "  3%|▎         | 172/5000 [00:00<00:09, 483.29it/s]\n",
            "  4%|▍         | 222/5000 [00:00<00:09, 479.99it/s]\n"
          ]
        },
        {
          "output_type": "stream",
          "name": "stdout",
          "text": [
            "91\n"
          ]
        },
        {
          "output_type": "stream",
          "name": "stderr",
          "text": [
            "  3%|▎         | 144/5000 [00:00<00:09, 492.35it/s]\n",
            "  6%|▌         | 305/5000 [00:00<00:09, 482.06it/s]\n"
          ]
        },
        {
          "output_type": "stream",
          "name": "stdout",
          "text": [
            "92\n"
          ]
        },
        {
          "output_type": "stream",
          "name": "stderr",
          "text": [
            "  4%|▍         | 225/5000 [00:00<00:10, 476.65it/s]\n",
            "  2%|▏         | 117/5000 [00:00<00:10, 483.84it/s]\n"
          ]
        },
        {
          "output_type": "stream",
          "name": "stdout",
          "text": [
            "93\n"
          ]
        },
        {
          "output_type": "stream",
          "name": "stderr",
          "text": [
            "  2%|▏         | 76/5000 [00:00<00:10, 473.21it/s]\n",
            "  2%|▏         | 76/5000 [00:00<00:09, 494.64it/s]\n"
          ]
        },
        {
          "output_type": "stream",
          "name": "stdout",
          "text": [
            "94\n"
          ]
        },
        {
          "output_type": "stream",
          "name": "stderr",
          "text": [
            "  2%|▏         | 80/5000 [00:00<00:09, 501.16it/s]\n",
            "  1%|          | 32/5000 [00:00<00:11, 442.31it/s]\n"
          ]
        },
        {
          "output_type": "stream",
          "name": "stdout",
          "text": [
            "95\n"
          ]
        },
        {
          "output_type": "stream",
          "name": "stderr",
          "text": [
            "  3%|▎         | 151/5000 [00:00<00:10, 484.51it/s]\n",
            "  3%|▎         | 168/5000 [00:00<00:10, 458.28it/s]\n"
          ]
        },
        {
          "output_type": "stream",
          "name": "stdout",
          "text": [
            "96\n"
          ]
        },
        {
          "output_type": "stream",
          "name": "stderr",
          "text": [
            "  1%|          | 38/5000 [00:00<00:11, 450.18it/s]\n",
            "  2%|▏         | 79/5000 [00:00<00:11, 432.84it/s]\n"
          ]
        },
        {
          "output_type": "stream",
          "name": "stdout",
          "text": [
            "97\n"
          ]
        },
        {
          "output_type": "stream",
          "name": "stderr",
          "text": [
            "  1%|          | 52/5000 [00:00<00:10, 451.45it/s]\n",
            "  1%|          | 61/5000 [00:00<00:11, 447.57it/s]\n"
          ]
        },
        {
          "output_type": "stream",
          "name": "stdout",
          "text": [
            "98\n"
          ]
        },
        {
          "output_type": "stream",
          "name": "stderr",
          "text": [
            "  3%|▎         | 130/5000 [00:00<00:10, 479.35it/s]\n",
            "  1%|▏         | 68/5000 [00:00<00:10, 454.66it/s]\n"
          ]
        },
        {
          "output_type": "stream",
          "name": "stdout",
          "text": [
            "99\n"
          ]
        },
        {
          "output_type": "stream",
          "name": "stderr",
          "text": [
            "  2%|▏         | 81/5000 [00:00<00:10, 483.12it/s]\n",
            "  1%|          | 53/5000 [00:00<00:10, 452.91it/s]"
          ]
        },
        {
          "output_type": "stream",
          "name": "stdout",
          "text": [
            "avg n_iter for model_relu and model_relu_updated = (111.62, 117.44)\n"
          ]
        },
        {
          "output_type": "stream",
          "name": "stderr",
          "text": [
            "\n"
          ]
        }
      ]
    },
    {
      "cell_type": "code",
      "source": [
        "def attack_cross (tensor, model, eps = 1e-3, n_iter = 5000):\n",
        "    number = 5000\n",
        "    new_tensor = tensor.unsqueeze(0).detach().clone()\n",
        "    new_tensor = new_tensor.to(device = device)\n",
        "    orig_prediction = model(new_tensor).argmax()\n",
        "    #print(f\"Original Prediction: {orig_prediction.item()}\")\n",
        "\n",
        "    for i in tqdm(range(n_iter)):\n",
        "        model.zero_grad()\n",
        "\n",
        "        grad = compute_gradient(func, new_tensor, model = model, target = orig_prediction.item())\n",
        "        #new_tensor = torch.clamp(new_tensor + eps * grad.sign(), -2, 2)\n",
        "        new_tensor = new_tensor + eps * grad.sign()\n",
        "        new_prediction = model(new_tensor).argmax()\n",
        "\n",
        "        if new_prediction != orig_prediction:\n",
        "            #print(f\"New Prediction: {new_prediction.item()}\")\n",
        "            number = i\n",
        "            break\n",
        "    return number, new_tensor"
      ],
      "metadata": {
        "id": "EMzJiFkfRPeF"
      },
      "execution_count": 38,
      "outputs": []
    },
    {
      "cell_type": "code",
      "source": [
        "def new_compute_avg_n_iter_test_cross (model_1, model_2):\n",
        "    sum_1 = 0\n",
        "    sum_2 = 0\n",
        "    correct_predictions_1 = 0\n",
        "    correct_predictions_2 = 0\n",
        "    counter = 0\n",
        "    i = 0\n",
        "    while(counter<100):\n",
        "        model_1_prediction = model_1(test_dataset[i][0].unsqueeze(0).to(device)).argmax()\n",
        "        model_2_prediction = model_2(test_dataset[i][0].unsqueeze(0).to(device)).argmax()\n",
        "        actual = test_dataset[i][1]\n",
        "        print(counter)\n",
        "        if (model_1_prediction == actual and model_2_prediction == actual):\n",
        "            val_1, val_2 = attack_cross(test_dataset[i][0], model_1)\n",
        "            sum_1 += val_1\n",
        "            adv_example_from_model_1 = val_2\n",
        "            adv_example_from_model_1_on_model_2_prediction = model_2(adv_example_from_model_1).argmax()\n",
        "            if (adv_example_from_model_1_on_model_2_prediction == actual):\n",
        "              correct_predictions_2 += 1\n",
        "            val_1, val_2 = attack_cross(test_dataset[i][0], model_2)\n",
        "            sum_2 += val_1\n",
        "            adv_example_from_model_2 = val_2\n",
        "            adv_example_from_model_2_on_model_1_prediction = model_1(adv_example_from_model_2).argmax()\n",
        "            if (adv_example_from_model_2_on_model_1_prediction == actual):\n",
        "              correct_predictions_1 += 1\n",
        "\n",
        "            counter += 1\n",
        "        i += 1\n",
        "    return sum_1/100, sum_2/100, correct_predictions_1, correct_predictions_2"
      ],
      "metadata": {
        "id": "PkJYmy-lOQOa"
      },
      "execution_count": 39,
      "outputs": []
    },
    {
      "cell_type": "code",
      "source": [
        "new_compute_avg_n_iter_test_cross(model_relu, model_siren_updated)"
      ],
      "metadata": {
        "id": "RxY4TpUWOQRR",
        "outputId": "75cb9c00-33d5-4002-a496-bf14dc14125e",
        "colab": {
          "base_uri": "https://localhost:8080/"
        }
      },
      "execution_count": 40,
      "outputs": [
        {
          "output_type": "stream",
          "name": "stdout",
          "text": [
            "0\n"
          ]
        },
        {
          "output_type": "stream",
          "name": "stderr",
          "text": [
            "  2%|▏         | 123/5000 [00:00<00:09, 502.12it/s]\n",
            "  5%|▌         | 266/5000 [00:00<00:10, 444.36it/s]\n"
          ]
        },
        {
          "output_type": "stream",
          "name": "stdout",
          "text": [
            "1\n"
          ]
        },
        {
          "output_type": "stream",
          "name": "stderr",
          "text": [
            "  3%|▎         | 162/5000 [00:00<00:09, 508.47it/s]\n",
            "  3%|▎         | 131/5000 [00:00<00:11, 419.65it/s]\n"
          ]
        },
        {
          "output_type": "stream",
          "name": "stdout",
          "text": [
            "2\n"
          ]
        },
        {
          "output_type": "stream",
          "name": "stderr",
          "text": [
            "  1%|▏         | 72/5000 [00:00<00:10, 482.23it/s]\n",
            "  3%|▎         | 152/5000 [00:00<00:11, 435.87it/s]\n"
          ]
        },
        {
          "output_type": "stream",
          "name": "stdout",
          "text": [
            "3\n"
          ]
        },
        {
          "output_type": "stream",
          "name": "stderr",
          "text": [
            "  3%|▎         | 160/5000 [00:00<00:10, 482.76it/s]\n",
            "  3%|▎         | 137/5000 [00:00<00:11, 412.85it/s]\n"
          ]
        },
        {
          "output_type": "stream",
          "name": "stdout",
          "text": [
            "4\n"
          ]
        },
        {
          "output_type": "stream",
          "name": "stderr",
          "text": [
            "  2%|▏         | 87/5000 [00:00<00:09, 510.14it/s]\n",
            "100%|██████████| 5000/5000 [00:11<00:00, 418.59it/s]\n"
          ]
        },
        {
          "output_type": "stream",
          "name": "stdout",
          "text": [
            "5\n"
          ]
        },
        {
          "output_type": "stream",
          "name": "stderr",
          "text": [
            "  2%|▏         | 108/5000 [00:00<00:09, 498.38it/s]\n",
            " 13%|█▎        | 673/5000 [00:01<00:09, 441.52it/s]\n"
          ]
        },
        {
          "output_type": "stream",
          "name": "stdout",
          "text": [
            "6\n"
          ]
        },
        {
          "output_type": "stream",
          "name": "stderr",
          "text": [
            "  1%|          | 56/5000 [00:00<00:11, 441.29it/s]\n",
            "  0%|          | 20/5000 [00:00<00:11, 435.22it/s]\n"
          ]
        },
        {
          "output_type": "stream",
          "name": "stdout",
          "text": [
            "7\n"
          ]
        },
        {
          "output_type": "stream",
          "name": "stderr",
          "text": [
            "  1%|          | 33/5000 [00:00<00:10, 490.86it/s]\n",
            "  0%|          | 22/5000 [00:00<00:11, 420.61it/s]\n"
          ]
        },
        {
          "output_type": "stream",
          "name": "stdout",
          "text": [
            "8\n"
          ]
        },
        {
          "output_type": "stream",
          "name": "stderr",
          "text": [
            "  1%|          | 54/5000 [00:00<00:09, 498.12it/s]\n",
            "  1%|          | 31/5000 [00:00<00:10, 452.75it/s]\n"
          ]
        },
        {
          "output_type": "stream",
          "name": "stdout",
          "text": [
            "9\n"
          ]
        },
        {
          "output_type": "stream",
          "name": "stderr",
          "text": [
            "  1%|          | 51/5000 [00:00<00:10, 479.53it/s]\n",
            "  1%|          | 36/5000 [00:00<00:10, 451.67it/s]\n"
          ]
        },
        {
          "output_type": "stream",
          "name": "stdout",
          "text": [
            "10\n"
          ]
        },
        {
          "output_type": "stream",
          "name": "stderr",
          "text": [
            "  4%|▎         | 184/5000 [00:00<00:09, 482.42it/s]\n",
            "100%|██████████| 5000/5000 [00:11<00:00, 417.78it/s]\n"
          ]
        },
        {
          "output_type": "stream",
          "name": "stdout",
          "text": [
            "11\n"
          ]
        },
        {
          "output_type": "stream",
          "name": "stderr",
          "text": [
            "  2%|▏         | 102/5000 [00:00<00:10, 465.67it/s]\n",
            " 74%|███████▎  | 3681/5000 [00:08<00:03, 413.54it/s]\n"
          ]
        },
        {
          "output_type": "stream",
          "name": "stdout",
          "text": [
            "12\n"
          ]
        },
        {
          "output_type": "stream",
          "name": "stderr",
          "text": [
            "  2%|▏         | 76/5000 [00:00<00:10, 477.29it/s]\n",
            "  1%|          | 43/5000 [00:00<00:10, 453.95it/s]\n"
          ]
        },
        {
          "output_type": "stream",
          "name": "stdout",
          "text": [
            "13\n"
          ]
        },
        {
          "output_type": "stream",
          "name": "stderr",
          "text": [
            "  3%|▎         | 165/5000 [00:00<00:09, 484.35it/s]\n",
            "100%|██████████| 5000/5000 [00:12<00:00, 399.92it/s]\n"
          ]
        },
        {
          "output_type": "stream",
          "name": "stdout",
          "text": [
            "14\n"
          ]
        },
        {
          "output_type": "stream",
          "name": "stderr",
          "text": [
            "  2%|▏         | 107/5000 [00:00<00:10, 486.81it/s]\n",
            "  1%|▏         | 66/5000 [00:00<00:11, 442.57it/s]\n"
          ]
        },
        {
          "output_type": "stream",
          "name": "stdout",
          "text": [
            "15\n"
          ]
        },
        {
          "output_type": "stream",
          "name": "stderr",
          "text": [
            "  2%|▏         | 80/5000 [00:00<00:09, 503.72it/s]\n",
            "  5%|▍         | 230/5000 [00:00<00:10, 434.06it/s]\n"
          ]
        },
        {
          "output_type": "stream",
          "name": "stdout",
          "text": [
            "16\n"
          ]
        },
        {
          "output_type": "stream",
          "name": "stderr",
          "text": [
            "  2%|▏         | 77/5000 [00:00<00:10, 483.78it/s]\n",
            "  1%|          | 37/5000 [00:00<00:10, 459.54it/s]\n"
          ]
        },
        {
          "output_type": "stream",
          "name": "stdout",
          "text": [
            "17\n"
          ]
        },
        {
          "output_type": "stream",
          "name": "stderr",
          "text": [
            "  2%|▏         | 110/5000 [00:00<00:10, 477.34it/s]\n",
            "  4%|▍         | 218/5000 [00:00<00:10, 444.37it/s]\n"
          ]
        },
        {
          "output_type": "stream",
          "name": "stdout",
          "text": [
            "18\n",
            "18\n"
          ]
        },
        {
          "output_type": "stream",
          "name": "stderr",
          "text": [
            "  3%|▎         | 161/5000 [00:00<00:09, 506.80it/s]\n",
            "100%|██████████| 5000/5000 [00:11<00:00, 419.04it/s]\n"
          ]
        },
        {
          "output_type": "stream",
          "name": "stdout",
          "text": [
            "19\n"
          ]
        },
        {
          "output_type": "stream",
          "name": "stderr",
          "text": [
            "  1%|          | 33/5000 [00:00<00:10, 451.78it/s]\n",
            "  1%|          | 27/5000 [00:00<00:11, 417.86it/s]\n"
          ]
        },
        {
          "output_type": "stream",
          "name": "stdout",
          "text": [
            "20\n"
          ]
        },
        {
          "output_type": "stream",
          "name": "stderr",
          "text": [
            "  1%|          | 58/5000 [00:00<00:10, 459.80it/s]\n",
            "  1%|▏         | 66/5000 [00:00<00:12, 403.84it/s]\n"
          ]
        },
        {
          "output_type": "stream",
          "name": "stdout",
          "text": [
            "21\n"
          ]
        },
        {
          "output_type": "stream",
          "name": "stderr",
          "text": [
            "  2%|▏         | 87/5000 [00:00<00:10, 463.29it/s]\n",
            "100%|██████████| 5000/5000 [00:11<00:00, 426.74it/s]\n"
          ]
        },
        {
          "output_type": "stream",
          "name": "stdout",
          "text": [
            "22\n"
          ]
        },
        {
          "output_type": "stream",
          "name": "stderr",
          "text": [
            "  3%|▎         | 172/5000 [00:00<00:09, 483.60it/s]\n",
            "  7%|▋         | 361/5000 [00:00<00:11, 416.59it/s]\n"
          ]
        },
        {
          "output_type": "stream",
          "name": "stdout",
          "text": [
            "23\n"
          ]
        },
        {
          "output_type": "stream",
          "name": "stderr",
          "text": [
            "  1%|▏         | 73/5000 [00:00<00:10, 465.06it/s]\n",
            "  2%|▏         | 84/5000 [00:00<00:13, 371.96it/s]\n"
          ]
        },
        {
          "output_type": "stream",
          "name": "stdout",
          "text": [
            "24\n"
          ]
        },
        {
          "output_type": "stream",
          "name": "stderr",
          "text": [
            "  4%|▍         | 212/5000 [00:00<00:09, 496.84it/s]\n",
            "  5%|▍         | 240/5000 [00:00<00:11, 421.61it/s]\n"
          ]
        },
        {
          "output_type": "stream",
          "name": "stdout",
          "text": [
            "25\n"
          ]
        },
        {
          "output_type": "stream",
          "name": "stderr",
          "text": [
            "  2%|▏         | 120/5000 [00:00<00:12, 379.34it/s]\n",
            " 94%|█████████▍| 4701/5000 [00:11<00:00, 420.77it/s]\n"
          ]
        },
        {
          "output_type": "stream",
          "name": "stdout",
          "text": [
            "26\n"
          ]
        },
        {
          "output_type": "stream",
          "name": "stderr",
          "text": [
            "  2%|▏         | 119/5000 [00:00<00:09, 497.11it/s]\n",
            "100%|██████████| 5000/5000 [00:11<00:00, 419.55it/s]\n"
          ]
        },
        {
          "output_type": "stream",
          "name": "stdout",
          "text": [
            "27\n"
          ]
        },
        {
          "output_type": "stream",
          "name": "stderr",
          "text": [
            "  4%|▍         | 204/5000 [00:00<00:09, 483.30it/s]\n",
            "100%|██████████| 5000/5000 [00:12<00:00, 414.93it/s]\n"
          ]
        },
        {
          "output_type": "stream",
          "name": "stdout",
          "text": [
            "28\n"
          ]
        },
        {
          "output_type": "stream",
          "name": "stderr",
          "text": [
            "  1%|▏         | 71/5000 [00:00<00:10, 455.97it/s]\n",
            "  2%|▏         | 94/5000 [00:00<00:12, 399.43it/s]\n"
          ]
        },
        {
          "output_type": "stream",
          "name": "stdout",
          "text": [
            "29\n"
          ]
        },
        {
          "output_type": "stream",
          "name": "stderr",
          "text": [
            "  3%|▎         | 151/5000 [00:00<00:13, 369.57it/s]\n",
            "  3%|▎         | 161/5000 [00:00<00:14, 335.22it/s]\n"
          ]
        },
        {
          "output_type": "stream",
          "name": "stdout",
          "text": [
            "30\n"
          ]
        },
        {
          "output_type": "stream",
          "name": "stderr",
          "text": [
            "  2%|▏         | 90/5000 [00:00<00:13, 358.85it/s]\n",
            "  1%|          | 54/5000 [00:00<00:16, 301.57it/s]\n"
          ]
        },
        {
          "output_type": "stream",
          "name": "stdout",
          "text": [
            "31\n"
          ]
        },
        {
          "output_type": "stream",
          "name": "stderr",
          "text": [
            "  2%|▏         | 123/5000 [00:00<00:12, 393.42it/s]\n",
            "100%|██████████| 5000/5000 [00:12<00:00, 404.51it/s]\n"
          ]
        },
        {
          "output_type": "stream",
          "name": "stdout",
          "text": [
            "32\n",
            "32\n"
          ]
        },
        {
          "output_type": "stream",
          "name": "stderr",
          "text": [
            "  3%|▎         | 129/5000 [00:00<00:12, 390.30it/s]\n",
            "  5%|▍         | 244/5000 [00:00<00:11, 430.60it/s]\n"
          ]
        },
        {
          "output_type": "stream",
          "name": "stdout",
          "text": [
            "33\n"
          ]
        },
        {
          "output_type": "stream",
          "name": "stderr",
          "text": [
            "  3%|▎         | 142/5000 [00:00<00:09, 487.31it/s]\n",
            "  2%|▏         | 107/5000 [00:00<00:11, 425.84it/s]\n"
          ]
        },
        {
          "output_type": "stream",
          "name": "stdout",
          "text": [
            "34\n"
          ]
        },
        {
          "output_type": "stream",
          "name": "stderr",
          "text": [
            "  3%|▎         | 128/5000 [00:00<00:09, 490.66it/s]\n",
            " 14%|█▍        | 705/5000 [00:01<00:09, 441.78it/s]\n"
          ]
        },
        {
          "output_type": "stream",
          "name": "stdout",
          "text": [
            "35\n"
          ]
        },
        {
          "output_type": "stream",
          "name": "stderr",
          "text": [
            "  2%|▏         | 116/5000 [00:00<00:10, 466.57it/s]\n",
            "  1%|          | 55/5000 [00:00<00:11, 437.69it/s]\n"
          ]
        },
        {
          "output_type": "stream",
          "name": "stdout",
          "text": [
            "36\n"
          ]
        },
        {
          "output_type": "stream",
          "name": "stderr",
          "text": [
            "  2%|▏         | 103/5000 [00:00<00:09, 507.05it/s]\n",
            "  3%|▎         | 136/5000 [00:00<00:11, 436.10it/s]\n"
          ]
        },
        {
          "output_type": "stream",
          "name": "stdout",
          "text": [
            "37\n"
          ]
        },
        {
          "output_type": "stream",
          "name": "stderr",
          "text": [
            "  2%|▏         | 80/5000 [00:00<00:11, 438.90it/s]\n",
            " 15%|█▍        | 737/5000 [00:01<00:10, 414.15it/s]\n"
          ]
        },
        {
          "output_type": "stream",
          "name": "stdout",
          "text": [
            "38\n"
          ]
        },
        {
          "output_type": "stream",
          "name": "stderr",
          "text": [
            "  1%|▏         | 71/5000 [00:00<00:10, 488.80it/s]\n",
            "  1%|          | 46/5000 [00:00<00:13, 379.67it/s]\n"
          ]
        },
        {
          "output_type": "stream",
          "name": "stdout",
          "text": [
            "39\n"
          ]
        },
        {
          "output_type": "stream",
          "name": "stderr",
          "text": [
            "  2%|▏         | 98/5000 [00:00<00:09, 500.49it/s]\n",
            "  3%|▎         | 142/5000 [00:00<00:11, 440.27it/s]\n"
          ]
        },
        {
          "output_type": "stream",
          "name": "stdout",
          "text": [
            "40\n"
          ]
        },
        {
          "output_type": "stream",
          "name": "stderr",
          "text": [
            "  2%|▏         | 114/5000 [00:00<00:10, 464.51it/s]\n",
            "100%|██████████| 5000/5000 [00:12<00:00, 412.61it/s]\n"
          ]
        },
        {
          "output_type": "stream",
          "name": "stdout",
          "text": [
            "41\n"
          ]
        },
        {
          "output_type": "stream",
          "name": "stderr",
          "text": [
            "  2%|▏         | 111/5000 [00:00<00:10, 472.46it/s]\n",
            "100%|██████████| 5000/5000 [00:12<00:00, 415.43it/s]\n"
          ]
        },
        {
          "output_type": "stream",
          "name": "stdout",
          "text": [
            "42\n"
          ]
        },
        {
          "output_type": "stream",
          "name": "stderr",
          "text": [
            "  2%|▏         | 97/5000 [00:00<00:10, 480.04it/s]\n",
            "100%|██████████| 5000/5000 [00:11<00:00, 417.05it/s]\n"
          ]
        },
        {
          "output_type": "stream",
          "name": "stdout",
          "text": [
            "43\n"
          ]
        },
        {
          "output_type": "stream",
          "name": "stderr",
          "text": [
            "  2%|▏         | 113/5000 [00:00<00:09, 496.70it/s]\n",
            "100%|██████████| 5000/5000 [00:11<00:00, 418.56it/s]\n"
          ]
        },
        {
          "output_type": "stream",
          "name": "stdout",
          "text": [
            "44\n"
          ]
        },
        {
          "output_type": "stream",
          "name": "stderr",
          "text": [
            "  2%|▏         | 85/5000 [00:00<00:10, 463.93it/s]\n",
            "  1%|          | 51/5000 [00:00<00:11, 419.33it/s]\n"
          ]
        },
        {
          "output_type": "stream",
          "name": "stdout",
          "text": [
            "45\n"
          ]
        },
        {
          "output_type": "stream",
          "name": "stderr",
          "text": [
            "  3%|▎         | 139/5000 [00:00<00:10, 480.11it/s]\n",
            "100%|██████████| 5000/5000 [00:11<00:00, 420.48it/s]\n"
          ]
        },
        {
          "output_type": "stream",
          "name": "stdout",
          "text": [
            "46\n"
          ]
        },
        {
          "output_type": "stream",
          "name": "stderr",
          "text": [
            "  2%|▏         | 75/5000 [00:00<00:09, 492.65it/s]\n",
            "100%|██████████| 5000/5000 [00:11<00:00, 417.26it/s]\n"
          ]
        },
        {
          "output_type": "stream",
          "name": "stdout",
          "text": [
            "47\n"
          ]
        },
        {
          "output_type": "stream",
          "name": "stderr",
          "text": [
            "  3%|▎         | 153/5000 [00:00<00:09, 489.59it/s]\n",
            "100%|██████████| 5000/5000 [00:12<00:00, 413.54it/s]\n"
          ]
        },
        {
          "output_type": "stream",
          "name": "stdout",
          "text": [
            "48\n"
          ]
        },
        {
          "output_type": "stream",
          "name": "stderr",
          "text": [
            "  2%|▏         | 95/5000 [00:00<00:09, 496.71it/s]\n",
            "  2%|▏         | 109/5000 [00:00<00:11, 437.43it/s]\n"
          ]
        },
        {
          "output_type": "stream",
          "name": "stdout",
          "text": [
            "49\n"
          ]
        },
        {
          "output_type": "stream",
          "name": "stderr",
          "text": [
            "  3%|▎         | 126/5000 [00:00<00:09, 500.23it/s]\n",
            "100%|██████████| 5000/5000 [00:11<00:00, 419.51it/s]\n"
          ]
        },
        {
          "output_type": "stream",
          "name": "stdout",
          "text": [
            "50\n"
          ]
        },
        {
          "output_type": "stream",
          "name": "stderr",
          "text": [
            "  3%|▎         | 134/5000 [00:00<00:09, 492.79it/s]\n",
            "  2%|▏         | 100/5000 [00:00<00:11, 413.02it/s]\n"
          ]
        },
        {
          "output_type": "stream",
          "name": "stdout",
          "text": [
            "51\n"
          ]
        },
        {
          "output_type": "stream",
          "name": "stderr",
          "text": [
            "  2%|▏         | 110/5000 [00:00<00:09, 506.96it/s]\n",
            "100%|██████████| 5000/5000 [00:12<00:00, 391.30it/s]\n"
          ]
        },
        {
          "output_type": "stream",
          "name": "stdout",
          "text": [
            "52\n"
          ]
        },
        {
          "output_type": "stream",
          "name": "stderr",
          "text": [
            "  3%|▎         | 146/5000 [00:00<00:10, 452.57it/s]\n",
            "  2%|▏         | 78/5000 [00:00<00:11, 421.69it/s]\n"
          ]
        },
        {
          "output_type": "stream",
          "name": "stdout",
          "text": [
            "53\n"
          ]
        },
        {
          "output_type": "stream",
          "name": "stderr",
          "text": [
            "  3%|▎         | 145/5000 [00:00<00:10, 475.61it/s]\n",
            "  1%|▏         | 66/5000 [00:00<00:12, 392.27it/s]\n"
          ]
        },
        {
          "output_type": "stream",
          "name": "stdout",
          "text": [
            "54\n"
          ]
        },
        {
          "output_type": "stream",
          "name": "stderr",
          "text": [
            "  3%|▎         | 155/5000 [00:00<00:10, 459.09it/s]\n",
            "100%|██████████| 5000/5000 [00:11<00:00, 423.70it/s]\n"
          ]
        },
        {
          "output_type": "stream",
          "name": "stdout",
          "text": [
            "55\n"
          ]
        },
        {
          "output_type": "stream",
          "name": "stderr",
          "text": [
            "  2%|▏         | 102/5000 [00:00<00:10, 455.92it/s]\n",
            " 18%|█▊        | 924/5000 [00:02<00:11, 353.05it/s]\n"
          ]
        },
        {
          "output_type": "stream",
          "name": "stdout",
          "text": [
            "56\n"
          ]
        },
        {
          "output_type": "stream",
          "name": "stderr",
          "text": [
            "  2%|▏         | 98/5000 [00:00<00:12, 398.22it/s]\n",
            "  1%|          | 61/5000 [00:00<00:11, 427.52it/s]\n"
          ]
        },
        {
          "output_type": "stream",
          "name": "stdout",
          "text": [
            "57\n"
          ]
        },
        {
          "output_type": "stream",
          "name": "stderr",
          "text": [
            "  2%|▏         | 86/5000 [00:00<00:10, 471.65it/s]\n",
            "  1%|          | 42/5000 [00:00<00:11, 432.71it/s]\n"
          ]
        },
        {
          "output_type": "stream",
          "name": "stdout",
          "text": [
            "58\n"
          ]
        },
        {
          "output_type": "stream",
          "name": "stderr",
          "text": [
            "  2%|▏         | 124/5000 [00:00<00:09, 490.95it/s]\n",
            "  2%|▏         | 95/5000 [00:00<00:11, 440.46it/s]\n"
          ]
        },
        {
          "output_type": "stream",
          "name": "stdout",
          "text": [
            "59\n"
          ]
        },
        {
          "output_type": "stream",
          "name": "stderr",
          "text": [
            "  2%|▏         | 98/5000 [00:00<00:10, 488.12it/s]\n",
            "  5%|▍         | 242/5000 [00:00<00:10, 439.30it/s]\n"
          ]
        },
        {
          "output_type": "stream",
          "name": "stdout",
          "text": [
            "60\n",
            "60\n"
          ]
        },
        {
          "output_type": "stream",
          "name": "stderr",
          "text": [
            "  1%|          | 61/5000 [00:00<00:10, 456.79it/s]\n",
            "100%|██████████| 5000/5000 [00:12<00:00, 414.43it/s]\n"
          ]
        },
        {
          "output_type": "stream",
          "name": "stdout",
          "text": [
            "61\n"
          ]
        },
        {
          "output_type": "stream",
          "name": "stderr",
          "text": [
            "  3%|▎         | 129/5000 [00:00<00:09, 502.86it/s]\n",
            "  4%|▍         | 213/5000 [00:00<00:10, 436.15it/s]\n"
          ]
        },
        {
          "output_type": "stream",
          "name": "stdout",
          "text": [
            "62\n"
          ]
        },
        {
          "output_type": "stream",
          "name": "stderr",
          "text": [
            "  1%|          | 43/5000 [00:00<00:10, 475.31it/s]\n",
            "  1%|          | 35/5000 [00:00<00:11, 445.47it/s]\n"
          ]
        },
        {
          "output_type": "stream",
          "name": "stdout",
          "text": [
            "63\n"
          ]
        },
        {
          "output_type": "stream",
          "name": "stderr",
          "text": [
            "  1%|          | 36/5000 [00:00<00:09, 508.56it/s]\n",
            "  2%|▏         | 115/5000 [00:00<00:10, 459.75it/s]\n"
          ]
        },
        {
          "output_type": "stream",
          "name": "stdout",
          "text": [
            "64\n"
          ]
        },
        {
          "output_type": "stream",
          "name": "stderr",
          "text": [
            "  2%|▏         | 121/5000 [00:00<00:10, 483.43it/s]\n",
            "100%|██████████| 5000/5000 [00:11<00:00, 418.44it/s]\n"
          ]
        },
        {
          "output_type": "stream",
          "name": "stdout",
          "text": [
            "65\n"
          ]
        },
        {
          "output_type": "stream",
          "name": "stderr",
          "text": [
            "  3%|▎         | 130/5000 [00:00<00:10, 472.30it/s]\n",
            "100%|██████████| 5000/5000 [00:11<00:00, 419.63it/s]\n"
          ]
        },
        {
          "output_type": "stream",
          "name": "stdout",
          "text": [
            "66\n"
          ]
        },
        {
          "output_type": "stream",
          "name": "stderr",
          "text": [
            "  3%|▎         | 169/5000 [00:00<00:10, 482.12it/s]\n",
            "100%|██████████| 5000/5000 [00:11<00:00, 417.99it/s]\n"
          ]
        },
        {
          "output_type": "stream",
          "name": "stdout",
          "text": [
            "67\n"
          ]
        },
        {
          "output_type": "stream",
          "name": "stderr",
          "text": [
            "  2%|▏         | 114/5000 [00:00<00:10, 467.72it/s]\n",
            "  4%|▍         | 221/5000 [00:00<00:10, 438.99it/s]\n"
          ]
        },
        {
          "output_type": "stream",
          "name": "stdout",
          "text": [
            "68\n"
          ]
        },
        {
          "output_type": "stream",
          "name": "stderr",
          "text": [
            "  5%|▌         | 265/5000 [00:00<00:09, 478.67it/s]\n",
            "100%|██████████| 5000/5000 [00:11<00:00, 419.70it/s]\n"
          ]
        },
        {
          "output_type": "stream",
          "name": "stdout",
          "text": [
            "69\n"
          ]
        },
        {
          "output_type": "stream",
          "name": "stderr",
          "text": [
            "  3%|▎         | 145/5000 [00:00<00:10, 479.89it/s]\n",
            "100%|██████████| 5000/5000 [00:12<00:00, 412.90it/s]\n"
          ]
        },
        {
          "output_type": "stream",
          "name": "stdout",
          "text": [
            "70\n",
            "70\n"
          ]
        },
        {
          "output_type": "stream",
          "name": "stderr",
          "text": [
            "  2%|▏         | 111/5000 [00:00<00:09, 500.03it/s]\n",
            "  1%|          | 41/5000 [00:00<00:11, 437.84it/s]\n"
          ]
        },
        {
          "output_type": "stream",
          "name": "stdout",
          "text": [
            "71\n"
          ]
        },
        {
          "output_type": "stream",
          "name": "stderr",
          "text": [
            "  2%|▏         | 118/5000 [00:00<00:10, 475.43it/s]\n",
            " 49%|████▊     | 2435/5000 [00:06<00:06, 401.25it/s]\n"
          ]
        },
        {
          "output_type": "stream",
          "name": "stdout",
          "text": [
            "72\n"
          ]
        },
        {
          "output_type": "stream",
          "name": "stderr",
          "text": [
            "  2%|▏         | 117/5000 [00:00<00:13, 356.74it/s]\n",
            "100%|██████████| 5000/5000 [00:12<00:00, 407.88it/s]\n"
          ]
        },
        {
          "output_type": "stream",
          "name": "stdout",
          "text": [
            "73\n"
          ]
        },
        {
          "output_type": "stream",
          "name": "stderr",
          "text": [
            "  2%|▏         | 120/5000 [00:00<00:14, 337.89it/s]\n",
            "100%|██████████| 5000/5000 [00:12<00:00, 414.40it/s]\n"
          ]
        },
        {
          "output_type": "stream",
          "name": "stdout",
          "text": [
            "74\n"
          ]
        },
        {
          "output_type": "stream",
          "name": "stderr",
          "text": [
            "  1%|          | 30/5000 [00:00<00:14, 337.58it/s]\n",
            "  1%|          | 29/5000 [00:00<00:17, 291.38it/s]\n"
          ]
        },
        {
          "output_type": "stream",
          "name": "stdout",
          "text": [
            "75\n"
          ]
        },
        {
          "output_type": "stream",
          "name": "stderr",
          "text": [
            "  3%|▎         | 142/5000 [00:00<00:09, 487.23it/s]\n",
            "100%|██████████| 5000/5000 [00:12<00:00, 410.92it/s]\n"
          ]
        },
        {
          "output_type": "stream",
          "name": "stdout",
          "text": [
            "76\n"
          ]
        },
        {
          "output_type": "stream",
          "name": "stderr",
          "text": [
            "  1%|          | 54/5000 [00:00<00:10, 469.76it/s]\n",
            " 59%|█████▊    | 2935/5000 [00:06<00:04, 424.98it/s]\n"
          ]
        },
        {
          "output_type": "stream",
          "name": "stdout",
          "text": [
            "77\n"
          ]
        },
        {
          "output_type": "stream",
          "name": "stderr",
          "text": [
            "  1%|          | 57/5000 [00:00<00:10, 458.00it/s]\n",
            "100%|██████████| 5000/5000 [00:12<00:00, 408.44it/s]\n"
          ]
        },
        {
          "output_type": "stream",
          "name": "stdout",
          "text": [
            "78\n"
          ]
        },
        {
          "output_type": "stream",
          "name": "stderr",
          "text": [
            "  5%|▍         | 234/5000 [00:00<00:09, 495.71it/s]\n",
            "100%|██████████| 5000/5000 [00:12<00:00, 408.67it/s]\n"
          ]
        },
        {
          "output_type": "stream",
          "name": "stdout",
          "text": [
            "79\n"
          ]
        },
        {
          "output_type": "stream",
          "name": "stderr",
          "text": [
            "  2%|▏         | 114/5000 [00:00<00:11, 431.17it/s]\n",
            "  5%|▌         | 268/5000 [00:00<00:11, 400.98it/s]\n"
          ]
        },
        {
          "output_type": "stream",
          "name": "stdout",
          "text": [
            "80\n"
          ]
        },
        {
          "output_type": "stream",
          "name": "stderr",
          "text": [
            "  3%|▎         | 128/5000 [00:00<00:10, 461.06it/s]\n",
            "  2%|▎         | 125/5000 [00:00<00:11, 418.83it/s]\n"
          ]
        },
        {
          "output_type": "stream",
          "name": "stdout",
          "text": [
            "81\n"
          ]
        },
        {
          "output_type": "stream",
          "name": "stderr",
          "text": [
            "  3%|▎         | 136/5000 [00:00<00:10, 471.11it/s]\n",
            "  2%|▏         | 80/5000 [00:00<00:11, 420.96it/s]\n"
          ]
        },
        {
          "output_type": "stream",
          "name": "stdout",
          "text": [
            "82\n"
          ]
        },
        {
          "output_type": "stream",
          "name": "stderr",
          "text": [
            "  3%|▎         | 138/5000 [00:00<00:14, 336.63it/s]\n",
            " 39%|███▉      | 1970/5000 [00:05<00:07, 383.24it/s]\n"
          ]
        },
        {
          "output_type": "stream",
          "name": "stdout",
          "text": [
            "83\n"
          ]
        },
        {
          "output_type": "stream",
          "name": "stderr",
          "text": [
            "  1%|▏         | 73/5000 [00:00<00:10, 460.22it/s]\n",
            "100%|██████████| 5000/5000 [00:12<00:00, 386.66it/s]\n"
          ]
        },
        {
          "output_type": "stream",
          "name": "stdout",
          "text": [
            "84\n"
          ]
        },
        {
          "output_type": "stream",
          "name": "stderr",
          "text": [
            "  3%|▎         | 153/5000 [00:00<00:10, 467.69it/s]\n",
            "  3%|▎         | 158/5000 [00:00<00:11, 416.42it/s]\n"
          ]
        },
        {
          "output_type": "stream",
          "name": "stdout",
          "text": [
            "85\n"
          ]
        },
        {
          "output_type": "stream",
          "name": "stderr",
          "text": [
            "  2%|▏         | 79/5000 [00:00<00:10, 486.86it/s]\n",
            " 19%|█▊        | 932/5000 [00:02<00:09, 432.04it/s]\n"
          ]
        },
        {
          "output_type": "stream",
          "name": "stdout",
          "text": [
            "86\n"
          ]
        },
        {
          "output_type": "stream",
          "name": "stderr",
          "text": [
            "  3%|▎         | 126/5000 [00:00<00:10, 467.51it/s]\n",
            "100%|██████████| 5000/5000 [00:12<00:00, 412.59it/s]\n"
          ]
        },
        {
          "output_type": "stream",
          "name": "stdout",
          "text": [
            "87\n"
          ]
        },
        {
          "output_type": "stream",
          "name": "stderr",
          "text": [
            "  2%|▏         | 115/5000 [00:00<00:10, 477.74it/s]\n",
            " 52%|█████▏    | 2607/5000 [00:06<00:06, 393.09it/s]\n"
          ]
        },
        {
          "output_type": "stream",
          "name": "stdout",
          "text": [
            "88\n"
          ]
        },
        {
          "output_type": "stream",
          "name": "stderr",
          "text": [
            "  0%|          | 21/5000 [00:00<00:11, 446.93it/s]\n",
            "  0%|          | 3/5000 [00:00<00:17, 289.47it/s]\n"
          ]
        },
        {
          "output_type": "stream",
          "name": "stdout",
          "text": [
            "89\n"
          ]
        },
        {
          "output_type": "stream",
          "name": "stderr",
          "text": [
            "  2%|▎         | 125/5000 [00:00<00:10, 483.67it/s]\n",
            "100%|██████████| 5000/5000 [00:12<00:00, 410.20it/s]\n"
          ]
        },
        {
          "output_type": "stream",
          "name": "stdout",
          "text": [
            "90\n"
          ]
        },
        {
          "output_type": "stream",
          "name": "stderr",
          "text": [
            "  1%|          | 49/5000 [00:00<00:11, 431.49it/s]\n",
            "  1%|          | 29/5000 [00:00<00:12, 412.32it/s]\n"
          ]
        },
        {
          "output_type": "stream",
          "name": "stdout",
          "text": [
            "91\n"
          ]
        },
        {
          "output_type": "stream",
          "name": "stderr",
          "text": [
            "  1%|          | 52/5000 [00:00<00:10, 450.00it/s]\n",
            "100%|██████████| 5000/5000 [00:12<00:00, 414.98it/s]\n"
          ]
        },
        {
          "output_type": "stream",
          "name": "stdout",
          "text": [
            "92\n"
          ]
        },
        {
          "output_type": "stream",
          "name": "stderr",
          "text": [
            "  1%|          | 26/5000 [00:00<00:10, 475.09it/s]\n",
            "  1%|          | 40/5000 [00:00<00:10, 453.47it/s]\n"
          ]
        },
        {
          "output_type": "stream",
          "name": "stdout",
          "text": [
            "93\n"
          ]
        },
        {
          "output_type": "stream",
          "name": "stderr",
          "text": [
            "  2%|▏         | 97/5000 [00:00<00:09, 515.04it/s]\n",
            "  1%|          | 47/5000 [00:00<00:11, 419.14it/s]\n"
          ]
        },
        {
          "output_type": "stream",
          "name": "stdout",
          "text": [
            "94\n"
          ]
        },
        {
          "output_type": "stream",
          "name": "stderr",
          "text": [
            "  2%|▏         | 89/5000 [00:00<00:09, 499.41it/s]\n",
            "100%|██████████| 5000/5000 [00:12<00:00, 412.55it/s]\n"
          ]
        },
        {
          "output_type": "stream",
          "name": "stdout",
          "text": [
            "95\n"
          ]
        },
        {
          "output_type": "stream",
          "name": "stderr",
          "text": [
            "  2%|▏         | 105/5000 [00:00<00:10, 470.10it/s]\n",
            "  1%|          | 56/5000 [00:00<00:11, 422.68it/s]\n"
          ]
        },
        {
          "output_type": "stream",
          "name": "stdout",
          "text": [
            "96\n"
          ]
        },
        {
          "output_type": "stream",
          "name": "stderr",
          "text": [
            "  2%|▏         | 96/5000 [00:00<00:10, 461.91it/s]\n",
            "  3%|▎         | 157/5000 [00:00<00:11, 437.03it/s]\n"
          ]
        },
        {
          "output_type": "stream",
          "name": "stdout",
          "text": [
            "97\n"
          ]
        },
        {
          "output_type": "stream",
          "name": "stderr",
          "text": [
            "  3%|▎         | 172/5000 [00:00<00:09, 483.57it/s]\n",
            "100%|██████████| 5000/5000 [00:12<00:00, 416.21it/s]\n"
          ]
        },
        {
          "output_type": "stream",
          "name": "stdout",
          "text": [
            "98\n"
          ]
        },
        {
          "output_type": "stream",
          "name": "stderr",
          "text": [
            "  3%|▎         | 144/5000 [00:00<00:10, 444.02it/s]\n",
            "  5%|▌         | 273/5000 [00:00<00:12, 391.89it/s]\n"
          ]
        },
        {
          "output_type": "stream",
          "name": "stdout",
          "text": [
            "99\n"
          ]
        },
        {
          "output_type": "stream",
          "name": "stderr",
          "text": [
            "  4%|▍         | 225/5000 [00:00<00:10, 472.52it/s]\n",
            "100%|██████████| 5000/5000 [00:11<00:00, 420.40it/s]\n"
          ]
        },
        {
          "output_type": "execute_result",
          "data": {
            "text/plain": [
              "(111.13, 2082.4, 97, 99)"
            ]
          },
          "metadata": {},
          "execution_count": 40
        }
      ]
    },
    {
      "cell_type": "code",
      "source": [],
      "metadata": {
        "id": "uxfhBTPoOQTX"
      },
      "execution_count": null,
      "outputs": []
    },
    {
      "cell_type": "code",
      "source": [],
      "metadata": {
        "id": "qHgn50OHOQVr"
      },
      "execution_count": null,
      "outputs": []
    },
    {
      "cell_type": "code",
      "source": [],
      "metadata": {
        "id": "LToK3zV-OQYU"
      },
      "execution_count": null,
      "outputs": []
    },
    {
      "cell_type": "code",
      "source": [
        "print(f\"avg n_iter for model_relu and model_siren = {new_compute_avg_n_iter_test(model_relu, model_siren)}\")"
      ],
      "metadata": {
        "id": "IF6-7nYyOA5b"
      },
      "execution_count": null,
      "outputs": []
    },
    {
      "cell_type": "code",
      "execution_count": null,
      "metadata": {
        "id": "ImMg41LGCx-s"
      },
      "outputs": [],
      "source": [
        "print(f\"avg n_iter for model_siren = {new_compute_avg_n_iter_test(model_siren)}\")"
      ]
    },
    {
      "cell_type": "code",
      "source": [
        "print(f\"avg n_iter for model_siren_updated = {new_compute_avg_n_iter_test(model_siren_updated)}\")"
      ],
      "metadata": {
        "id": "xKqSVDiuHpCI"
      },
      "execution_count": null,
      "outputs": []
    },
    {
      "cell_type": "code",
      "source": [
        "print(f\"avg n_iter for model_relu_updated = {new_compute_avg_n_iter_test(model_relu_updated)}\")"
      ],
      "metadata": {
        "id": "Lzp_-GCsJXOe"
      },
      "execution_count": null,
      "outputs": []
    }
  ],
  "metadata": {
    "kernelspec": {
      "display_name": "Python 3",
      "name": "python3"
    },
    "language_info": {
      "codemirror_mode": {
        "name": "ipython",
        "version": 3
      },
      "file_extension": ".py",
      "mimetype": "text/x-python",
      "name": "python",
      "nbconvert_exporter": "python",
      "pygments_lexer": "ipython3",
      "version": "3.10.11"
    },
    "orig_nbformat": 4,
    "vscode": {
      "interpreter": {
        "hash": "4c776a2ecdc2cc2d7e5a6cfde1da239e12acde859570ef9b3e6159c9681bea92"
      }
    },
    "colab": {
      "provenance": [],
      "gpuType": "T4"
    },
    "accelerator": "GPU"
  },
  "nbformat": 4,
  "nbformat_minor": 0
}